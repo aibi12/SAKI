{
 "cells": [
  {
   "cell_type": "code",
   "execution_count": 1,
   "metadata": {},
   "outputs": [],
   "source": [
    "import copy\n",
    "import numpy as np\n",
    "from itertools import combinations\n",
    "from itertools import product\n",
    "import mdptoolbox"
   ]
  },
  {
   "cell_type": "markdown",
   "metadata": {},
   "source": [
    "### Training Data 2x3:"
   ]
  },
  {
   "cell_type": "code",
   "execution_count": 2,
   "metadata": {},
   "outputs": [
    {
     "name": "stdout",
     "output_type": "stream",
     "text": [
      "Path exists? True\n"
     ]
    }
   ],
   "source": [
    "import os\n",
    "filename = \"./warehousetraining.txt\"\n",
    "print(\"Path exists? {}\".format(os.path.exists(filename)))"
   ]
  },
  {
   "cell_type": "code",
   "execution_count": 3,
   "metadata": {},
   "outputs": [
    {
     "name": "stdout",
     "output_type": "stream",
     "text": [
      "(12108, 2)\n",
      "[['store' 'red']\n",
      " ['store' 'blue']\n",
      " ['store' 'white']\n",
      " ...\n",
      " ['restore' 'red']\n",
      " ['restore' 'red']\n",
      " ['restore' 'red']]\n"
     ]
    }
   ],
   "source": [
    "# read file into a numpy array \n",
    "import csv\n",
    "raw_data = open(filename, 'rt')\n",
    "reader = csv.reader(raw_data, delimiter='\\t', quoting=csv.QUOTE_NONE)\n",
    "x = list(reader)\n",
    "training_data_2_3 = np.array(x).astype(\"str\")\n",
    "print(training_data_2_3.shape)\n",
    "print(training_data_2_3)"
   ]
  },
  {
   "cell_type": "markdown",
   "metadata": {},
   "source": [
    "### Test Data:"
   ]
  },
  {
   "cell_type": "code",
   "execution_count": 4,
   "metadata": {},
   "outputs": [
    {
     "name": "stdout",
     "output_type": "stream",
     "text": [
      "Path exists? True\n"
     ]
    }
   ],
   "source": [
    "import os\n",
    "filename = \"./warehouseorder.txt\"\n",
    "print(\"Path exists? {}\".format(os.path.exists(filename)))"
   ]
  },
  {
   "cell_type": "code",
   "execution_count": 5,
   "metadata": {},
   "outputs": [
    {
     "name": "stdout",
     "output_type": "stream",
     "text": [
      "(60, 2)\n"
     ]
    }
   ],
   "source": [
    "import csv\n",
    "raw_data = open(filename, 'rt')\n",
    "reader = csv.reader(raw_data, delimiter='\\t', quoting=csv.QUOTE_NONE)\n",
    "x = list(reader)\n",
    "test_data_2_3 = np.array(x).astype(\"str\")\n",
    "print(test_data_2_3.shape)\n",
    "#print(test_data_2_3)"
   ]
  },
  {
   "cell_type": "markdown",
   "metadata": {},
   "source": [
    "### Define States, Actions, Transition probability Matrix and Reward Matrix\n"
   ]
  },
  {
   "cell_type": "code",
   "execution_count": 6,
   "metadata": {},
   "outputs": [],
   "source": [
    "import copy\n",
    "import numpy as np\n",
    "from itertools import combinations\n",
    "from itertools import product\n",
    "\n",
    "\n",
    "class T_R_prepare:\n",
    "    classes = {'red': 1, 'blue': 2, 'white': 3}\n",
    "    state_action = {'store': 5, 'restore': 8}\n",
    "    combinations = None\n",
    "    actions = np.array([[5, 1], [5, 2], [5, 3], [8, 1], [8, 2], [8, 3]])\n",
    "    Action_dict = None\n",
    "\n",
    "    # positions as [#x, #y], initial_training_state as [state_action, classes]\n",
    "    def __init__(self, initial_training_state, positions, number_of_positions, number_of_classes, training_data,\n",
    "                 test_data):\n",
    "\n",
    "        self.num_pos = number_of_positions\n",
    "        self.pos = positions\n",
    "        self.num_class = number_of_classes\n",
    "        self.init_training = initial_training_state\n",
    "        self.training_data = training_data\n",
    "        self.test_data = test_data\n",
    "        self.num_comb = np.power((self.num_class + 1), self.num_pos)\n",
    "        # choose position were to store or restore item\n",
    "        self.Action = np.arange(self.num_pos)\n",
    "        return None\n",
    "\n",
    "    def Action_dict(self):\n",
    "        x, y = self.pos\n",
    "        positions = np.ogrid[1:(x + 1), 1:(y + 1)]\n",
    "        x, y = positions\n",
    "\n",
    "        position_elem = []\n",
    "        for i in range(len(y[0])):\n",
    "            for j in range(len(x)):\n",
    "                position_elem.append([x[j][0], y[0][i]])\n",
    "\n",
    "        position_elem = np.array(position_elem)\n",
    "        a_dict = dict(zip(self.Action, position_elem))\n",
    "\n",
    "        return a_dict\n",
    "\n",
    "    # takes training data in array-format ['store/restore', 'red'] and performs the optimal action on the actual state\n",
    "    # returning the next state and the performed action - for example: ['store/restore', 'red'] --> [0, 0, 0, 0] --> [1, 0, 0, 0], (1,1)\n",
    "    # action is choosing position element of: {(1,1), (1,2), (2,1), ...} - position in warehouse\n",
    "    def store_restore(self, array):\n",
    "\n",
    "        if (array[len(array) - 2] == 5):\n",
    "            if (np.isin(0, array[:len(array) - 2])):\n",
    "                pos = np.sort(np.where(array == 0))[0][0]\n",
    "                array[pos] = array[len(array) - 1]\n",
    "            \n",
    "            else:\n",
    "                pos = self.num_pos\n",
    "\n",
    "        else:\n",
    "            if (np.isin(array[len(array) - 1], array[:len(array) - 2])):\n",
    "                pos = np.sort(np.where(array == array[len(array) - 1]))[0][0]\n",
    "                array[pos] = 0\n",
    "                \n",
    "            else:\n",
    "                pos = self.num_pos\n",
    "\n",
    "        output = array[:len(array) - 2]\n",
    "\n",
    "        return output, pos\n",
    "\n",
    "    # iterates through given data and performs store_restore method for every state in the data\n",
    "    # output: array [[0,0,0,0,5,1],1]       array [[0,0,0,0]\n",
    "    #                [1,0,0,0,5,2],2]              [1,0,0,0]\n",
    "    #                [1,2,0,0,5,3],1] ...],        [1,2,0,0] ...]\n",
    "    def data(self, data):\n",
    "\n",
    "        states = []\n",
    "        combinations = []\n",
    "\n",
    "        states.append(np.concatenate((np.zeros(self.num_pos), self.init_training)).astype(int))\n",
    "        combinations.append(np.zeros(self.num_pos).astype(int))\n",
    "\n",
    "        init = np.concatenate((np.zeros(self.num_pos), self.init_training))\n",
    "\n",
    "        for el in data[-(len(data) - 1):]:\n",
    "            next_combi, action = self.store_restore(init)\n",
    "            combinations.append(np.array(next_combi).astype(int))\n",
    "\n",
    "            next_state_action = [self.state_action[el[0]], self.classes[el[1]]]\n",
    "            next_state = np.concatenate((next_combi, next_state_action))\n",
    "\n",
    "            states.append(np.array(action + 1).astype(int))\n",
    "            states.append(np.array(next_state).astype(int))\n",
    "            init = next_state\n",
    "\n",
    "          # appending action which states for the final state\n",
    "        last_state = copy.copy(states[-1])\n",
    "        \n",
    "        _, last_pos = self.store_restore(last_state)\n",
    "        \n",
    "        states.append(np.array(last_pos).astype(int))\n",
    "\n",
    "\n",
    "        states = np.array(states)\n",
    "        states = states.reshape((int(len(states) / 2), 2))\n",
    "\n",
    "        combinations = np.array(combinations)\n",
    "        self.combinations = copy.copy(combinations)\n",
    "\n",
    "        return states, combinations\n",
    "\n",
    "    def get_training_data(self):\n",
    "        return self.data(self.training_data)\n",
    "\n",
    "    def get_test_data(self):\n",
    "        return self.data(self.test_data)\n",
    "\n",
    "    def states(self):\n",
    "        actions_tile = np.tile(self.actions, (self.num_comb, 1))\n",
    "        states = product([0, 1, 2, 3], repeat = self.num_pos)\n",
    "        states = np.array(list(states))\n",
    "        states = np.repeat(states, 6, axis=0)\n",
    "        states = np.concatenate((states, actions_tile), axis=1)\n",
    "        return states\n",
    "\n",
    "    # computes apriori probabilities of the store/restore actions based on the given training data\n",
    "    def apriori_probs(self):\n",
    "        training_states, _ = self.get_training_data()\n",
    "        apriori = self.actions\n",
    "        apriori_probs = []\n",
    "        for el in apriori:\n",
    "            p = 0\n",
    "\n",
    "            for i in range(len(training_states)):\n",
    "                if (el == training_states[i][0][-2:]).all():\n",
    "                    p = p + 1\n",
    "\n",
    "            p = p / len(training_states)\n",
    "            apriori_probs.append(p)\n",
    "\n",
    "        apriori_probs = np.array(apriori_probs)\n",
    "\n",
    "        assert np.sum(apriori_probs) == 1\n",
    "\n",
    "        apriori_probs_dict = dict(zip(self.totuple(apriori), self.totuple(apriori_probs)))\n",
    "\n",
    "        return apriori_probs_dict\n",
    "\n",
    "    # computes the conditional probabilities of the store/restore actions based on the given training data and apriori probabilities\n",
    "    def conditional_probs(self):\n",
    "\n",
    "        probs = []\n",
    "        training_prob = np.concatenate((np.repeat(self.actions, 6, axis=0), np.tile(self.actions, (6, 1))),\n",
    "                                       axis=1).reshape((36, 2, 2))\n",
    "        training_states, _ = self.get_training_data()\n",
    "\n",
    "        apriori_dict = self.apriori_probs()\n",
    "        for el in training_prob:\n",
    "            p = 0\n",
    "\n",
    "            for i in range(len(training_states) - 1):\n",
    "                if ((el[0] == training_states[i][0][-2:]).all() and (el[1] == training_states[i + 1][0][-2:]).all()):\n",
    "                    p = p + 1\n",
    "\n",
    "            p = p / np.multiply(len(training_states) - 1, apriori_dict[self.totuple(el[0])])\n",
    "            probs.append(p)\n",
    "\n",
    "        probs = np.array(probs)\n",
    "        probs_check = probs.reshape(6, 6)\n",
    "\n",
    "        # normieren\n",
    "        for i in range(6):\n",
    "            probs_check[i] = probs_check[i] / np.sum(probs_check[i])\n",
    "\n",
    "        probs = probs_check.reshape(36, 1)\n",
    "        probs = np.squeeze(probs)\n",
    "        \n",
    "        print(np.sum(probs_check, axis=1))\n",
    "        \n",
    "        #assert (np.sum(probs_check, axis=1) == 1).all()\n",
    "\n",
    "        training_prob_dict = dict(zip(self.totuple(training_prob), self.totuple(probs)))\n",
    "\n",
    "        return training_prob_dict\n",
    "\n",
    "    # from https://stackoverflow.com/questions/10016352/convert-numpy-array-to-tuple/10016379 - totuple function\n",
    "    def totuple(self, a):\n",
    "        try:\n",
    "            return tuple(self.totuple(i) for i in a)\n",
    "        except TypeError:\n",
    "            return a\n",
    "\n"
   ]
  },
  {
   "cell_type": "code",
   "execution_count": 7,
   "metadata": {},
   "outputs": [],
   "source": [
    "states_actions_2_3 = T_R_prepare(np.array([5, 1]), [2, 3], 6, 3, training_data_2_3, test_data_2_3)"
   ]
  },
  {
   "cell_type": "markdown",
   "metadata": {},
   "source": [
    "#### States:"
   ]
  },
  {
   "cell_type": "code",
   "execution_count": 8,
   "metadata": {},
   "outputs": [
    {
     "name": "stdout",
     "output_type": "stream",
     "text": [
      "[[0 0 0 ... 0 5 1]\n",
      " [0 0 0 ... 0 5 2]\n",
      " [0 0 0 ... 0 5 3]\n",
      " ...\n",
      " [3 3 3 ... 3 8 1]\n",
      " [3 3 3 ... 3 8 2]\n",
      " [3 3 3 ... 3 8 3]]\n"
     ]
    }
   ],
   "source": [
    "states = states_actions_2_3.states()\n",
    "print(states)"
   ]
  },
  {
   "cell_type": "markdown",
   "metadata": {},
   "source": [
    "#### Actions:"
   ]
  },
  {
   "cell_type": "code",
   "execution_count": 9,
   "metadata": {},
   "outputs": [
    {
     "name": "stdout",
     "output_type": "stream",
     "text": [
      "{0: array([1, 1]), 1: array([2, 1]), 2: array([1, 2]), 3: array([2, 2]), 4: array([1, 3]), 5: array([2, 3])}\n",
      "[0 1 2 3 4 5]\n"
     ]
    }
   ],
   "source": [
    "Action_dict = states_actions_2_3.Action_dict()\n",
    "Action = states_actions_2_3.Action\n",
    "print(Action_dict)\n",
    "print(Action)"
   ]
  },
  {
   "cell_type": "markdown",
   "metadata": {},
   "source": [
    "#### Training data and probabilities:"
   ]
  },
  {
   "cell_type": "code",
   "execution_count": 10,
   "metadata": {},
   "outputs": [
    {
     "name": "stdout",
     "output_type": "stream",
     "text": [
      "[[array([0, 0, 0, 0, 0, 0, 5, 1]) array(1)]\n",
      " [array([1, 0, 0, 0, 0, 0, 5, 2]) array(2)]\n",
      " [array([1, 2, 0, 0, 0, 0, 5, 3]) array(3)]\n",
      " ...\n",
      " [array([0, 0, 1, 1, 1, 0, 8, 1]) array(3)]\n",
      " [array([0, 0, 0, 1, 1, 0, 8, 1]) array(4)]\n",
      " [array([0, 0, 0, 0, 1, 0, 8, 1]) array(4)]]\n"
     ]
    }
   ],
   "source": [
    "training_states, combinations = states_actions_2_3.get_training_data()\n",
    "print(training_states)"
   ]
  },
  {
   "cell_type": "code",
   "execution_count": 11,
   "metadata": {},
   "outputs": [
    {
     "name": "stdout",
     "output_type": "stream",
     "text": [
      "{(5, 1): 0.24686157912124215, (5, 2): 0.12528906508093823, (5, 3): 0.1278493557978196, (8, 1): 0.24686157912124215, (8, 2): 0.12528906508093823, (8, 3): 0.1278493557978196}\n"
     ]
    }
   ],
   "source": [
    "apriori_probs = states_actions_2_3.apriori_probs()\n",
    "print(apriori_probs)"
   ]
  },
  {
   "cell_type": "code",
   "execution_count": 12,
   "metadata": {},
   "outputs": [
    {
     "name": "stdout",
     "output_type": "stream",
     "text": [
      "[1. 1. 1. 1. 1. 1.]\n",
      "{((5, 1), (5, 1)): 0.33021077283372363, ((5, 1), (5, 2)): 0.16995650719304115, ((5, 1), (5, 3)): 0.17698226831716293, ((5, 1), (8, 1)): 0.21278019404483103, ((5, 1), (8, 2)): 0.05185680829708932, ((5, 1), (8, 3)): 0.058213449314151886, ((5, 2), (5, 1)): 0.3355306526038233, ((5, 2), (5, 2)): 0.1852340145023072, ((5, 2), (5, 3)): 0.16216216216216217, ((5, 2), (8, 1)): 0.15029663810151614, ((5, 2), (8, 2)): 0.10481212920237312, ((5, 2), (8, 3)): 0.06196440342781806, ((5, 3), (5, 1)): 0.330749354005168, ((5, 3), (5, 2)): 0.1640826873385013, ((5, 3), (5, 3)): 0.17571059431524547, ((5, 3), (8, 1)): 0.1479328165374677, ((5, 3), (8, 2)): 0.06330749354005168, ((5, 3), (8, 3)): 0.1182170542635659, ((8, 1), (5, 1)): 0.1459170013386881, ((8, 1), (5, 2)): 0.06626506024096386, ((8, 1), (5, 3)): 0.0679384203480589, ((8, 1), (8, 1)): 0.36244979919678716, ((8, 1), (8, 2)): 0.17704149933065597, ((8, 1), (8, 3)): 0.18038821954484605, ((8, 2), (5, 1)): 0.18061964403427813, ((8, 2), (5, 2)): 0.09360580092287409, ((8, 2), (5, 3)): 0.10547132498352009, ((8, 2), (8, 1)): 0.2531311799604482, ((8, 2), (8, 2)): 0.20632827949901117, ((8, 2), (8, 3)): 0.16084377059986815, ((8, 3), (5, 1)): 0.1744186046511628, ((8, 3), (5, 2)): 0.08656330749354005, ((8, 3), (5, 3)): 0.08914728682170542, ((8, 3), (8, 1)): 0.2771317829457364, ((8, 3), (8, 2)): 0.16989664082687336, ((8, 3), (8, 3)): 0.2028423772609819}\n"
     ]
    }
   ],
   "source": [
    "conditional_probs = states_actions_2_3.conditional_probs()\n",
    "print(conditional_probs)"
   ]
  },
  {
   "cell_type": "markdown",
   "metadata": {},
   "source": [
    "#### Transition Probability Matrix:"
   ]
  },
  {
   "cell_type": "code",
   "execution_count": 13,
   "metadata": {},
   "outputs": [
    {
     "name": "stdout",
     "output_type": "stream",
     "text": [
      "4096\n",
      "6\n"
     ]
    }
   ],
   "source": [
    "num_comb = states_actions_2_3.num_comb\n",
    "num_pos = states_actions_2_3.num_pos\n",
    "print(num_comb)\n",
    "print(num_pos)"
   ]
  },
  {
   "cell_type": "code",
   "execution_count": 14,
   "metadata": {},
   "outputs": [],
   "source": [
    "# computes the transition probability\n",
    "def P(states_i, states_j, action_k):\n",
    "    \n",
    "        \n",
    "        cond_prob_ij = conditional_probs[((states_i[len(states_i) - 2], states_i[len(states_i) - 1]),\n",
    "                                           (states_j[len(states_j) - 2], states_j[len(states_j) - 1]))]\n",
    "\n",
    "        if (states_i[len(states_i) - 2] == 5):\n",
    "            if (states_i[action_k] == 0                        and\n",
    "             states_i[len(states_i) - 1] == states_j[action_k] and\n",
    "            (states_i[:action_k] == states_j[:action_k]).all() and\n",
    "            (states_i[(action_k + 1):-2] == states_j[(action_k + 1):-2]).all()) or \\\n",
    "            (states_i[action_k] != 0 and (states_i[:-2] == states_j[:-2]).all()):\n",
    "                P_ij = 1 * cond_prob_ij\n",
    "\n",
    "            else:\n",
    "                P_ij = 0\n",
    "\n",
    "        else:\n",
    "            if (states_i[action_k] != 0 and states_j[action_k] == 0 and\n",
    "             states_i[len(states_i) - 1] == states_i[action_k]      and\n",
    "            (states_i[:action_k] == states_j[:action_k]).all()      and\n",
    "            (states_i[(action_k + 1):-2] == states_j[(action_k + 1):-2]).all())  or \\\n",
    "            (states_i[action_k] == 0 and (states_i[:-2] == states_j[:-2]).all()) or \\\n",
    "            (states_i[action_k] != 0 and (states_i[:-2] == states_j[:-2]).all()  and\n",
    "             states_i[len(states_i) - 1] != states_i[action_k]):\n",
    "                P_ij = 1 * cond_prob_ij\n",
    "\n",
    "            else:\n",
    "                P_ij = 0\n",
    "\n",
    "        return P_ij"
   ]
  },
  {
   "cell_type": "code",
   "execution_count": 15,
   "metadata": {},
   "outputs": [
    {
     "ename": "KeyboardInterrupt",
     "evalue": "",
     "output_type": "error",
     "traceback": [
      "\u001b[1;31m---------------------------------------------------------------------------\u001b[0m",
      "\u001b[1;31mKeyboardInterrupt\u001b[0m                         Traceback (most recent call last)",
      "\u001b[1;32m<ipython-input-15-f6b4aef7531e>\u001b[0m in \u001b[0;36m<module>\u001b[1;34m\u001b[0m\n\u001b[0;32m     14\u001b[0m                                            (states[j][len(states[j]) - 2], states[j][len(states[j]) - 1]))]\n\u001b[0;32m     15\u001b[0m \u001b[1;33m\u001b[0m\u001b[0m\n\u001b[1;32m---> 16\u001b[1;33m         \u001b[1;32mif\u001b[0m \u001b[1;33m(\u001b[0m\u001b[0mstates\u001b[0m\u001b[1;33m[\u001b[0m\u001b[0mi\u001b[0m\u001b[1;33m]\u001b[0m\u001b[1;33m[\u001b[0m\u001b[1;33m:\u001b[0m\u001b[1;33m-\u001b[0m\u001b[1;36m2\u001b[0m\u001b[1;33m]\u001b[0m \u001b[1;33m==\u001b[0m \u001b[0mstates\u001b[0m\u001b[1;33m[\u001b[0m\u001b[0mj\u001b[0m\u001b[1;33m]\u001b[0m\u001b[1;33m[\u001b[0m\u001b[1;33m:\u001b[0m\u001b[1;33m-\u001b[0m\u001b[1;36m2\u001b[0m\u001b[1;33m]\u001b[0m\u001b[1;33m)\u001b[0m\u001b[1;33m.\u001b[0m\u001b[0mall\u001b[0m\u001b[1;33m(\u001b[0m\u001b[1;33m)\u001b[0m\u001b[1;33m:\u001b[0m\u001b[1;33m\u001b[0m\u001b[1;33m\u001b[0m\u001b[0m\n\u001b[0m\u001b[0;32m     17\u001b[0m             \u001b[0mT7\u001b[0m\u001b[1;33m[\u001b[0m\u001b[0mi\u001b[0m\u001b[1;33m]\u001b[0m\u001b[1;33m[\u001b[0m\u001b[0mj\u001b[0m\u001b[1;33m]\u001b[0m \u001b[1;33m=\u001b[0m \u001b[0mcond_prob_ij\u001b[0m\u001b[1;33m\u001b[0m\u001b[1;33m\u001b[0m\u001b[0m\n\u001b[0;32m     18\u001b[0m \u001b[1;33m\u001b[0m\u001b[0m\n",
      "\u001b[1;31mKeyboardInterrupt\u001b[0m: "
     ]
    }
   ],
   "source": [
    "T1 = np.zeros((num_comb*6, num_comb*6), dtype=np.float16)\n",
    "T2 = np.zeros((num_comb*6, num_comb*6), dtype=np.float16)\n",
    "T3 = np.zeros((num_comb*6, num_comb*6), dtype=np.float16)\n",
    "T4 = np.zeros((num_comb*6, num_comb*6), dtype=np.float16)\n",
    "T5 = np.zeros((num_comb*6, num_comb*6), dtype=np.float16)\n",
    "T6 = np.zeros((num_comb*6, num_comb*6), dtype=np.float16)\n",
    "T7 = np.zeros((num_comb*6, num_comb*6), dtype=np.float16)\n",
    "\n",
    "# Transition Probability Matrix for action doing nothing\n",
    "for i in range(num_comb*6):\n",
    "    for j in range(num_comb*6):\n",
    "        \n",
    "        cond_prob_ij = conditional_probs[((states[i][len(states[i]) - 2], states[i][len(states[i]) - 1]),\n",
    "                                           (states[j][len(states[j]) - 2], states[j][len(states[j]) - 1]))]\n",
    "        \n",
    "        if (states[i][:-2] == states[j][:-2]).all():\n",
    "            T7[i][j] = cond_prob_ij\n",
    "\n",
    "T = np.vstack(([T1], [T2], [T3], [T4], [T5], [T6], [T7]))\n",
    "print(T.shape)"
   ]
  },
  {
   "cell_type": "code",
   "execution_count": null,
   "metadata": {},
   "outputs": [],
   "source": [
    "for k in range(len(Action)):\n",
    "    for i in range(num_comb*6):\n",
    "        for j in range(num_comb*6):\n",
    "            T[k][i][j] = P(states[i], states[j], Action[k])\n"
   ]
  },
  {
   "cell_type": "code",
   "execution_count": 25,
   "metadata": {},
   "outputs": [
    {
     "name": "stdout",
     "output_type": "stream",
     "text": [
      "(array([], dtype=int64),)\n",
      "(array([], dtype=int64),)\n",
      "(array([], dtype=int64),)\n",
      "(array([], dtype=int64),)\n",
      "(array([], dtype=int64),)\n",
      "(array([], dtype=int64),)\n",
      "(array([], dtype=int64),)\n"
     ]
    }
   ],
   "source": [
    "for i in range(7):\n",
    "    indx1 = np.where(np.sum(T[i], axis = 1) !=1)\n",
    "    for j in range(num_comb*6):\n",
    "        T[i][indx1,j] = T[i][indx1,j]/np.sum(T[i][indx1])\n",
    "\n",
    "for i in range(7):\n",
    "    indx1 = np.where(np.sum(T[i], axis = 1) !=1)\n",
    "    print(indx1)"
   ]
  },
  {
   "cell_type": "markdown",
   "metadata": {},
   "source": [
    "#### Reward:"
   ]
  },
  {
   "cell_type": "code",
   "execution_count": 15,
   "metadata": {},
   "outputs": [],
   "source": [
    "def r(state_i, action_k):\n",
    "        \n",
    "    if action_k < num_pos:\n",
    "            \n",
    "        actionk = np.sum(Action_dict[action_k])\n",
    "            \n",
    "        if (state_i[-2] == 5):\n",
    "            if (state_i[action_k] == 0):\n",
    "                R_i = 1/actionk*10\n",
    "                \n",
    "            elif(state_i[:num_pos] != 0).all() or (state_i[action_k] != 0):\n",
    "                R_i = -100\n",
    "                \n",
    "            else:\n",
    "                R_i = -1\n",
    "\n",
    "        else:\n",
    "            if (state_i[action_k] != 0 and state_i[-1] == state_i[action_k]):\n",
    "                R_i = 1/actionk*10\n",
    "                                \n",
    "            elif (state_i[action_k] != 0 and state_i[-1] != state_i[action_k]) or (state_i[:num_pos] == 0).all():\n",
    "                R_i = -100 \n",
    "                \n",
    "            else:\n",
    "                R_i = -1\n",
    "        \n",
    "    else:\n",
    "            \n",
    "        if (state_i[-2] == 5):\n",
    "            if (state_i[:num_pos] == 0).any():\n",
    "                R_i = -100\n",
    "                \n",
    "            elif(state_i[:num_pos] != 0).all():\n",
    "                R_i = 1\n",
    "                \n",
    "            else:\n",
    "                R_i = -50\n",
    "\n",
    "        else:\n",
    "            if (state_i[:num_pos] != 0).any():\n",
    "                R_i = -50\n",
    "                                \n",
    "            elif (state_i[:num_pos] == 0).all():\n",
    "                R_i = 1\n",
    "                \n",
    "            else:\n",
    "                R_i = -50\n",
    "            \n",
    "            \n",
    "    return R_i"
   ]
  },
  {
   "cell_type": "code",
   "execution_count": 16,
   "metadata": {},
   "outputs": [
    {
     "name": "stdout",
     "output_type": "stream",
     "text": [
      "[[   5.            3.33333333    3.33333333 ...    2.5\n",
      "     2.         -100.        ]\n",
      " [   5.            3.33333333    3.33333333 ...    2.5\n",
      "     2.         -100.        ]\n",
      " [   5.            3.33333333    3.33333333 ...    2.5\n",
      "     2.         -100.        ]\n",
      " ...\n",
      " [-100.         -100.         -100.         ... -100.\n",
      "  -100.          -50.        ]\n",
      " [-100.         -100.         -100.         ... -100.\n",
      "  -100.          -50.        ]\n",
      " [   5.            3.33333333    3.33333333 ...    2.5\n",
      "     2.          -50.        ]]\n"
     ]
    }
   ],
   "source": [
    "Action_R = np.arange(num_pos+1)\n",
    "R = np.zeros((num_comb*6, len(Action_R)))\n",
    "\n",
    "for i in range(num_comb*6):\n",
    "    for k in range(len(Action_R)):\n",
    "        R_ik = r(states[i], Action_R[k])\n",
    "        R[i][k] = R_ik\n",
    "        \n",
    "print(R)"
   ]
  },
  {
   "cell_type": "markdown",
   "metadata": {},
   "source": [
    "### Optimization 2x3"
   ]
  },
  {
   "cell_type": "code",
   "execution_count": 17,
   "metadata": {},
   "outputs": [],
   "source": [
    "T = np.load('T2x3.npy')"
   ]
  },
  {
   "cell_type": "code",
   "execution_count": 18,
   "metadata": {},
   "outputs": [],
   "source": [
    "mdptoolbox.util.check(T, R)"
   ]
  },
  {
   "cell_type": "code",
   "execution_count": null,
   "metadata": {},
   "outputs": [],
   "source": [
    "pi = mdptoolbox.mdp.PolicyIteration(T, R, 0.9, max_iter = 10*len(states))\n",
    "pi.run()\n",
    "policy_pi = pi.policy\n"
   ]
  },
  {
   "cell_type": "code",
   "execution_count": null,
   "metadata": {},
   "outputs": [],
   "source": [
    "print(policy_pi)"
   ]
  },
  {
   "cell_type": "code",
   "execution_count": null,
   "metadata": {},
   "outputs": [],
   "source": [
    "vi = mdptoolbox.mdp.ValueIteration(T, R, 0.9, max_iter = 10*len(states))\n",
    "vi.run()\n",
    "policy_vi = vi.policy"
   ]
  },
  {
   "cell_type": "code",
   "execution_count": null,
   "metadata": {},
   "outputs": [],
   "source": [
    "print(policy_vi)"
   ]
  },
  {
   "cell_type": "markdown",
   "metadata": {},
   "source": [
    "### Evaluation 2x3"
   ]
  },
  {
   "cell_type": "code",
   "execution_count": null,
   "metadata": {},
   "outputs": [],
   "source": [
    "states_w_Action = np.concatenate((states, np.expand_dims(policy_vi, axis=1)), axis=1)\n",
    "print(state_w_Action)"
   ]
  },
  {
   "cell_type": "code",
   "execution_count": null,
   "metadata": {},
   "outputs": [],
   "source": [
    "n=0\n",
    "test,_ = states_actions_2_3.get_test_data()\n",
    "\n",
    "for i in range(len(test)):\n",
    "    for j in range(len(states)):\n",
    "        \n",
    "        if ((test[i][0] == states_w_Action[j][:-1]).all() and (test[i][1] == states_w_Action[j][-1]).all()):\n",
    "            n = n + 1\n",
    "\n",
    "Accuracy = n/len(test)\n",
    "print('Accuracy:', Accuracy)"
   ]
  },
  {
   "cell_type": "code",
   "execution_count": null,
   "metadata": {},
   "outputs": [],
   "source": [
    "def search(array, in_array):\n",
    "    b = 0\n",
    "    for i in range(len(in_array)):\n",
    "        if (array == in_array[i][:-1]).all():\n",
    "            b = [in_array[i][-1]]\n",
    "            #print(i)\n",
    "    return b\n",
    "\n"
   ]
  },
  {
   "cell_type": "code",
   "execution_count": null,
   "metadata": {},
   "outputs": [],
   "source": [
    "import copy\n",
    "\n",
    "init = copy.copy(states_w_Action[0])\n",
    "test_states = []\n",
    "test_states.append(states_w_Action[0])\n",
    "\n",
    "for i in range(len(test) - 1):\n",
    "\n",
    "    if (init[-3] == 5):\n",
    "        if init[-1] < num_pos:\n",
    "            init[init[-1]] = init[-2]\n",
    "    else:\n",
    "        if init[-1] < num_pos:\n",
    "            init[init[-1]] = 0\n",
    "\n",
    "    new_state = np.concatenate((init[:num_pos], test[i + 1][0][-2:]))\n",
    "    new_action = search(new_state, states_w_Action)\n",
    "    new_state_new_action = np.concatenate((new_state, new_action))\n",
    "    test_states.append(new_state_new_action)\n",
    "    init = copy.copy(new_state_new_action)\n",
    "\n",
    "test_states = np.array(test_states)"
   ]
  },
  {
   "cell_type": "code",
   "execution_count": null,
   "metadata": {},
   "outputs": [],
   "source": [
    "referenz = 0\n",
    "actual = 0\n",
    "for i in range(len(test)):\n",
    "    if test[i][1] > num_pos-1:\n",
    "        referenz = referenz + 0\n",
    "    else:\n",
    "        referenz = referenz + np.sum(Action_dict[int(test[i][1])])\n",
    "\n",
    "for i in range(len(test_states)):\n",
    "    if test_states[i][-1] > num_pos-1:\n",
    "        actual = actual + 0\n",
    "    else:\n",
    "        actual = actual + np.sum(Action_dict[test_states[i][-1]])"
   ]
  },
  {
   "cell_type": "code",
   "execution_count": null,
   "metadata": {},
   "outputs": [],
   "source": [
    "print(actual)\n",
    "print(referenz)\n",
    "print((referenz-actual)/referenz * 100, '%')"
   ]
  },
  {
   "cell_type": "code",
   "execution_count": null,
   "metadata": {},
   "outputs": [],
   "source": [
    "print(test)"
   ]
  },
  {
   "cell_type": "code",
   "execution_count": null,
   "metadata": {},
   "outputs": [],
   "source": [
    "print(test_states)"
   ]
  }
 ],
 "metadata": {
  "kernelspec": {
   "display_name": "Python 3",
   "language": "python",
   "name": "python3"
  },
  "language_info": {
   "codemirror_mode": {
    "name": "ipython",
    "version": 3
   },
   "file_extension": ".py",
   "mimetype": "text/x-python",
   "name": "python",
   "nbconvert_exporter": "python",
   "pygments_lexer": "ipython3",
   "version": "3.7.3"
  },
  "latex_envs": {
   "LaTeX_envs_menu_present": true,
   "autoclose": false,
   "autocomplete": true,
   "bibliofile": "biblio.bib",
   "cite_by": "apalike",
   "current_citInitial": 1,
   "eqLabelWithNumbers": true,
   "eqNumInitial": 1,
   "hotkeys": {
    "equation": "Ctrl-E",
    "itemize": "Ctrl-I"
   },
   "labels_anchors": false,
   "latex_user_defs": false,
   "report_style_numbering": false,
   "user_envs_cfg": false
  }
 },
 "nbformat": 4,
 "nbformat_minor": 2
}
