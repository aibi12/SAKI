{
 "cells": [
  {
   "cell_type": "code",
   "execution_count": 1,
   "metadata": {},
   "outputs": [],
   "source": [
    "import copy\n",
    "import numpy as np\n",
    "from itertools import combinations\n",
    "from itertools import product\n",
    "import mdptoolbox"
   ]
  },
  {
   "cell_type": "markdown",
   "metadata": {},
   "source": [
    "### Training Data 2x2:"
   ]
  },
  {
   "cell_type": "code",
   "execution_count": 2,
   "metadata": {},
   "outputs": [
    {
     "name": "stdout",
     "output_type": "stream",
     "text": [
      "Path exists? True\n"
     ]
    }
   ],
   "source": [
    "# check if file exists on given path\n",
    "import os\n",
    "filename = \"./warehousetraining2x2.txt\"\n",
    "print(\"Path exists? {}\".format(os.path.exists(filename)))"
   ]
  },
  {
   "cell_type": "code",
   "execution_count": 3,
   "metadata": {},
   "outputs": [
    {
     "name": "stdout",
     "output_type": "stream",
     "text": [
      "(8177, 2)\n",
      "[['store' 'red']\n",
      " ['store' 'red']\n",
      " ['store' 'red']\n",
      " ...\n",
      " ['restore' 'red']\n",
      " ['restore' 'red']\n",
      " ['restore' 'white']]\n"
     ]
    }
   ],
   "source": [
    "# read file into a numpy array \n",
    "import csv\n",
    "raw_data = open(filename, 'rt')\n",
    "reader = csv.reader(raw_data, delimiter='\\t', quoting=csv.QUOTE_NONE)\n",
    "x = list(reader)\n",
    "training_data_2_2 = np.array(x).astype(\"str\")\n",
    "print(training_data_2_2.shape)\n",
    "print(training_data_2_2)"
   ]
  },
  {
   "cell_type": "markdown",
   "metadata": {},
   "source": [
    "### Test Data 2x2:"
   ]
  },
  {
   "cell_type": "code",
   "execution_count": 23,
   "metadata": {},
   "outputs": [
    {
     "name": "stdout",
     "output_type": "stream",
     "text": [
      "Path exists? True\n"
     ]
    }
   ],
   "source": [
    "import os\n",
    "filename = \"./warehouseordernew.txt\"\n",
    "print(\"Path exists? {}\".format(os.path.exists(filename)))"
   ]
  },
  {
   "cell_type": "code",
   "execution_count": 24,
   "metadata": {},
   "outputs": [
    {
     "name": "stdout",
     "output_type": "stream",
     "text": [
      "(20, 2)\n"
     ]
    }
   ],
   "source": [
    "import csv\n",
    "raw_data = open(filename, 'rt')\n",
    "reader = csv.reader(raw_data, delimiter='\\t', quoting=csv.QUOTE_NONE)\n",
    "x = list(reader)\n",
    "test_data_2_2 = np.array(x).astype(\"str\")\n",
    "print(test_data_2_2.shape)\n",
    "#print(test_data_2_2)"
   ]
  },
  {
   "cell_type": "markdown",
   "metadata": {},
   "source": [
    "### Define States, Actions, Transition probability Matrix and Reward Matrix"
   ]
  },
  {
   "cell_type": "code",
   "execution_count": 37,
   "metadata": {},
   "outputs": [],
   "source": [
    "import copy\n",
    "import numpy as np\n",
    "from itertools import combinations\n",
    "from itertools import product\n",
    "\n",
    "\n",
    "class T_R_prepare:\n",
    "    classes = {'red': 1, 'blue': 2, 'white': 3}\n",
    "    state_action = {'store': 5, 'restore': 8}\n",
    "    combinations = None\n",
    "    actions = np.array([[5, 1], [5, 2], [5, 3], [8, 1], [8, 2], [8, 3]])\n",
    "    Action_dict = None\n",
    "\n",
    "    # positions as [#x, #y], initial_training_state as [state_action, classes]\n",
    "    def __init__(self, initial_training_state, positions, number_of_positions, number_of_classes, training_data,\n",
    "                 test_data):\n",
    "\n",
    "        self.num_pos = number_of_positions\n",
    "        self.pos = positions\n",
    "        self.num_class = number_of_classes\n",
    "        self.init_training = initial_training_state\n",
    "        self.training_data = training_data\n",
    "        self.test_data = test_data\n",
    "        self.num_comb = np.power((self.num_class + 1), self.num_pos)\n",
    "        # choose position were to store or restore item\n",
    "        self.Action = np.arange(self.num_pos)\n",
    "        return None\n",
    "\n",
    "    def Action_dict(self):\n",
    "        x, y = self.pos\n",
    "        positions = np.ogrid[1:(x + 1), 1:(y + 1)]\n",
    "        x, y = positions\n",
    "\n",
    "        position_elem = []\n",
    "        for i in range(len(y[0])):\n",
    "            for j in range(len(x)):\n",
    "                position_elem.append([x[j][0], y[0][i]])\n",
    "\n",
    "        position_elem = np.array(position_elem)\n",
    "        a_dict = dict(zip(self.Action, position_elem))\n",
    "\n",
    "        return a_dict\n",
    "\n",
    "    # takes training data in array-format ['store/restore', 'red'] and performs the optimal action on the actual state\n",
    "    # returning the next state and the performed action - for example: ['store/restore', 'red'] --> [0, 0, 0, 0] --> [1, 0, 0, 0], (1,1)\n",
    "    # action is choosing position element of: {(1,1), (1,2), (2,1), ...} - position in warehouse\n",
    "    def store_restore(self, array):\n",
    "\n",
    "        if (array[len(array) - 2] == 5):\n",
    "            if (np.isin(0, array[:len(array) - 2])):\n",
    "                pos = np.sort(np.where(array == 0))[0][0]\n",
    "                array[pos] = array[len(array) - 1]\n",
    "            \n",
    "            else:\n",
    "                pos = self.num_pos\n",
    "\n",
    "        else:\n",
    "            if (np.isin(array[len(array) - 1], array[:len(array) - 2])):\n",
    "                pos = np.sort(np.where(array == array[len(array) - 1]))[0][0]\n",
    "                array[pos] = 0\n",
    "                \n",
    "            else:\n",
    "                pos = self.num_pos\n",
    "\n",
    "        output = array[:len(array) - 2]\n",
    "        \n",
    "        return output, pos\n",
    "\n",
    "    # iterates through given data and performs store_restore method for every state in the data\n",
    "    # output: array [[0,0,0,0,5,1],1]       array [[0,0,0,0]\n",
    "    #                [1,0,0,0,5,2],2]              [1,0,0,0]\n",
    "    #                [1,2,0,0,5,3],1] ...],        [1,2,0,0] ...]\n",
    "    def data(self, data):\n",
    "\n",
    "        states = []\n",
    "        combinations = []\n",
    "\n",
    "        states.append(np.concatenate((np.zeros(self.num_pos), self.init_training)).astype(int))\n",
    "        combinations.append(np.zeros(self.num_pos).astype(int))\n",
    "\n",
    "        init = np.concatenate((np.zeros(self.num_pos), self.init_training))\n",
    "\n",
    "        for el in data[-(len(data) - 1):]:\n",
    "            next_combi, action = self.store_restore(init)\n",
    "            combinations.append(np.array(next_combi).astype(int))\n",
    "\n",
    "            next_state_action = [self.state_action[el[0]], self.classes[el[1]]]\n",
    "            next_state = np.concatenate((next_combi, next_state_action))\n",
    "\n",
    "            states.append(np.array(action).astype(int))\n",
    "            states.append(np.array(next_state).astype(int))\n",
    "            init = next_state\n",
    "\n",
    "        # appending 9 which states for the final state\n",
    "        last_state = copy.copy(states[-1])\n",
    "        \n",
    "        _, last_pos = self.store_restore(last_state)\n",
    "        \n",
    "        states.append(np.array(last_pos).astype(int))\n",
    "\n",
    "        states = np.array(states)\n",
    "        states = states.reshape((int(len(states) / 2), 2))\n",
    "\n",
    "        combinations = np.array(combinations)\n",
    "        self.combinations = copy.copy(combinations)\n",
    "\n",
    "        return states, combinations\n",
    "\n",
    "    def get_training_data(self):\n",
    "        return self.data(self.training_data)\n",
    "\n",
    "    def get_test_data(self):\n",
    "        return self.data(self.test_data)\n",
    "\n",
    "    def states(self):\n",
    "        actions_tile = np.tile(self.actions, (self.num_comb, 1))\n",
    "        states = product([0, 1, 2, 3], repeat = self.num_pos)\n",
    "        states = np.array(list(states))\n",
    "        states = np.repeat(states, 6, axis=0)\n",
    "        states = np.concatenate((states, actions_tile), axis=1)\n",
    "        return states\n",
    "\n",
    "    # computes apriori probabilities of the store/restore actions based on the given training data\n",
    "    def apriori_probs(self):\n",
    "        training_states, _ = self.get_training_data()\n",
    "        apriori = self.actions\n",
    "        apriori_probs = []\n",
    "        for el in apriori:\n",
    "            p = 0\n",
    "\n",
    "            for i in range(len(training_states)):\n",
    "                if (el == training_states[i][0][-2:]).all():\n",
    "                    p = p + 1\n",
    "\n",
    "            p = p / len(training_states)\n",
    "            apriori_probs.append(p)\n",
    "\n",
    "        apriori_probs = np.array(apriori_probs)\n",
    "\n",
    "        assert np.sum(apriori_probs) == 1\n",
    "\n",
    "        apriori_probs_dict = dict(zip(self.totuple(apriori), self.totuple(apriori_probs)))\n",
    "\n",
    "        return apriori_probs_dict\n",
    "\n",
    "    # computes the conditional probabilities of the store/restore actions based on the given training data and apriori probabilities\n",
    "    def conditional_probs(self):\n",
    "\n",
    "        probs = []\n",
    "        training_prob = np.concatenate((np.repeat(self.actions, 6, axis=0), np.tile(self.actions, (6, 1))),\n",
    "                                       axis=1).reshape((36, 2, 2))\n",
    "        training_states, _ = self.get_training_data()\n",
    "\n",
    "        apriori_dict = self.apriori_probs()\n",
    "        for el in training_prob:\n",
    "            p = 0\n",
    "\n",
    "            for i in range(len(training_states) - 1):\n",
    "                if ((el[0] == training_states[i][0][-2:]).all() and (el[1] == training_states[i + 1][0][-2:]).all()):\n",
    "                    p = p + 1\n",
    "\n",
    "            p = p / np.multiply(len(training_states) - 1, apriori_dict[self.totuple(el[0])])\n",
    "            probs.append(p)\n",
    "\n",
    "        probs = np.array(probs)\n",
    "        probs_check = probs.reshape(6, 6)\n",
    "\n",
    "        # normieren\n",
    "        for i in range(6):\n",
    "            probs_check[i] = probs_check[i] / np.sum(probs_check[i])\n",
    "\n",
    "        probs = probs_check.reshape(36, 1)\n",
    "        probs = np.squeeze(probs)\n",
    "\n",
    "        assert (np.sum(probs_check, axis=1) == 1).all()\n",
    "\n",
    "        training_prob_dict = dict(zip(self.totuple(training_prob), self.totuple(probs)))\n",
    "\n",
    "        return training_prob_dict\n",
    "\n",
    "    # from https://stackoverflow.com/questions/10016352/convert-numpy-array-to-tuple/10016379 - totuple function\n",
    "    def totuple(self, a):\n",
    "        try:\n",
    "            return tuple(self.totuple(i) for i in a)\n",
    "        except TypeError:\n",
    "            return a\n",
    "\n"
   ]
  },
  {
   "cell_type": "code",
   "execution_count": 38,
   "metadata": {},
   "outputs": [
    {
     "name": "stdout",
     "output_type": "stream",
     "text": [
      "4\n"
     ]
    }
   ],
   "source": [
    "# initialize object of class T_R_prepare\n",
    "states_actions_2_2 = T_R_prepare(np.array([5, 1]), [2, 2], 4, 3, training_data_2_2, test_data_2_2)\n",
    "num_pos = states_actions_2_2.num_pos\n",
    "print(num_pos)"
   ]
  },
  {
   "cell_type": "markdown",
   "metadata": {},
   "source": [
    "#### States:"
   ]
  },
  {
   "cell_type": "code",
   "execution_count": 8,
   "metadata": {},
   "outputs": [
    {
     "name": "stdout",
     "output_type": "stream",
     "text": [
      "[[0 0 0 0 5 1]\n",
      " [0 0 0 0 5 2]\n",
      " [0 0 0 0 5 3]\n",
      " ...\n",
      " [3 3 3 3 8 1]\n",
      " [3 3 3 3 8 2]\n",
      " [3 3 3 3 8 3]]\n"
     ]
    }
   ],
   "source": [
    "# get all possible states\n",
    "states = states_actions_2_2.states()\n",
    "print(states)"
   ]
  },
  {
   "cell_type": "markdown",
   "metadata": {},
   "source": [
    "#### Actions:"
   ]
  },
  {
   "cell_type": "code",
   "execution_count": 9,
   "metadata": {},
   "outputs": [
    {
     "name": "stdout",
     "output_type": "stream",
     "text": [
      "{0: array([1, 1]), 1: array([2, 1]), 2: array([1, 2]), 3: array([2, 2])}\n",
      "[0 1 2 3]\n"
     ]
    }
   ],
   "source": [
    "# define Actions\n",
    "Action_dict = states_actions_2_2.Action_dict()\n",
    "Action = states_actions_2_2.Action\n",
    "print(Action_dict)\n",
    "print(Action)"
   ]
  },
  {
   "cell_type": "markdown",
   "metadata": {},
   "source": [
    "#### Training Data and Probabilities:"
   ]
  },
  {
   "cell_type": "code",
   "execution_count": 10,
   "metadata": {},
   "outputs": [
    {
     "name": "stdout",
     "output_type": "stream",
     "text": [
      "[[array([0, 0, 0, 0, 5, 1]) array(0)]\n",
      " [array([1, 0, 0, 0, 5, 1]) array(1)]\n",
      " [array([1, 1, 0, 0, 5, 1]) array(2)]\n",
      " ...\n",
      " [array([1, 3, 1, 3, 8, 1]) array(0)]\n",
      " [array([0, 3, 1, 3, 8, 1]) array(2)]\n",
      " [array([0, 3, 0, 3, 8, 3]) array(1)]]\n"
     ]
    }
   ],
   "source": [
    "# get the training states - greedy\n",
    "training_states, combinations = states_actions_2_2.get_training_data()\n",
    "print(training_states)"
   ]
  },
  {
   "cell_type": "code",
   "execution_count": 11,
   "metadata": {},
   "outputs": [
    {
     "name": "stdout",
     "output_type": "stream",
     "text": [
      "{(5, 1): 0.25241531123884065, (5, 2): 0.12168276874159227, (5, 3): 0.12596306713953773, (8, 1): 0.25241531123884065, (8, 2): 0.12168276874159227, (8, 3): 0.12584077289959644}\n"
     ]
    }
   ],
   "source": [
    "# get the apriori probabilities \n",
    "apriori_probs = states_actions_2_2.apriori_probs()\n",
    "print(apriori_probs)"
   ]
  },
  {
   "cell_type": "code",
   "execution_count": 12,
   "metadata": {},
   "outputs": [
    {
     "name": "stdout",
     "output_type": "stream",
     "text": [
      "{((5, 1), (5, 1)): 0.2877906976744186, ((5, 1), (5, 2)): 0.14098837209302326, ((5, 1), (5, 3)): 0.14292635658914732, ((5, 1), (8, 1)): 0.30765503875968997, ((5, 1), (8, 2)): 0.05765503875968993, ((5, 1), (8, 3)): 0.06298449612403101, ((5, 2), (5, 1)): 0.2693467336683417, ((5, 2), (5, 2)): 0.12462311557788944, ((5, 2), (5, 3)): 0.1577889447236181, ((5, 2), (8, 1)): 0.18592964824120606, ((5, 2), (8, 2)): 0.1949748743718593, ((5, 2), (8, 3)): 0.06733668341708543, ((5, 3), (5, 1)): 0.2883495145631068, ((5, 3), (5, 2)): 0.13592233009708737, ((5, 3), (5, 3)): 0.14466019417475728, ((5, 3), (8, 1)): 0.18155339805825244, ((5, 3), (8, 2)): 0.07378640776699029, ((5, 3), (8, 3)): 0.17572815533980582, ((8, 1), (5, 1)): 0.21124031007751942, ((8, 1), (5, 2)): 0.10077519379844962, ((8, 1), (5, 3)): 0.08720930232558141, ((8, 1), (8, 1)): 0.2853682170542636, ((8, 1), (8, 2)): 0.15164728682170542, ((8, 1), (8, 3)): 0.16375968992248063, ((8, 2), (5, 1)): 0.24623115577889446, ((8, 2), (5, 2)): 0.10653266331658293, ((8, 2), (5, 3)): 0.11557788944723618, ((8, 2), (8, 1)): 0.2321608040201005, ((8, 2), (8, 2)): 0.15678391959798996, ((8, 2), (8, 3)): 0.142713567839196, ((8, 3), (5, 1)): 0.2169260700389105, ((8, 3), (5, 2)): 0.12256809338521402, ((8, 3), (5, 3)): 0.1303501945525292, ((8, 3), (8, 1)): 0.23054474708171208, ((8, 3), (8, 2)): 0.1332684824902724, ((8, 3), (8, 3)): 0.1663424124513619}\n"
     ]
    }
   ],
   "source": [
    "# get the conditional probabilities\n",
    "conditional_probs = states_actions_2_2.conditional_probs()\n",
    "print(conditional_probs)"
   ]
  },
  {
   "cell_type": "markdown",
   "metadata": {},
   "source": [
    "### 1. Definition of T and R"
   ]
  },
  {
   "cell_type": "markdown",
   "metadata": {},
   "source": [
    "#### Transition-Probability-Matrix:"
   ]
  },
  {
   "cell_type": "code",
   "execution_count": 16,
   "metadata": {},
   "outputs": [
    {
     "name": "stdout",
     "output_type": "stream",
     "text": [
      "256\n"
     ]
    }
   ],
   "source": [
    "num_comb = states_actions_2_2.num_comb\n",
    "print(num_comb)"
   ]
  },
  {
   "cell_type": "code",
   "execution_count": 20,
   "metadata": {},
   "outputs": [],
   "source": [
    "# computes the transition probability from one state to another state after performing a specific action\n",
    "def P(states_i, states_j, action_k):\n",
    "        \n",
    "        #print(states_i)\n",
    "        \n",
    "        cond_prob_ij = conditional_probs[((states_i[len(states_i) - 2], states_i[len(states_i) - 1]),\n",
    "                                           (states_j[len(states_j) - 2], states_j[len(states_j) - 1]))]\n",
    "\n",
    "        if (states_i[len(states_i) - 2] == 5):\n",
    "            if (states_i[action_k] == 0                        and\n",
    "             states_i[len(states_i) - 1] == states_j[action_k] and\n",
    "            (states_i[:action_k] == states_j[:action_k]).all() and\n",
    "            (states_i[(action_k + 1):-2] == states_j[(action_k + 1):-2]).all()) or \\\n",
    "            (states_i[action_k] != 0 and (states_i[:-2] == states_j[:-2]).all()):\n",
    "                P_ij = 1 * cond_prob_ij\n",
    "\n",
    "            else:\n",
    "                P_ij = 0\n",
    "\n",
    "        else:\n",
    "            if (states_i[action_k] != 0 and states_j[action_k] == 0 and\n",
    "             states_i[len(states_i) - 1] == states_i[action_k]      and\n",
    "            (states_i[:action_k] == states_j[:action_k]).all()      and\n",
    "            (states_i[(action_k + 1):-2] == states_j[(action_k + 1):-2]).all())  or \\\n",
    "            (states_i[action_k] == 0 and (states_i[:-2] == states_j[:-2]).all()) or \\\n",
    "            (states_i[action_k] != 0 and (states_i[:-2] == states_j[:-2]).all()  and\n",
    "             states_i[len(states_i) - 1] != states_i[action_k]):\n",
    "                P_ij = 1 * cond_prob_ij\n",
    "\n",
    "            else:\n",
    "                P_ij = 0\n",
    "\n",
    "        return P_ij"
   ]
  },
  {
   "cell_type": "code",
   "execution_count": 21,
   "metadata": {},
   "outputs": [
    {
     "name": "stdout",
     "output_type": "stream",
     "text": [
      "(8, 1536, 1536)\n"
     ]
    }
   ],
   "source": [
    "# define the skeleton of T\n",
    "T1 = np.zeros((num_comb*6, num_comb*6))\n",
    "T2 = np.zeros((num_comb*6, num_comb*6))\n",
    "T3 = np.zeros((num_comb*6, num_comb*6))\n",
    "T4 = np.zeros((num_comb*6, num_comb*6))\n",
    "T1n = np.zeros((num_comb*6, num_comb*6))\n",
    "T2n = np.zeros((num_comb*6, num_comb*6))\n",
    "T3n = np.zeros((num_comb*6, num_comb*6))\n",
    "T4n = np.zeros((num_comb*6, num_comb*6))\n",
    "\n",
    "# Transition Probability Matrix for action doing nothing\n",
    "for i in range(num_comb*6):\n",
    "    for j in range(num_comb*6):\n",
    "        \n",
    "        cond_prob_ij = conditional_probs[((states[i][len(states[i]) - 2], states[i][len(states[i]) - 1]),\n",
    "                                           (states[j][len(states[j]) - 2], states[j][len(states[j]) - 1]))]\n",
    "        \n",
    "        if (states[i][:-2] == states[j][:-2]).all():\n",
    "            T1n[i][j] = cond_prob_ij\n",
    "            T2n[i][j] = cond_prob_ij\n",
    "            T3n[i][j] = cond_prob_ij\n",
    "            T4n[i][j] = cond_prob_ij\n",
    "\n",
    "T = np.vstack(([T1], [T2], [T3], [T4], [T1n], [T2n], [T3n], [T4n]))\n",
    "print(T.shape)"
   ]
  },
  {
   "cell_type": "code",
   "execution_count": 22,
   "metadata": {},
   "outputs": [],
   "source": [
    "# fill T\n",
    "for k in range(len(Action)):\n",
    "    for i in range(num_comb*6):\n",
    "        for j in range(num_comb*6):\n",
    "            T[k][i][j] = P(states[i], states[j], Action[k])\n",
    "\n"
   ]
  },
  {
   "cell_type": "code",
   "execution_count": 1448,
   "metadata": {},
   "outputs": [],
   "source": [
    "np.save('T2x2.npy', T)"
   ]
  },
  {
   "cell_type": "markdown",
   "metadata": {},
   "source": [
    "#### Reward:"
   ]
  },
  {
   "cell_type": "code",
   "execution_count": 25,
   "metadata": {},
   "outputs": [],
   "source": [
    "def r(state_i, action_k):\n",
    "\n",
    "    actionk = np.sum(Action_dict[action_k])\n",
    "\n",
    "    if (state_i[-2] == 5):\n",
    "        if (state_i[action_k] == 0):\n",
    "            R_i = 1/actionk*10\n",
    "            R_n = -100\n",
    "                \n",
    "        elif(state_i[:num_pos] != 0).all() or (state_i[action_k] != 0):\n",
    "            R_i = -100 \n",
    "            R_n = 1\n",
    "                \n",
    "        else:\n",
    "            R_i = -1\n",
    "            R_n = -10\n",
    "    else:\n",
    "        if (state_i[action_k] != 0 and state_i[-1] == state_i[action_k]):\n",
    "            R_i = 1/actionk*10\n",
    "            R_n = -100\n",
    "                \n",
    "        elif (state_i[action_k] != 0 and state_i[-1] != state_i[action_k]) or (state_i[:num_pos] == 0).all():\n",
    "            R_i = -100 \n",
    "            R_n = 1\n",
    "                \n",
    "        else:\n",
    "            R_i = -1 \n",
    "            R_n = -10\n",
    "\n",
    "    return R_i, R_n"
   ]
  },
  {
   "cell_type": "code",
   "execution_count": 26,
   "metadata": {},
   "outputs": [
    {
     "name": "stdout",
     "output_type": "stream",
     "text": [
      "[[   5.            3.33333333    3.33333333 ... -100.\n",
      "  -100.         -100.        ]\n",
      " [   5.            3.33333333    3.33333333 ... -100.\n",
      "  -100.         -100.        ]\n",
      " [   5.            3.33333333    3.33333333 ... -100.\n",
      "  -100.         -100.        ]\n",
      " ...\n",
      " [-100.         -100.         -100.         ...    1.\n",
      "     1.            1.        ]\n",
      " [-100.         -100.         -100.         ...    1.\n",
      "     1.            1.        ]\n",
      " [   5.            3.33333333    3.33333333 ... -100.\n",
      "  -100.         -100.        ]]\n"
     ]
    }
   ],
   "source": [
    "R = np.zeros((num_comb*6, 2*len(Action)))\n",
    "\n",
    "for i in range(num_comb*6):\n",
    "    for k in range(len(Action)):\n",
    "        R_ik, R_n = r(states[i], Action[k])\n",
    "        #print(R_in)\n",
    "        R[i][k] = R_ik\n",
    "        R[i][k+4] = R_n\n",
    "        \n",
    "print(R)"
   ]
  },
  {
   "cell_type": "markdown",
   "metadata": {},
   "source": [
    "### 2. Definition of T and R"
   ]
  },
  {
   "cell_type": "markdown",
   "metadata": {},
   "source": [
    "#### Transition Probability Matrix:"
   ]
  },
  {
   "cell_type": "code",
   "execution_count": null,
   "metadata": {},
   "outputs": [],
   "source": [
    "# define the skeleton of T\n",
    "T1 = np.zeros((num_comb*6, num_comb*6))\n",
    "T2 = np.zeros((num_comb*6, num_comb*6))\n",
    "T3 = np.zeros((num_comb*6, num_comb*6))\n",
    "T4 = np.zeros((num_comb*6, num_comb*6))\n",
    "T5 = np.zeros((num_comb*6, num_comb*6))\n",
    "\n",
    "# Transition Probability Matrix for action doing nothing\n",
    "for i in range(num_comb*6):\n",
    "    for j in range(num_comb*6):\n",
    "        \n",
    "        cond_prob_ij = conditional_probs[((states[i][len(states[i]) - 2], states[i][len(states[i]) - 1]),\n",
    "                                           (states[j][len(states[j]) - 2], states[j][len(states[j]) - 1]))]\n",
    "        \n",
    "        if (states[i][:-2] == states[j][:-2]).all():\n",
    "            T5[i][j] = cond_prob_ij\n",
    "\n",
    "\n",
    "T = np.vstack(([T1], [T2], [T3], [T4], [T5]))\n",
    "print(T.shape)"
   ]
  },
  {
   "cell_type": "code",
   "execution_count": null,
   "metadata": {},
   "outputs": [],
   "source": [
    "# fill T\n",
    "for k in range(len(Action)):\n",
    "    for i in range(num_comb*6):\n",
    "        for j in range(num_comb*6):\n",
    "            T[k][i][j] = P(states[i], states[j], Action[k])"
   ]
  },
  {
   "cell_type": "markdown",
   "metadata": {},
   "source": [
    "#### Reward:"
   ]
  },
  {
   "cell_type": "code",
   "execution_count": 1571,
   "metadata": {},
   "outputs": [],
   "source": [
    "def r(state_i, action_k):\n",
    "        \n",
    "    if action_k < num_pos:\n",
    "            \n",
    "        actionk = np.sum(Action_dict[action_k])\n",
    "            \n",
    "        if (state_i[-2] == 5):\n",
    "            if (state_i[action_k] == 0):\n",
    "                R_i = 1/actionk*2\n",
    "                \n",
    "            elif(state_i[:num_pos] != 0).all() or (state_i[action_k] != 0):\n",
    "                R_i = -100\n",
    "                \n",
    "            else:\n",
    "                R_i = -5\n",
    "\n",
    "        else:\n",
    "            if (state_i[action_k] != 0 and state_i[-1] == state_i[action_k]):\n",
    "                R_i = 1/actionk*2\n",
    "                                \n",
    "            elif (state_i[action_k] != 0 and state_i[-1] != state_i[action_k]) or (state_i[:num_pos] == 0).all():\n",
    "                R_i = -100 \n",
    "                \n",
    "            else:\n",
    "                R_i = -5\n",
    "        \n",
    "    else:\n",
    "            \n",
    "        if (state_i[-2] == 5):\n",
    "            if (state_i[:num_pos] == 0).any():\n",
    "                R_i = -50\n",
    "                \n",
    "            elif(state_i[:num_pos] != 0).all():\n",
    "                R_i = -30\n",
    "                \n",
    "            else:\n",
    "                R_i = -50\n",
    "\n",
    "        else:\n",
    "            if (state_i[:num_pos] != 0).any():\n",
    "                R_i = -50\n",
    "                                \n",
    "            elif (state_i[:num_pos] == 0).all():\n",
    "                R_i = -30\n",
    "                \n",
    "            else:\n",
    "                R_i = -50\n",
    "            \n",
    "            \n",
    "    return R_i"
   ]
  },
  {
   "cell_type": "code",
   "execution_count": 1572,
   "metadata": {},
   "outputs": [
    {
     "name": "stdout",
     "output_type": "stream",
     "text": [
      "[-100.         -100.            0.66666667 -100.          -50.        ]\n"
     ]
    }
   ],
   "source": [
    "Action_R = np.arange(5)\n",
    "R = np.zeros((num_comb*6, len(Action_R)))\n",
    "\n",
    "for i in range(num_comb*6):\n",
    "    for k in range(len(Action_R)):\n",
    "        R_ik = r(states[i], Action_R[k])\n",
    "        R[i][k] = R_ik\n",
    "        \n",
    "print(R[1076])"
   ]
  },
  {
   "cell_type": "code",
   "execution_count": 1416,
   "metadata": {},
   "outputs": [
    {
     "name": "stdout",
     "output_type": "stream",
     "text": [
      "256\n"
     ]
    }
   ],
   "source": [
    "num_comb = states_actions_2_2.num_comb\n",
    "print(num_comb)"
   ]
  },
  {
   "cell_type": "markdown",
   "metadata": {},
   "source": [
    "### Optimization 2x2"
   ]
  },
  {
   "cell_type": "code",
   "execution_count": 1452,
   "metadata": {},
   "outputs": [],
   "source": [
    "T = np.load('T2x2.npy')"
   ]
  },
  {
   "cell_type": "code",
   "execution_count": 1530,
   "metadata": {},
   "outputs": [],
   "source": [
    "mdptoolbox.util.check(T, R)"
   ]
  },
  {
   "cell_type": "markdown",
   "metadata": {},
   "source": [
    "#### Policy Iteration:"
   ]
  },
  {
   "cell_type": "code",
   "execution_count": 1950,
   "metadata": {},
   "outputs": [],
   "source": [
    "pi = mdptoolbox.mdp.PolicyIteration(T, R, 0.9999999, max_iter = 15360)\n",
    "pi.run()\n",
    "policy_pi = pi.policy\n",
    "np.save('pi2x2.npy', pi)"
   ]
  },
  {
   "cell_type": "code",
   "execution_count": 1951,
   "metadata": {
    "scrolled": true
   },
   "outputs": [
    {
     "name": "stdout",
     "output_type": "stream",
     "text": [
      "(0, 0, 2, 4, 4, 4, 0, 0, 2, 3, 7, 7, 0, 0, 2, 7, 3, 7, 0, 0, 2, 7, 7, 3, 0, 0, 1, 2, 6, 6, 0, 1, 1, 2, 6, 6, 0, 0, 1, 2, 3, 6, 0, 0, 1, 2, 6, 3, 0, 3, 1, 6, 2, 6, 0, 0, 1, 3, 2, 6, 0, 6, 1, 6, 2, 6, 0, 0, 1, 6, 2, 3, 0, 0, 3, 6, 6, 2, 0, 0, 1, 3, 6, 2, 0, 0, 1, 6, 3, 2, 0, 0, 6, 6, 6, 2, 0, 0, 2, 1, 5, 5, 0, 2, 2, 1, 5, 5, 0, 0, 2, 1, 3, 5, 0, 0, 2, 1, 5, 3, 0, 0, 0, 2, 5, 5, 0, 0, 0, 2, 5, 5, 0, 0, 0, 1, 3, 5, 0, 0, 0, 2, 5, 3, 0, 3, 0, 1, 2, 5, 0, 5, 0, 1, 2, 5, 0, 5, 0, 1, 2, 5, 0, 5, 0, 1, 2, 3, 0, 0, 3, 1, 5, 2, 0, 0, 5, 1, 5, 2, 0, 0, 5, 1, 3, 2, 0, 0, 5, 1, 5, 2, 0, 3, 2, 5, 1, 5, 0, 0, 2, 3, 1, 5, 0, 5, 2, 5, 1, 5, 0, 0, 2, 5, 1, 3, 0, 3, 0, 2, 1, 5, 0, 5, 0, 2, 1, 5, 0, 5, 0, 2, 1, 5, 0, 5, 0, 2, 1, 3, 0, 5, 0, 5, 1, 5, 0, 5, 0, 3, 2, 5, 0, 5, 0, 5, 1, 5, 0, 5, 5, 5, 1, 3, 0, 3, 3, 5, 1, 2, 0, 5, 5, 3, 1, 2, 0, 5, 5, 5, 1, 2, 0, 5, 5, 5, 1, 2, 0, 0, 3, 5, 5, 1, 0, 0, 2, 3, 5, 1, 0, 0, 2, 5, 3, 1, 0, 0, 5, 5, 5, 1, 0, 0, 3, 2, 5, 1, 0, 0, 5, 2, 5, 1, 0, 0, 5, 2, 3, 1, 0, 0, 5, 2, 5, 1, 0, 3, 3, 5, 2, 1, 0, 5, 5, 3, 2, 1, 0, 5, 5, 5, 2, 1, 0, 5, 5, 5, 2, 1, 0, 0, 5, 5, 5, 1, 0, 0, 5, 3, 5, 1, 0, 5, 5, 5, 3, 1, 0, 0, 5, 5, 5, 1, 1, 1, 2, 0, 4, 4, 1, 1, 2, 0, 4, 4, 1, 1, 2, 0, 3, 4, 2, 2, 1, 0, 4, 3, 3, 1, 1, 0, 4, 4, 4, 1, 1, 0, 4, 4, 1, 1, 1, 0, 3, 4, 1, 1, 1, 0, 4, 3, 1, 3, 1, 0, 2, 4, 1, 4, 1, 0, 2, 4, 1, 4, 1, 0, 2, 4, 1, 4, 1, 0, 2, 3, 1, 1, 3, 0, 4, 2, 1, 1, 4, 0, 4, 2, 1, 1, 4, 0, 3, 2, 1, 1, 4, 0, 4, 2, 3, 2, 2, 0, 4, 4, 4, 2, 2, 0, 4, 4, 2, 2, 2, 0, 3, 4, 2, 2, 2, 0, 4, 3, 4, 3, 3, 0, 4, 4, 4, 4, 4, 0, 4, 4, 4, 4, 4, 0, 3, 4, 4, 4, 4, 0, 4, 3, 3, 3, 3, 0, 2, 4, 4, 4, 4, 0, 2, 4, 4, 4, 4, 0, 2, 4, 4, 4, 4, 0, 2, 3, 3, 3, 3, 0, 4, 2, 4, 4, 4, 0, 4, 2, 4, 4, 4, 0, 3, 2, 4, 4, 4, 0, 4, 2, 2, 3, 2, 0, 1, 4, 2, 4, 2, 0, 1, 4, 2, 4, 2, 0, 1, 4, 2, 4, 2, 0, 1, 3, 3, 3, 3, 0, 1, 4, 4, 4, 4, 0, 1, 4, 4, 4, 4, 0, 1, 4, 4, 4, 4, 0, 1, 3, 3, 4, 3, 0, 2, 4, 4, 4, 4, 0, 2, 4, 4, 4, 4, 0, 1, 4, 4, 4, 4, 0, 1, 3, 3, 3, 3, 0, 1, 2, 4, 4, 4, 0, 1, 2, 4, 4, 4, 0, 1, 2, 4, 4, 4, 0, 1, 2, 2, 2, 3, 0, 4, 1, 2, 2, 4, 0, 4, 1, 2, 2, 4, 0, 3, 1, 2, 2, 4, 0, 4, 1, 3, 3, 3, 0, 4, 1, 4, 4, 4, 0, 4, 1, 4, 4, 4, 0, 3, 1, 4, 4, 4, 0, 4, 1, 3, 3, 3, 0, 2, 1, 4, 4, 4, 0, 2, 1, 4, 4, 4, 0, 2, 1, 4, 4, 4, 0, 2, 1, 3, 3, 4, 0, 4, 1, 4, 4, 4, 0, 4, 1, 4, 4, 4, 0, 3, 1, 4, 4, 4, 0, 4, 1, 1, 3, 2, 4, 0, 4, 1, 1, 2, 3, 0, 4, 1, 4, 1, 4, 0, 4, 1, 1, 2, 4, 0, 3, 1, 3, 1, 2, 0, 4, 1, 4, 1, 2, 0, 4, 1, 4, 1, 2, 0, 4, 1, 4, 1, 2, 0, 3, 1, 4, 1, 4, 0, 4, 1, 4, 1, 3, 0, 4, 1, 4, 1, 4, 0, 4, 1, 4, 4, 4, 0, 3, 1, 3, 3, 4, 0, 2, 1, 4, 4, 3, 0, 2, 1, 4, 4, 4, 0, 2, 1, 4, 4, 4, 0, 2, 2, 3, 2, 1, 0, 4, 2, 4, 2, 1, 0, 4, 2, 4, 2, 1, 0, 4, 2, 4, 2, 1, 0, 3, 3, 3, 3, 1, 0, 4, 4, 4, 4, 2, 0, 4, 4, 4, 4, 2, 0, 4, 4, 4, 4, 2, 0, 3, 3, 4, 3, 1, 0, 4, 4, 4, 4, 1, 0, 4, 4, 4, 4, 1, 0, 4, 4, 4, 4, 1, 0, 3, 3, 3, 3, 1, 0, 2, 4, 4, 4, 1, 0, 2, 4, 4, 4, 1, 0, 2, 4, 4, 4, 1, 0, 2, 2, 4, 2, 4, 0, 4, 2, 4, 2, 3, 0, 4, 2, 4, 2, 4, 0, 4, 2, 4, 4, 4, 0, 3, 3, 4, 3, 2, 0, 4, 4, 4, 4, 2, 0, 4, 4, 4, 4, 2, 0, 4, 4, 4, 4, 2, 0, 3, 3, 4, 3, 4, 0, 4, 4, 4, 4, 3, 0, 4, 4, 4, 4, 4, 0, 4, 4, 4, 4, 4, 0, 3, 3, 4, 4, 4, 0, 2, 4, 4, 4, 3, 0, 2, 4, 4, 4, 4, 0, 2, 4, 4, 4, 4, 0, 2, 2, 3, 3, 4, 0, 1, 2, 4, 4, 3, 0, 1, 2, 4, 4, 4, 0, 1, 2, 4, 4, 4, 0, 1, 3, 3, 3, 2, 0, 1, 4, 4, 4, 2, 0, 1, 4, 4, 4, 2, 0, 1, 4, 4, 4, 2, 0, 1, 3, 4, 4, 4, 0, 1, 4, 4, 4, 3, 0, 1, 4, 4, 4, 4, 0, 1, 4, 4, 4, 4, 0, 1, 3, 4, 4, 4, 0, 1, 4, 4, 4, 3, 0, 1, 4, 4, 4, 4, 0, 2, 4, 4, 4, 4, 0, 1, 1, 1, 3, 4, 4, 0, 1, 2, 2, 3, 4, 0, 1, 1, 2, 4, 3, 0, 1, 1, 4, 4, 4, 0, 1, 1, 3, 2, 4, 0, 1, 1, 4, 2, 4, 0, 1, 1, 4, 2, 3, 0, 1, 1, 4, 2, 4, 0, 1, 3, 3, 4, 2, 0, 1, 4, 4, 3, 2, 0, 1, 4, 4, 4, 2, 0, 1, 4, 4, 4, 2, 0, 1, 1, 4, 4, 4, 0, 1, 1, 4, 3, 4, 0, 1, 4, 4, 4, 3, 0, 1, 1, 4, 4, 4, 0, 2, 2, 3, 1, 4, 0, 2, 2, 4, 1, 4, 0, 2, 2, 4, 1, 3, 0, 2, 2, 4, 1, 4, 0, 3, 3, 3, 1, 4, 0, 4, 4, 4, 1, 4, 0, 4, 4, 4, 2, 3, 0, 4, 4, 4, 2, 4, 0, 3, 3, 3, 1, 2, 0, 4, 4, 4, 1, 2, 0, 4, 4, 4, 1, 2, 0, 4, 4, 4, 1, 2, 0, 3, 3, 4, 1, 4, 0, 4, 4, 4, 1, 4, 0, 4, 4, 4, 1, 3, 0, 4, 4, 4, 1, 4, 0, 2, 3, 3, 4, 1, 0, 2, 4, 4, 3, 1, 0, 2, 4, 4, 4, 1, 0, 2, 4, 4, 4, 1, 0, 3, 3, 3, 2, 1, 0, 4, 4, 4, 2, 1, 0, 4, 4, 4, 2, 1, 0, 4, 4, 4, 2, 1, 0, 3, 4, 4, 4, 1, 0, 4, 4, 4, 3, 1, 0, 4, 4, 4, 4, 1, 0, 4, 4, 4, 4, 1, 0, 3, 4, 4, 4, 1, 0, 4, 4, 4, 3, 1, 0, 4, 4, 4, 4, 1, 0, 4, 4, 4, 4, 1, 0, 2, 2, 4, 4, 4, 0, 2, 2, 4, 3, 4, 0, 2, 4, 4, 4, 3, 0, 2, 2, 4, 4, 4, 0, 3, 3, 4, 2, 4, 0, 4, 4, 4, 2, 4, 0, 4, 4, 4, 2, 3, 0, 4, 4, 4, 2, 4, 0, 3, 4, 4, 4, 2, 0, 4, 4, 4, 3, 2, 0, 4, 4, 4, 4, 2, 0, 4, 4, 4, 4, 2, 0, 3, 3, 4, 4, 4, 0, 4, 4, 4, 3, 4, 0, 4, 4, 4, 4, 3, 0, 4, 4, 4, 4, 4, 0)\n"
     ]
    }
   ],
   "source": [
    "print(policy_pi)"
   ]
  },
  {
   "cell_type": "markdown",
   "metadata": {},
   "source": [
    "#### Value Iteration:"
   ]
  },
  {
   "cell_type": "code",
   "execution_count": 27,
   "metadata": {},
   "outputs": [],
   "source": [
    "vi = mdptoolbox.mdp.ValueIteration(T, R, 0.9999999, max_iter = 15360)\n",
    "vi.run()\n",
    "policy_vi = vi.policy"
   ]
  },
  {
   "cell_type": "code",
   "execution_count": 28,
   "metadata": {},
   "outputs": [
    {
     "name": "stdout",
     "output_type": "stream",
     "text": [
      "(0, 0, 1, 4, 4, 4, 0, 0, 1, 3, 7, 7, 0, 0, 1, 7, 3, 7, 0, 0, 1, 7, 7, 3, 0, 0, 1, 2, 6, 6, 0, 1, 1, 2, 6, 6, 0, 0, 1, 2, 3, 6, 0, 0, 1, 2, 6, 3, 0, 3, 1, 6, 2, 6, 0, 0, 1, 3, 2, 6, 0, 6, 1, 6, 2, 6, 0, 0, 1, 6, 2, 3, 0, 0, 3, 6, 6, 2, 0, 0, 1, 3, 6, 2, 0, 0, 1, 6, 3, 2, 0, 0, 6, 6, 6, 2, 0, 0, 2, 1, 5, 5, 0, 2, 2, 1, 5, 5, 0, 0, 2, 1, 3, 5, 0, 0, 2, 1, 5, 3, 0, 0, 0, 1, 5, 5, 0, 0, 0, 1, 5, 5, 0, 0, 0, 1, 3, 5, 0, 0, 0, 1, 5, 3, 0, 3, 0, 1, 2, 5, 0, 5, 0, 1, 2, 5, 0, 5, 0, 1, 2, 5, 0, 5, 0, 1, 2, 3, 0, 0, 3, 1, 5, 2, 0, 0, 5, 1, 5, 2, 0, 0, 5, 1, 3, 2, 0, 0, 5, 1, 5, 2, 0, 3, 2, 5, 1, 5, 0, 0, 2, 3, 1, 5, 0, 5, 2, 5, 1, 5, 0, 0, 2, 5, 1, 3, 0, 3, 0, 2, 1, 5, 0, 5, 0, 2, 1, 5, 0, 5, 0, 2, 1, 5, 0, 5, 0, 2, 1, 3, 0, 5, 0, 5, 1, 5, 0, 5, 0, 3, 1, 5, 0, 5, 0, 5, 1, 5, 0, 5, 5, 5, 1, 3, 0, 3, 3, 5, 1, 2, 0, 5, 5, 3, 1, 2, 0, 5, 5, 5, 1, 2, 0, 5, 5, 5, 1, 2, 0, 0, 3, 5, 5, 1, 0, 0, 2, 3, 5, 1, 0, 0, 2, 5, 3, 1, 0, 0, 5, 5, 5, 1, 0, 0, 3, 2, 5, 1, 0, 0, 5, 2, 5, 1, 0, 0, 5, 2, 3, 1, 0, 0, 5, 2, 5, 1, 0, 3, 3, 5, 2, 1, 0, 5, 5, 3, 2, 1, 0, 5, 5, 5, 2, 1, 0, 5, 5, 5, 2, 1, 0, 0, 5, 5, 5, 1, 0, 0, 5, 3, 5, 1, 0, 5, 5, 5, 3, 1, 0, 0, 5, 5, 5, 1, 1, 1, 1, 0, 4, 4, 1, 1, 1, 0, 4, 4, 1, 1, 1, 0, 3, 4, 1, 1, 1, 0, 4, 3, 3, 1, 1, 0, 4, 4, 4, 1, 1, 0, 4, 4, 1, 1, 1, 0, 3, 4, 1, 1, 1, 0, 4, 3, 1, 3, 1, 0, 2, 4, 1, 4, 1, 0, 2, 4, 1, 4, 1, 0, 2, 4, 1, 4, 1, 0, 2, 3, 1, 1, 3, 0, 4, 2, 1, 1, 4, 0, 4, 2, 1, 1, 4, 0, 3, 2, 1, 1, 4, 0, 4, 2, 3, 2, 2, 0, 4, 4, 4, 2, 2, 0, 4, 4, 2, 2, 2, 0, 3, 4, 2, 2, 2, 0, 4, 3, 4, 3, 3, 0, 4, 4, 4, 4, 4, 0, 4, 4, 4, 4, 4, 0, 3, 4, 4, 4, 4, 0, 4, 3, 3, 3, 3, 0, 2, 4, 4, 4, 4, 0, 2, 4, 4, 4, 4, 0, 2, 4, 4, 4, 4, 0, 2, 3, 3, 3, 3, 0, 4, 2, 4, 4, 4, 0, 4, 2, 4, 4, 4, 0, 3, 2, 4, 4, 4, 0, 4, 2, 2, 3, 2, 0, 1, 4, 2, 4, 2, 0, 1, 4, 2, 4, 2, 0, 1, 4, 2, 4, 2, 0, 1, 3, 3, 3, 3, 0, 1, 4, 4, 4, 4, 0, 1, 4, 4, 4, 4, 0, 1, 4, 4, 4, 4, 0, 1, 3, 3, 4, 3, 0, 1, 4, 4, 4, 4, 0, 1, 4, 4, 4, 4, 0, 1, 4, 4, 4, 4, 0, 1, 3, 3, 3, 3, 0, 1, 2, 4, 4, 4, 0, 1, 2, 4, 4, 4, 0, 1, 2, 4, 4, 4, 0, 1, 2, 2, 2, 3, 0, 4, 1, 2, 2, 4, 0, 4, 1, 2, 2, 4, 0, 3, 1, 2, 2, 4, 0, 4, 1, 3, 3, 3, 0, 4, 1, 4, 4, 4, 0, 4, 1, 4, 4, 4, 0, 3, 1, 4, 4, 4, 0, 4, 1, 3, 3, 3, 0, 2, 1, 4, 4, 4, 0, 2, 1, 4, 4, 4, 0, 2, 1, 4, 4, 4, 0, 2, 1, 3, 3, 4, 0, 4, 1, 4, 4, 4, 0, 4, 1, 4, 4, 4, 0, 3, 1, 4, 4, 4, 0, 4, 1, 1, 3, 1, 4, 0, 4, 1, 1, 1, 3, 0, 4, 1, 4, 1, 4, 0, 4, 1, 1, 1, 4, 0, 3, 1, 3, 1, 2, 0, 4, 1, 4, 1, 2, 0, 4, 1, 4, 1, 2, 0, 4, 1, 4, 1, 2, 0, 3, 1, 4, 1, 4, 0, 4, 1, 4, 1, 3, 0, 4, 1, 4, 1, 4, 0, 4, 1, 4, 4, 4, 0, 3, 1, 3, 3, 4, 0, 2, 1, 4, 4, 3, 0, 2, 1, 4, 4, 4, 0, 2, 1, 4, 4, 4, 0, 2, 2, 3, 2, 1, 0, 4, 2, 4, 2, 1, 0, 4, 2, 4, 2, 1, 0, 4, 2, 4, 2, 1, 0, 3, 3, 3, 3, 1, 0, 4, 4, 4, 4, 1, 0, 4, 4, 4, 4, 1, 0, 4, 4, 4, 4, 1, 0, 3, 3, 4, 3, 1, 0, 4, 4, 4, 4, 1, 0, 4, 4, 4, 4, 1, 0, 4, 4, 4, 4, 1, 0, 3, 3, 3, 3, 1, 0, 2, 4, 4, 4, 1, 0, 2, 4, 4, 4, 1, 0, 2, 4, 4, 4, 1, 0, 2, 2, 4, 2, 4, 0, 4, 2, 4, 2, 3, 0, 4, 2, 4, 2, 4, 0, 4, 2, 4, 4, 4, 0, 3, 3, 4, 3, 2, 0, 4, 4, 4, 4, 2, 0, 4, 4, 4, 4, 2, 0, 4, 4, 4, 4, 2, 0, 3, 3, 4, 3, 4, 0, 4, 4, 4, 4, 3, 0, 4, 4, 4, 4, 4, 0, 4, 4, 4, 4, 4, 0, 3, 3, 4, 4, 4, 0, 2, 4, 4, 4, 3, 0, 2, 4, 4, 4, 4, 0, 2, 4, 4, 4, 4, 0, 2, 2, 3, 3, 4, 0, 1, 2, 4, 4, 3, 0, 1, 2, 4, 4, 4, 0, 1, 2, 4, 4, 4, 0, 1, 3, 3, 3, 2, 0, 1, 4, 4, 4, 2, 0, 1, 4, 4, 4, 2, 0, 1, 4, 4, 4, 2, 0, 1, 3, 4, 4, 4, 0, 1, 4, 4, 4, 3, 0, 1, 4, 4, 4, 4, 0, 1, 4, 4, 4, 4, 0, 1, 3, 4, 4, 4, 0, 1, 4, 4, 4, 3, 0, 1, 4, 4, 4, 4, 0, 1, 4, 4, 4, 4, 0, 1, 1, 1, 3, 4, 4, 0, 1, 1, 1, 3, 4, 0, 1, 1, 1, 4, 3, 0, 1, 1, 4, 4, 4, 0, 1, 1, 3, 2, 4, 0, 1, 1, 4, 2, 4, 0, 1, 1, 4, 2, 3, 0, 1, 1, 4, 2, 4, 0, 1, 3, 3, 4, 2, 0, 1, 4, 4, 3, 2, 0, 1, 4, 4, 4, 2, 0, 1, 4, 4, 4, 2, 0, 1, 1, 4, 4, 4, 0, 1, 1, 4, 3, 4, 0, 1, 4, 4, 4, 3, 0, 1, 1, 4, 4, 4, 0, 2, 2, 3, 1, 4, 0, 2, 2, 4, 1, 4, 0, 2, 2, 4, 1, 3, 0, 2, 2, 4, 1, 4, 0, 3, 3, 3, 1, 4, 0, 4, 4, 4, 1, 4, 0, 4, 4, 4, 1, 3, 0, 4, 4, 4, 1, 4, 0, 3, 3, 3, 1, 2, 0, 4, 4, 4, 1, 2, 0, 4, 4, 4, 1, 2, 0, 4, 4, 4, 1, 2, 0, 3, 3, 4, 1, 4, 0, 4, 4, 4, 1, 4, 0, 4, 4, 4, 1, 3, 0, 4, 4, 4, 1, 4, 0, 2, 3, 3, 4, 1, 0, 2, 4, 4, 3, 1, 0, 2, 4, 4, 4, 1, 0, 2, 4, 4, 4, 1, 0, 3, 3, 3, 2, 1, 0, 4, 4, 4, 2, 1, 0, 4, 4, 4, 2, 1, 0, 4, 4, 4, 2, 1, 0, 3, 4, 4, 4, 1, 0, 4, 4, 4, 3, 1, 0, 4, 4, 4, 4, 1, 0, 4, 4, 4, 4, 1, 0, 3, 4, 4, 4, 1, 0, 4, 4, 4, 3, 1, 0, 4, 4, 4, 4, 1, 0, 4, 4, 4, 4, 1, 0, 2, 2, 4, 4, 4, 0, 2, 2, 4, 3, 4, 0, 2, 4, 4, 4, 3, 0, 2, 2, 4, 4, 4, 0, 3, 3, 4, 2, 4, 0, 4, 4, 4, 2, 4, 0, 4, 4, 4, 2, 3, 0, 4, 4, 4, 2, 4, 0, 3, 4, 4, 4, 2, 0, 4, 4, 4, 3, 2, 0, 4, 4, 4, 4, 2, 0, 4, 4, 4, 4, 2, 0, 3, 3, 4, 4, 4, 0, 4, 4, 4, 3, 4, 0, 4, 4, 4, 4, 3, 0, 4, 4, 4, 4, 4, 0)\n"
     ]
    }
   ],
   "source": [
    "print(policy_vi)"
   ]
  },
  {
   "cell_type": "markdown",
   "metadata": {},
   "source": [
    "### Evaluation 2x2"
   ]
  },
  {
   "cell_type": "code",
   "execution_count": 39,
   "metadata": {},
   "outputs": [],
   "source": [
    "states_w_Action = np.concatenate((states, np.expand_dims(policy_vi, axis=1)), axis=1)"
   ]
  },
  {
   "cell_type": "code",
   "execution_count": 40,
   "metadata": {},
   "outputs": [
    {
     "name": "stdout",
     "output_type": "stream",
     "text": [
      "Accuracy: 0.9\n"
     ]
    }
   ],
   "source": [
    "n=0\n",
    "test,_ = states_actions_2_2.get_test_data()\n",
    "\n",
    "for i in range(len(test)):\n",
    "    for j in range(len(states)):\n",
    "        \n",
    "        if ((test[i][0] == states_w_Action[j][:-1]).all() and (test[i][1] == states_w_Action[j][-1]).all()):\n",
    "            n = n + 1\n",
    "\n",
    "Accuracy = n/len(test)\n",
    "print('Accuracy:', Accuracy)"
   ]
  },
  {
   "cell_type": "code",
   "execution_count": 41,
   "metadata": {},
   "outputs": [],
   "source": [
    "def search(array, in_array):\n",
    "    b = 0\n",
    "    for i in range(len(in_array)):\n",
    "        if (array == in_array[i][:-1]).all():\n",
    "            b = [in_array[i][-1]]\n",
    "            #print(i)\n",
    "    return b\n"
   ]
  },
  {
   "cell_type": "code",
   "execution_count": 42,
   "metadata": {},
   "outputs": [],
   "source": [
    "import copy\n",
    "\n",
    "init = copy.copy(states_w_Action[0])\n",
    "test_states = []\n",
    "test_states.append(states_w_Action[0])\n",
    "\n",
    "for i in range(len(test) - 1):\n",
    "\n",
    "    if (init[-3] == 5):\n",
    "        if init[-1] < 4:\n",
    "            init[init[-1]] = init[-2]\n",
    "    else:\n",
    "        if init[-1] < 4:\n",
    "            init[init[-1]] = 0\n",
    "\n",
    "    new_state = np.concatenate((init[:4], test[i + 1][0][-2:]))\n",
    "    new_action = search(new_state, states_w_Action)\n",
    "    new_state_new_action = np.concatenate((new_state, new_action))\n",
    "    test_states.append(new_state_new_action)\n",
    "    init = copy.copy(new_state_new_action)\n",
    "\n",
    "test_states = np.array(test_states)\n"
   ]
  },
  {
   "cell_type": "code",
   "execution_count": 57,
   "metadata": {},
   "outputs": [],
   "source": [
    "referenz = 0\n",
    "actual = 0\n",
    "for i in range(len(test)):\n",
    "    if test[i][1] > 3:\n",
    "        referenz = referenz + 0\n",
    "    else:\n",
    "        referenz = referenz + np.sum(Action_dict[int(test[i][1])])\n",
    "\n",
    "for i in range(len(test_states)):\n",
    "    if test_states[i][-1] > 3:\n",
    "        actual = actual + 0\n",
    "    else:\n",
    "        actual = actual + np.sum(Action_dict[test_states[i][-1]])"
   ]
  },
  {
   "cell_type": "code",
   "execution_count": 58,
   "metadata": {},
   "outputs": [
    {
     "name": "stdout",
     "output_type": "stream",
     "text": [
      "43\n",
      "50\n"
     ]
    }
   ],
   "source": [
    "print(actual)\n",
    "print(referenz)"
   ]
  },
  {
   "cell_type": "code",
   "execution_count": 59,
   "metadata": {},
   "outputs": [
    {
     "name": "stdout",
     "output_type": "stream",
     "text": [
      "14.000000000000002 %\n"
     ]
    }
   ],
   "source": [
    "print(((referenz - actual) / referenz) * 100, '%')"
   ]
  },
  {
   "cell_type": "code",
   "execution_count": 60,
   "metadata": {},
   "outputs": [
    {
     "name": "stdout",
     "output_type": "stream",
     "text": [
      "[[array([0, 0, 0, 0, 5, 1]) array(0)]\n",
      " [array([1, 0, 0, 0, 5, 1]) array(1)]\n",
      " [array([1, 1, 0, 0, 8, 1]) array(0)]\n",
      " [array([0, 1, 0, 0, 5, 2]) array(0)]\n",
      " [array([2, 1, 0, 0, 5, 1]) array(2)]\n",
      " [array([2, 1, 1, 0, 5, 1]) array(3)]\n",
      " [array([2, 1, 1, 1, 8, 1]) array(1)]\n",
      " [array([2, 0, 1, 1, 8, 2]) array(0)]\n",
      " [array([0, 0, 1, 1, 5, 2]) array(0)]\n",
      " [array([2, 0, 1, 1, 5, 1]) array(1)]\n",
      " [array([2, 1, 1, 1, 8, 1]) array(1)]\n",
      " [array([2, 0, 1, 1, 5, 1]) array(1)]\n",
      " [array([2, 1, 1, 1, 8, 1]) array(1)]\n",
      " [array([2, 0, 1, 1, 5, 1]) array(1)]\n",
      " [array([2, 1, 1, 1, 8, 1]) array(1)]\n",
      " [array([2, 0, 1, 1, 5, 1]) array(1)]\n",
      " [array([2, 1, 1, 1, 8, 2]) array(0)]\n",
      " [array([0, 1, 1, 1, 5, 1]) array(0)]\n",
      " [array([1, 1, 1, 1, 8, 1]) array(0)]\n",
      " [array([0, 1, 1, 1, 8, 3]) array(4)]]\n"
     ]
    }
   ],
   "source": [
    "print(test)"
   ]
  },
  {
   "cell_type": "code",
   "execution_count": 61,
   "metadata": {},
   "outputs": [
    {
     "name": "stdout",
     "output_type": "stream",
     "text": [
      "[[0 0 0 0 5 1 0]\n",
      " [1 0 0 0 5 1 1]\n",
      " [1 1 0 0 8 1 0]\n",
      " [0 1 0 0 5 2 0]\n",
      " [2 1 0 0 5 1 2]\n",
      " [2 1 1 0 5 1 3]\n",
      " [2 1 1 1 8 1 1]\n",
      " [2 0 1 1 8 2 0]\n",
      " [0 0 1 1 5 2 1]\n",
      " [0 2 1 1 5 1 0]\n",
      " [1 2 1 1 8 1 0]\n",
      " [0 2 1 1 5 1 0]\n",
      " [1 2 1 1 8 1 0]\n",
      " [0 2 1 1 5 1 0]\n",
      " [1 2 1 1 8 1 0]\n",
      " [0 2 1 1 5 1 0]\n",
      " [1 2 1 1 8 2 1]\n",
      " [1 0 1 1 5 1 4]\n",
      " [1 0 1 1 8 1 0]\n",
      " [0 0 1 1 8 3 6]]\n"
     ]
    }
   ],
   "source": [
    "print(test_states)"
   ]
  },
  {
   "cell_type": "code",
   "execution_count": null,
   "metadata": {},
   "outputs": [],
   "source": []
  }
 ],
 "metadata": {
  "kernelspec": {
   "display_name": "Python 3",
   "language": "python",
   "name": "python3"
  },
  "language_info": {
   "codemirror_mode": {
    "name": "ipython",
    "version": 3
   },
   "file_extension": ".py",
   "mimetype": "text/x-python",
   "name": "python",
   "nbconvert_exporter": "python",
   "pygments_lexer": "ipython3",
   "version": "3.7.3"
  },
  "latex_envs": {
   "LaTeX_envs_menu_present": true,
   "autoclose": false,
   "autocomplete": true,
   "bibliofile": "biblio.bib",
   "cite_by": "apalike",
   "current_citInitial": 1,
   "eqLabelWithNumbers": true,
   "eqNumInitial": 1,
   "hotkeys": {
    "equation": "Ctrl-E",
    "itemize": "Ctrl-I"
   },
   "labels_anchors": false,
   "latex_user_defs": false,
   "report_style_numbering": false,
   "user_envs_cfg": false
  }
 },
 "nbformat": 4,
 "nbformat_minor": 2
}
