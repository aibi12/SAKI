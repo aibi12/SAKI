{
 "cells": [
  {
   "cell_type": "markdown",
   "metadata": {},
   "source": [
    "# Naive Bayes Transaction Classification"
   ]
  },
  {
   "cell_type": "markdown",
   "metadata": {},
   "source": [
    "The Naive Bayes Classifier is a probabilistic supervised learning method. The probability of a transaction $T$ beeing in class $c$ is given as  "
   ]
  },
  {
   "cell_type": "markdown",
   "metadata": {},
   "source": [
    "$$ P(c|T) \\propto P(c) \\prod_{1\\leq k \\leq n_{T}} P(t_{k}|c) \\tag{1}$$"
   ]
  },
  {
   "cell_type": "markdown",
   "metadata": {},
   "source": [
    "where $P(t_{k}|c)$ is the conditional probability of term $t_{k}$ occurring in a transaction $T$ of class/category $c$. \n",
    "For example: \n",
    "\n",
    "$(t_{1},t_{2},...,t_{n})$ $=$ (89990201.0, 28.07.2016, ..., EUR)"
   ]
  },
  {
   "cell_type": "markdown",
   "metadata": {},
   "source": [
    "$P(c)$ is the prior probability of a transaction occurring in class $c$.  \n"
   ]
  },
  {
   "cell_type": "markdown",
   "metadata": {},
   "source": [
    "Our goal is to find the class $c$, which at the best represents the given transaction $T$. Therefore we compute the <i> _maximum a posteriori_ </i>:\n",
    "\n",
    "$$\\DeclareMathOperator*{\\argmax}{arg\\,max} c_{map} = \\argmax_{c\\in \\textbf{C} } P(c|T) = \\argmax_{c\\in \\textbf{C} } P(c) \\prod_{1\\leq k \\leq n_{T}} P(t_{k}|c) \\tag{2}$$  "
   ]
  },
  {
   "cell_type": "markdown",
   "metadata": {},
   "source": [
    "The values for $P(c)$ and $P(t_{k}|c)$ we will estimate out from the given training data. "
   ]
  },
  {
   "cell_type": "markdown",
   "metadata": {},
   "source": [
    "In an extreme case this can result in a floating point underflow, since we are __multiplying__ a large number of conditional probabilities.   \n",
    "To avoid this, relating to mathematics there is a very common way to transform the above equation $(2)$ to a sum. In fact we use the logarithm.  \n",
    "Therefore the actual equation we will use in our further numerical computations looks like this:"
   ]
  },
  {
   "cell_type": "markdown",
   "metadata": {},
   "source": [
    "$$\\DeclareMathOperator*{\\argmax}{arg\\,max} c_{map} =\\argmax_{c\\in \\textbf{C} }\\ [\\ \\log{P(c)} \\ + \\sum_{1\\leq k \\leq n_{T}} \\log{P(t_{k}|c)} \\tag{3} \\ ]$$  "
   ]
  },
  {
   "cell_type": "markdown",
   "metadata": {},
   "source": [
    "For a better understanding, the prior probability $P(c)$ in our case represents the relative frequency of $c$ occurring in the given training set.  \n",
    "Where $P(t_{k}|c)$ as a conditional probability represents a weight, which tells whether $t_{k}$ is a good indicator for a class $c$.<cite data-cite=\"undefined\"></cite>"
   ]
  },
  {
   "cell_type": "markdown",
   "metadata": {},
   "source": [
    "## Estimation of the parameter $P(c)$ and $P(t_{k}|c)$ with _scikit-learn_"
   ]
  },
  {
   "cell_type": "markdown",
   "metadata": {},
   "source": [
    "Scikit-Learn provides us a bunch of Naive Bayes classifier types:\n",
    "1. _Gaussian_ Naive Bayes  \n",
    "2. _Multinomial_ Naive Bayes  \n",
    "3. _Complement_ Naive Bayes  \n",
    "4. _Bernoulli_ Naive Bayes \n",
    "  \n",
    "In this Article we will discuss all the Naive Bayes classifier types except of the Gaussian Naive Bayes classifier. Since we are dealing with text classification our data is discrete, where as the Gaussian represents a continuous distribution. Therefore to use Gaussian in our case we have to find a way to represent a word throughout a Gaussian distribution as a continuous value. There are maybe some ways to transform a word into a vector with continuous values, but in this case we will not take into consideration such kind of transformations and therefore ignore this type of classifier for the evaluation.  \n"
   ]
  },
  {
   "cell_type": "markdown",
   "metadata": {},
   "source": [
    "### MultinomialNB (Naive Bayes algorithm for multinomially distributed data)"
   ]
  },
  {
   "cell_type": "markdown",
   "metadata": {},
   "source": [
    "We will ignore $P(c)$, since the estimation of the prior probability is the same as in all Naive Bayes classifiers.\n",
    "  \n",
    "$$ P(c) = \\frac{N_{c}}{N} $$\n",
    "  \n",
    "  whereas in our case $N_{c}$ is the Number of transactions in class $c$ and $N$ the number of all transactions of the given training data."
   ]
  },
  {
   "cell_type": "markdown",
   "metadata": {},
   "source": [
    "In the MultinomialNB the conditional probability $P(t|c)$ is estimated as the relative frequency of the term $t$ in transactions occurring in class $c$:\n",
    "\n",
    "  $$ P(t|c) = \\frac{N_{t,c}}{\\sum_{t \\in T}N_{t,c}}$$\n",
    "  \n",
    "whereas $N_{t,c}$ is the number of occurrences of $t$ in the training set belonging to class $c$ and $\\sum_{t \\in T}N_{c,t}$ the total count terms $t \\in T$ in class $c$.<cite data-cite=\"undefined\"></cite><cite data-cite=\"6943456/MVIWDKMS\"></cite>"
   ]
  },
  {
   "cell_type": "markdown",
   "metadata": {},
   "source": [
    "### BernoulliNB "
   ]
  },
  {
   "cell_type": "markdown",
   "metadata": {},
   "source": [
    "An alternative to the MultinomialNB is the Bernoulli model. The estimation of the parameter $P(t|c)$ in the Bernoulli model is based on a binary independence model. It means, instead of estimating the relative frequency, it generates an binary indicator for each term $t$, either $1$ if the term is present in the transaction and $0$ otherwise. Thus we have:\n",
    "\n",
    "$$P(t|c) = \\frac{\\sum_{N_{c}}t_{c}}{N_{c}}$$\n",
    "\n",
    "where $N_{c}$ is the number of transactions of the class $c$ in the training set and $t_{c} \\in \\{0,1\\}$.<cite data-cite=\"undefined\"></cite><cite data-cite=\"6943456/MVIWDKMS\"></cite>\n"
   ]
  },
  {
   "cell_type": "markdown",
   "metadata": {},
   "source": [
    "### ComplementNB (CNB)"
   ]
  },
  {
   "cell_type": "markdown",
   "metadata": {},
   "source": [
    "The MNB unfortunately has some systematic problems, as one of them is selecting poor weights for the decision boundary, when it comes to imbalanced data set. It means that classes with fewer training samples are weighted less than those with a higher number of training samples. This is where CNB comes in. CNB is an adaptation of the standard multinomial naive Bayes (MNB) algorithm that is particularly suited for imbalanced data sets. And as you will see, CNB will be of importance in our case.<cite data-cite=\"6943456/MVIWDKMS\"></cite><cite data-cite=\"6943456/XRDAPUM7\"></cite>"
   ]
  },
  {
   "cell_type": "markdown",
   "metadata": {},
   "source": [
    "#### Estimation of the parameters in python"
   ]
  },
  {
   "cell_type": "markdown",
   "metadata": {},
   "source": [
    "At first we have to extract our given textdata from the _.csv_ file:  "
   ]
  },
  {
   "cell_type": "code",
   "execution_count": 74,
   "metadata": {},
   "outputs": [
    {
     "data": {
      "text/plain": [
       "12"
      ]
     },
     "execution_count": 74,
     "metadata": {},
     "output_type": "execute_result"
    }
   ],
   "source": [
    "import numpy as np\n",
    "\n",
    "attributes = np.array([\"ID\",\"Auftragskonto\",\"Buchungstag\",\"Valutadatum\",\"Buchungstext\",\"Verwendungszweck\",\"Beguenstigter/Zahlungspflichtiger\",\"Kontonummer\",\"BLZ\",\"Betrag\",\"Waehrung\",\"label\"])\n",
    "len(attributes)"
   ]
  },
  {
   "cell_type": "code",
   "execution_count": 75,
   "metadata": {},
   "outputs": [],
   "source": [
    "# Load CSV (using python)\n",
    "import csv\n",
    "\n",
    "filename = 'Exercise1_TransactionClassification_DataSet_w_Header.csv'\n",
    "raw_data = open(filename, 'rt')\n",
    "reader = csv.reader(raw_data, delimiter=';', quoting=csv.QUOTE_NONE)\n",
    "x = list(reader)\n",
    "data = np.array(x).astype(\"str\")"
   ]
  },
  {
   "cell_type": "code",
   "execution_count": 76,
   "metadata": {},
   "outputs": [
    {
     "data": {
      "text/plain": [
       "(209, 12)"
      ]
     },
     "execution_count": 76,
     "metadata": {},
     "output_type": "execute_result"
    }
   ],
   "source": [
    "data.shape"
   ]
  },
  {
   "cell_type": "markdown",
   "metadata": {},
   "source": [
    "#### Clean up data:"
   ]
  },
  {
   "cell_type": "code",
   "execution_count": 77,
   "metadata": {},
   "outputs": [
    {
     "name": "stdout",
     "output_type": "stream",
     "text": [
      "(209,)\n",
      "['0 899902010 28072016 28072016 lohn gehalt gehalt adorsys gmbh co kg endtoendref notprovided kundenreferenz nsct1603300013660000000000000000001 gutschrift adorsys gmbh co kg 7807800780 25190001 200000 eur'\n",
      " '1 899902010 27072016 27072016 miete byladem1sbt de12773501123456789889 miete beuthener str 25 endtoendref notprovided dauerauftrag dauerauftrag georg tasche de31251900019123456780 vohade2hxxx 67000 eur'\n",
      " '2 899902010 21072016 21072016 bargeld 21071634uhr nuernberg all eur 7000 gebeur 000 einzahlungauszahlung ga nr55508568 blz76010085 9 bargeld 9999900780 25190001 7000 eur'\n",
      " '3 899902010 20072016 20072016 lebensmittel getraenke 2831 edeka neubauer nuernbnuernb 20160720t175445 kfn 9 vj 1612 lastschrift kartenzahlung 9736000780 25190001 7321 eur'\n",
      " '4 899902010 18072016 18072016 spontanausgabe amazon neue playstation 9988776655 25125100 363 eur'\n",
      " '5 899902010 15072016 15072016 mieteinnahmen mietzuschuss endtoendref notprovided kundenreferenz nsct1603080001510000000000000000006 gutschrift isabel anna de31251900019736000780 vohade2hxxx 20000 eur'\n",
      " '6 899902010 08072016 08072016 lebensmittel getraenke 2831 edeka neubauer nuernbnuernb 20160509t175445 kfn 9 vj 1612 lastschrift kartenzahlung 9736000780 25190001 1999 eur'\n",
      " '7 899902010 05072016 05072016 drogerie dm fil1137 h65128nuernbergde 2 0160419t170343folgenr001 verf alld2020 12 dm drogeriemarkt sagt danke 7755566780 25190001 2885 eur'\n",
      " '8 899902010 04072016 04072016 geldanlage ccbade31xxx de71310108339900123456 sparen endtoendref notprovided dauerauftrag dauerauftrag michael koffer de69790800529736000780 dresdeff790 30000 eur'\n",
      " '9 899902010 01072016 01072016 bargeld 16021634uhr nuernberg all eur 7000 gebeur 000 einzahlungauszahlung ga nr55508568 blz76010085 9 bargeld 9999900780 25190001 5000 eur'\n",
      " '10 899902010 29062016 29062016 lohn gehalt gehalt adorsys gmbh co kg endtoendref notprovided kundenreferenz nsct1603300013660000000000000000001 gutschrift adorsys gmbh co kg 7807800780 25190001 200000 eur'\n",
      " '11 899902010 28062016 28062016 miete byladem1sbt de12773501123456789889 miete beuthener str 25 endtoendref notprovided dauerauftrag dauerauftrag georg tasche de31251900019123456780 vohade2hxxx 67000 eur'\n",
      " '12 899902010 15062016 15062016 mieteinnahmen mietzuschuss endtoendref notprovided kundenreferenz nsct1603080001510000000000000000006 gutschrift isabel anna de31251900019736000780 vohade2hxxx 20000 eur'\n",
      " '13 899902010 10062016 10062016 lebensmittel getraenke 2831 edeka neubauer nuernbnuernb 20160510t175445 kfn 9 vj 1612 lastschrift kartenzahlung 9736000780 25190001 2599 eur'\n",
      " '14 899902010 08062016 08062016 drogerie dm fil1137 h65128nuernbergde 2 0160216t170343folgenr001 verf alld2020 12 dm drogeriemarkt sagt danke 7755566780 25190001 1999 eur'\n",
      " '15 899902010 03062016 03062016 lebensmittel getraenke 2831 edeka neubauer nuernbnuernb 20160504t175445 kfn 9 vj 1612 lastschrift kartenzahlung 9736000780 25190001 7321 eur'\n",
      " '16 899902010 02062016 02062016 lebensmittel getraenke 2831 edeka neubauer nuernbnuernb 20160602t175445 kfn 9 vj 1612 lastschrift kartenzahlung 9736000780 25190001 1000 eur'\n",
      " '17 899902010 02062016 02062016 geldanlage ccbade31xxx de71310108339900123456 sparen endtoendref notprovided dauerauftrag dauerauftrag michael koffer de69790800529736000780 dresdeff790 30000 eur'\n",
      " '18 899902010 01062016 01062016 drogerie dm fil1137 h65128nuernbergde 2 0160601t170343folgenr001 verf alld2020 12 dm drogeriemarkt sagt danke 7755566780 25190001 2885 eur'\n",
      " '19 899902010 01062016 01062016 bargeld 01061634uhr nuernberg all eur 7000 gebeur 000 einzahlungauszahlung ga nr55508568 blz76010085 9 bargeld 9999900780 25190001 7000 eur'\n",
      " '20 899902010 31052016 31052016 geldanlage ssknde77xxx de41760501010012345675 einmalsparen endtoendref ccb91ue162146 ueberweisung christina jung de31251900019736333780 vohade2hxxx 25000 eur'\n",
      " '21 899902010 30052016 30052016 lohn gehalt gehalt adorsys gmbh co kg endtoendref notprovided kundenreferenz nsct1603300013660000000000000000001 gutschrift adorsys gmbh co kg 7807800780 25190001 200000 eur'\n",
      " '22 899902010 27052016 27052016 miete byladem1sbt de12773501123456789889 miete beuthener str 25 endtoendref notprovided dauerauftrag dauerauftrag georg tasche de31251900019123456780 vohade2hxxx 67000 eur'\n",
      " '23 899902010 18052016 18052016 mieteinnahmen mietzuschuss endtoendref notprovided kundenreferenz nsct1603080001510000000000000000006 gutschrift isabel anna de31251900019736000780 vohade2hxxx 20000 eur'\n",
      " '24 899902010 10052016 10052016 lebensmittel getraenke 2831 edeka neubauer nuernbnuernb 20160510t175445 kfn 9 vj 1612 lastschrift kartenzahlung 9736000780 25190001 2599 eur'\n",
      " '25 899902010 09052016 09052016 lebensmittel getraenke 2831 edeka neubauer nuernbnuernb 20160509t175445 kfn 9 vj 1612 lastschrift kartenzahlung 9736000780 25190001 1999 eur'\n",
      " '26 899902010 04052016 04052016 lebensmittel getraenke 2831 edeka neubauer nuernbnuernb 20160504t175445 kfn 9 vj 1612 lastschrift kartenzahlung 9736000780 25190001 7321 eur'\n",
      " '27 899902010 03052016 03052016 geldanlage ccbade31xxx de71310108339900123456 sparen endtoendref notprovided dauerauftrag dauerauftrag michael koffer de69790800529736000780 dresdeff790 30000 eur'\n",
      " '28 899902010 28042016 28042016 lohn gehalt gehalt adorsys gmbh co kg endtoendref notprovided kundenreferenz nsct1603300013660000000000000000001 gutschrift adorsys gmbh co kg 7807800780 25190001 200000 eur'\n",
      " '29 899902010 27042016 27042016 miete byladem1sbt de12773501123456789889 miete beuthener str 25 endtoendref notprovided dauerauftrag dauerauftrag georg tasche de31251900019123456780 vohade2hxxx 67000 eur'\n",
      " '30 899902010 19042016 19042016 drogerie dm fil1137 h65128nuernbergde 2 0160419t170343folgenr001 verf alld2020 12 dm drogeriemarkt sagt danke 7755566780 25190001 2885 eur'\n",
      " '31 899902010 19042016 19042016 bargeld 19041634uhr nuernberg all eur 7000 gebeur 000 einzahlungauszahlung ga nr55508568 blz76010085 9 bargeld 9999900780 25190001 10000 eur'\n",
      " '32 899902010 15042016 15042016 mieteinnahmen mietzuschuss endtoendref notprovided kundenreferenz nsct1603080001510000000000000000006 gutschrift isabel anna de31251900019736000780 vohade2hxxx 20000 eur'\n",
      " '33 899902010 04042016 04042016 geldanlage ccbade31xxx de71310108339900123456 sparen endtoendref notprovided dauerauftrag dauerauftrag michael koffer de69790800529736000780 dresdeff790 30000 eur'\n",
      " '34 899902010 30032016 30032016 lohn gehalt gehalt adorsys gmbh co kg endtoendref notprovided kundenreferenz nsct1603300013660000000000000000001 gutschrift adorsys gmbh co kg 7807800780 25190001 200000 eur'\n",
      " '35 899902010 29032016 29032016 miete byladem1sbt de12773501123456789889 miete beuthener str 25 endtoendref notprovided dauerauftrag dauerauftrag georg tasche de31251900019123456780 vohade2hxxx 67000 eur'\n",
      " '36 899902010 16032016 16032016 geldanlage spdude68xxx de41760501010012345675 einmalsparen endtoendref ccb91ue162146 ueberweisung christina jung de31251900019736333780 vohade2hxxx 100000 eur'\n",
      " '37 899902010 15032016 15032016 lebensmittel getraenke 2831 edeka neubauer nuernbnuernb 20160315t175445 kfn 9 vj 1612 lastschrift kartenzahlung 9736000780 25190001 1000 eur'\n",
      " '38 899902010 15032016 15032016 mieteinnahmen mietzuschuss endtoendref notprovided kundenreferenz nsct1603080001510000000000000000006 gutschrift isabel anna de31251900019736000780 vohade2hxxx 20000 eur'\n",
      " '39 899902010 02032016 02032016 geldanlage ccbade31xxx de71310108339900123456 sparen endtoendref notprovided dauerauftrag dauerauftrag michael koffer de69790800529736000780 dresdeff790 30000 eur'\n",
      " '40 899902010 26022016 26022016 lohn gehalt gehalt adorsys gmbh co kg endtoendref notprovided kundenreferenz nsct1603300013660000000000000000001 gutschrift adorsys gmbh co kg 7807800780 25190001 200000 eur'\n",
      " '41 899902010 25022016 25022016 miete byladem1sbt de12773501123456789889 miete beuthener str 25 endtoendref notprovided dauerauftrag dauerauftrag georg tasche de31251900019123456780 vohade2hxxx 67000 eur'\n",
      " '42 899902010 16022016 16022016 drogerie dm fil1137 h65128nuernbergde 2 0160216t170343folgenr001 verf alld2020 12 dm drogeriemarkt sagt danke 7755566780 25190001 2885 eur'\n",
      " '43 899902010 16022016 16022016 bargeld 16021634uhr nuernberg all eur 7000 gebeur 000 einzahlungauszahlung ga nr55508568 blz76010085 9 bargeld 9999900780 25190001 5000 eur'\n",
      " '44 899902010 15022016 15022016 mieteinnahmen mietzuschuss endtoendref notprovided kundenreferenz nsct1603080001510000000000000000006 gutschrift isabel anna de31251900019736000780 vohade2hxxx 20000 eur'\n",
      " '45 899902010 02022016 02022016 geldanlage ccbade31xxx de71310108339900123456 sparen endtoendref notprovided dauerauftrag dauerauftrag michael koffer de69790800529736000780 dresdeff790 30000 eur'\n",
      " '46 899902010 28012016 28012016 lohn gehalt gehalt adorsys gmbh co kg endtoendref notprovided kundenreferenz nsct1603300013660000000000000000001 gutschrift adorsys gmbh co kg 7807800780 25190001 200000 eur'\n",
      " '47 899902010 28012016 28012016 geldanlage ssknde77xxx de41760501010012345675 einmalsparen endtoendref ccb91ue162146 ueberweisung christina jung de31251900019736333780 vohade2hxxx 400000 eur'\n",
      " '48 899902100 27042016 27042016 gehaltrente gehalt adorsys gmbh co kg adorsys gmbh co kg de74760320009460000022 teamde71 179273 eur'\n",
      " '49 899902100 14042016 14042016 lastschrift einzugsermã¤chtigung bears friends gmbverfa lld201612 friends de40750500000030909966 byladem1rgg 5000 eur'\n",
      " '50 899902100 13042016 13042016 lastschrift einzugsermã¤chtigung verfa lld201612 bears de40750500000030909977 byladem1rbb 500 eur'\n",
      " '51 899902100 12042016 12042016 lastschrift einzugsermã¤chtigung pulsnitz gmb de40750500000030909999 byladem1rgb 50 eur'\n",
      " '52 899902100 11042016 11042016 lastschrift einzugsermã¤chtigung elv56006915 0804 1535 me1rewe sa gt danke 46400517 rewe nuernberg aeu de56500101111932685105 essede5f 4403 eur'\n",
      " '53 899902100 11042016 11042016 lastschrift einzugsermã¤chtigung tk maxx nuernbergnuernbergde 201 60402t135208 folgenr001 verfal ld202012 tk maxx nã¼rnberg de38300800000245238803 dresdeff300 8999 eur'\n",
      " '54 899902100 11042016 11042016 lastschrift einzugsermã¤chtigung visa621850218002796620 53500eur00000000000 3103 000 10355999 amazon de marketplace 922904916 76030080 535 eur'\n",
      " '55 899902100 11042016 11042016 lastschrift einzugsermã¤chtigung bears friends gmbpulsnitzde 20 160102t141806 folgenr000 verfa lld201612 bears friends gmb de40750500000030909980 byladem1rbg 5 eur'\n",
      " '56 899902100 06042016 06042016 lastschrift einzugsermã¤chtigung visa6218502106060876 2000eur00000000000 0404 2000 10316011 bankhaus august lenz atm 922904916 76030080 20 eur'\n",
      " '57 899902100 06042016 06042016 lastschrift einzugsermã¤chtigung abonnement kdnr 5104489 vag de89760501010001011500 ssknde77 512 eur'\n",
      " '58 899902100 06042016 06042016 lastschrift einzugsermã¤chtigung elv56006915 0404 1535 me1rewe sa gt danke 46400517 rewe nuernberg aeu de56500101111932685105 essede5f 1299 eur'\n",
      " '59 899902100 05042016 05042016 lastschrift einzugsermã¤chtigung visa62185021senningerberg 2430eur00000000000 0104 000 10355499 foodora 922904916 76030080 243 eur'\n",
      " '60 899902100 04042016 04042016 lastschrift einzugsermã¤chtigung tk maxx nuernbergnuernbergde 201 60402t135208 folgenr001 verfal ld202012 tk maxx nã¼rnberg de38300800000245238803 dresdeff300 8999 eur'\n",
      " '61 899902100 04042016 04042016 lastschrift einzugsermã¤chtigung visa621850218002796620 384eur00000000000 3103 000 10355999 amazon de marketplace 922904916 76030080 384 eur'\n",
      " '62 899902100 01042016 01042016 lastschrift einzugsermã¤chtigung visa621850218002796620 1299eur00000000000 3003 000 10355942 amazon de marketplace 922904916 76030080 1299 eur'\n",
      " '63 899902100 01042016 01042016 dauerauftrag haushalt anna fein lucas fein de60760300800230188170 csdbde71xxx 100 eur'\n",
      " '64 899902100 01042016 01042016 dauerauftrag urlaub anna fein de51760300800843688500 csdbde71xxx 110 eur'\n",
      " '65 899902100 01042016 01042016 lastschrift einzugsermã¤chtigung abschlag strom 0416 vk 122721405 gruenstrom classic stromio gmbh de75550104000414135389 aarbde5wdom 32 eur'\n",
      " '66 899902100 31032016 31032016 abschluss abschluss abschluss 6004 eur'\n",
      " '67 899902100 31032016 31032016 euroãœberweisung bp18211870563814 billpay gmbh de87100500006000036211 beladebexxx 1589 eur'\n",
      " '68 899902100 31032016 31032016 dauerauftrag sparen anna fein de31701100883254400704 pbnkdeffxxx 100 eur'\n",
      " '69 899902100 31032016 31032016 dauerauftrag miete lucas fein de34760606180001954970 genodef1n02 41216 eur'\n",
      " '70 899902100 30032016 30032016 gehaltrente gehalt adorsys gmbh co kg adorsys gmbh co kg de74760320009460000022 teamde71 179273 eur'\n",
      " '71 899902100 30032016 30032016 lastschrift einzugsermã¤chtigung visa6218502106060876 5000eur00000000000 2503 5000 10316011 bankhaus august lenz atm 922904916 76030080 50 eur'\n",
      " '72 899902100 29032016 29032016 lastschrift einzugsermã¤chtigung aramark gmbhnuernbergde 201603 24t123012 folgenr001 verfalld20 2012 aramark gmbh ihs teambank de70500202000015003825 bhfbdeff500 20 eur'\n",
      " '73 899902100 29032016 29032016 lastschrift einzugsermã¤chtigung 230320211004393201252017040elv6520 1704 2303 2021 m e1 sushi glas gastronomie gmbh de52300500000001484112 weladedd 30 eur'\n",
      " '74 899902100 23032016 23032016 lastschrift einzugsermã¤chtigung visa621850218002796620 53500eur00000000000 2103 000 10355999 amazon de marketplace 922904916 76030080 535 eur'\n",
      " '75 899902100 23032016 23032016 lastschrift einzugsermã¤chtigung elv56006915 2103 1610 me1rewe sa gt danke 46400517 rewe nuernberg aeu de56500101111932685105 essede5f 2277 eur'\n",
      " '76 899902100 22032016 22032016 lastschrift einzugsermã¤chtigung kdnr k358853507 rgnr 150257651 551 1u1 telecom gmbh de97500400000589011600 cobadeff 2499 eur'\n",
      " '77 899902100 21032016 21032016 lastschrift einzugsermã¤chtigung dm fil1137 h65128nuernbergde 2 0160319t170343folgenr001 verf alld2020 12 dm drogeriemarkt sagt danke de88600501017402099997 soladest600 2885 eur'\n",
      " '78 899902100 21032016 21032016 lastschrift einzugsermã¤chtigung celona nuernbergnuernbergde 2016 0319t152252 folgenr001 verfall d202012 cafe bar celona nuernberg de54760501010005177019 ssknde77 20 eur'\n",
      " '79 899902100 21032016 21032016 lastschrift einzugsermã¤chtigung visa6218502106060876 10000eur00000000000 1703 10000 10316011 bankhaus august lenz atm 922904916 76030080 100 eur'\n",
      " '80 899902100 16032016 16032016 lastschrift einzugsermã¤chtigung visa621850218002796620 3373eur00000000000 1403 000 10355999 amazon de marketplace 922904916 76030080 3373 eur'\n",
      " '81 899902100 15032016 15032016 lastschrift einzugsermã¤chtigung aramark gmbhnuernbergde 201603 14t120436 folgenr001 verfalld20 2012 aramark gmbh ihs teambank de70500202000015003825 bhfbdeff500 20 eur'\n",
      " '82 899902100 15032016 15032016 lastschrift einzugsermã¤chtigung elv56006914 1203 1942 me1rewe sa gt danke 46400517 rewe nuernberg aeu de56500101111932685105 essede5f 2257 eur'\n",
      " '83 899902100 15032016 15032016 lastschrift einzugsermã¤chtigung abschlag gas 0316 vk 220200215414 e wie einfach gmbh de30370700600177252400 deutdedk 46 eur'\n",
      " '84 899902100 15032016 15032016 lastschrift einzugsermã¤chtigung elv66021447 1203 1730 me11 hm 798 sagt vielen dank de62200400000244890003 cobadeff 8296 eur'\n",
      " '85 899902100 14032016 14032016 lastschrift einzugsermã¤chtigung californianuernbergde 20160312 t190455 folgenr001 verfalld2020 12 california de86300500000001052141 weladedd 24 eur'\n",
      " '86 899902100 11032016 11032016 lastschrift einzugsermã¤chtigung visa6218502106060876 4000eur00000000000 0903 4000 10316011 bankhaus august lenz atm 922904916 76030080 40 eur'\n",
      " '87 899902100 10032016 10032016 lastschrift einzugsermã¤chtigung esso deutschland gmbhnuernbergde 20160309t070435 folgenr001 ve rfalld202012 esso deutschland gmbh de25200800000930401000 dresdeff200 2602 eur'\n",
      " '88 899902100 09032016 09032016 euroãœberweisung geschenk doris lucas fein de34760606180001954970 genodef1n02 100 eur'\n",
      " '89 899902100 09032016 09032016 lastschrift einzugsermã¤chtigung 04032016 350193 horst dietrich 8324 2 reit im winkl ref hobex ag de91740201000008119083 rzoode77 678 eur'\n",
      " '90 899902100 07032016 07032016 lastschrift einzugsermã¤chtigung intersport rentreit im winklde 2 0160305t095727folgenr001 verf alld2020 12 intersport rent de24710520500000355073 byladem1tst 18 eur'\n",
      " '91 899902100 07032016 07032016 euroãœberweisung interne umbuchung anna fein de51760300800843688500 csdbde71xxx 1000 eur'\n",
      " '92 899902100 04032016 04032016 lastschrift einzugsermã¤chtigung aramark gmbhnuernbergde 201603 03t123304 folgenr001 verfalld20 2012 aramark gmbh ihs teambank de70500202000015003825 bhfbdeff500 20 eur'\n",
      " '93 899902100 04032016 04032016 lastschrift einzugsermã¤chtigung abonnement kdnr 5104489 vag de89760501010001011500 ssknde77 512 eur'\n",
      " '94 899902100 03032016 03032016 lastschrift einzugsermã¤chtigung rse gastro gmbhroethenbachde 201 60302t220220 folgenr001 verfal ld202012 rse gastro gmbh de71500400000600178805 cobadeff 37 eur'\n",
      " '95 899902100 03032016 03032016 lastschrift einzugsermã¤chtigung elv56006915 0103 1954 me1rewe sa gt danke 46400517 rewe nuernberg aeu de56500101111932685105 essede5f 975 eur'\n",
      " '96 899902100 02032016 02032016 lastschrift einzugsermã¤chtigung visa6218502106060876 2000eur00000000000 2902 2000 10316011 bankhaus august lenz atm 922904916 76030080 20 eur'\n",
      " '97 899902100 01032016 01032016 lastschrift einzugsermã¤chtigung visa621850218002796620 5242eur00000000000 2702 000 10355999 amazon de marketplace 922904916 76030080 5242 eur'\n",
      " '98 899902100 01032016 01032016 lastschrift einzugsermã¤chtigung visa62185021amazonde 754eur00000000000 2602 000 10355969 amazon eu 922904916 76030080 754 eur'\n",
      " '99 899902100 01032016 01032016 dauerauftrag haushalt anna fein lucas fein de60760300800230188170 csdbde71xxx 100 eur'\n",
      " '100 899902100 01032016 01032016 dauerauftrag urlaub anna fein de51760300800843688500 csdbde71xxx 110 eur'\n",
      " '101 899902100 01032016 01032016 lastschrift einzugsermã¤chtigung abschlag strom 0316 vk 122721405 gruenstrom classic stromio gmbh de75550104000414135389 aarbde5wdom 32 eur'\n",
      " '102 899902100 29022016 29022016 lastschrift einzugsermã¤chtigung omv nuernberg 7540nuernbergde 20 160226t151734 folgenr001 verfa lld202012 omv deutschland gmbh de46743200730005403626 hyvedemm433 2602 eur'\n",
      " '103 899902100 29022016 29022016 euroscheck gaabelastung ausland mango nuremberg karolinennuernber gde0 20160227t103917 folgenr 001 verfalld209912 issuer de66760300800210438280 csdbde71 1599 eur'\n",
      " '104 899902100 29022016 29022016 lastschrift einzugsermã¤chtigung nuernberg ticket gmbh im u1nuernb ergde 20160227t111418 folgenr 001 verfalld202012 lastschrift aus kartenzahlung de29370100500555615500 pbnkdeff 1657 eur'\n",
      " '105 899902100 29022016 29022016 lastschrift einzugsermã¤chtigung dm fil2103 h65214nuernbergde 2 0160227t114326folgenr001 verf alld2020 12 dm drogeriemarkt sagt danke de88600501017402099997 soladest600 545 eur'\n",
      " '106 899902100 29022016 29022016 dauerauftrag miete lucas fein de34760606180001954970 genodef1n02 41216 eur'\n",
      " '107 899902100 29022016 29022016 lastschrift einzugsermã¤chtigung elv56006915 2502 1951 me1rewe sa gt danke 46400517 rewe nuernberg aeu de56500101111932685105 essede5f 1042 eur'\n",
      " '108 899902100 26022016 26022016 gehaltrente gehalt adorsys gmbh co kg adorsys gmbh co kg de74760320009460000022 teamde71 298624 eur'\n",
      " '109 899902100 25022016 25022016 lastschrift einzugsermã¤chtigung visa62185021rathaus 5000eur00000000000 2302 5000 10316011 sparkasse nuernberg 922904916 76030080 50 eur'\n",
      " '110 899902100 25022016 25022016 lastschrift einzugsermã¤chtigung visa621850218002796620 2630eur00000000000 2302 000 10355999 amazon de marketplace 922904916 76030080 263 eur'\n",
      " '111 899902100 25022016 25022016 lastschrift einzugsermã¤chtigung elv56006915 2302 1159 me1rewe sa gt danke 46400517 rewe nuernberg aeu de56500101111932685105 essede5f 3719 eur'\n",
      " '112 899902100 24022016 24022016 lastschrift einzugsermã¤chtigung visa62185021amazonde 799eur00000000000 2202 000 10355969 amazon eu 922904916 76030080 799 eur'\n",
      " '113 899902100 24022016 24022016 lastschrift einzugsermã¤chtigung visa62185021amazonde 673eur00000000000 2202 000 10355969 amazon eu 922904916 76030080 673 eur'\n",
      " '114 899902100 23022016 23022016 lastschrift einzugsermã¤chtigung visa621850218002796620 1000eur00000000000 2102 000 10355999 amazon de marketplace 922904916 76030080 10 eur'\n",
      " '115 899902100 22022016 22022016 lastschrift einzugsermã¤chtigung gries deco companynuernbergde 20 160220t153251 folgenr001 verfa lld202012 gries deco company de13700202700654198462 hyvedemm 1297 eur'\n",
      " '116 899902100 22022016 22022016 lastschrift einzugsermã¤chtigung ultracomix gmbhnuernbergde 2016 0220t173528 folgenr001 verfall d202012 ultracomix gmbh de52664926000014134905 genode61app 1995 eur'\n",
      " '117 899902100 22022016 22022016 lastschrift einzugsermã¤chtigung kdnr k358853507 rgnr 150251073 317 1u1 telecom gmbh de97500400000589011600 cobadeff 2499 eur'\n",
      " '118 899902100 19022016 19022016 lastschrift einzugsermã¤chtigung skyline gaststaettenuernbergde 2 0160218t213358folgenr001 verf alld2020 12 skyline gaststveranst de90793301110000410638 flesdemm 32 eur'\n",
      " '119 899902100 16022016 16022016 lastschrift einzugsermã¤chtigung visa62185021schnieglin 14000eur00000000000 1302 14000 10316011 sparkasse nuernberg 922904916 76030080 140 eur'\n",
      " '120 899902100 16022016 16022016 lastschrift einzugsermã¤chtigung visa62185021amazondebil 3599eur00000000000 1402 000 10355735 amazon digital video 922904916 76030080 3599 eur'\n",
      " '121 899902100 16022016 16022016 lastschrift einzugsermã¤chtigung visa6218502106060876 1000eur00000000000 1402 1000 10316011 bankhaus august lenz atm 922904916 76030080 10 eur'\n",
      " '122 899902100 15022016 15022016 lastschrift einzugsermã¤chtigung fuerthermarefuerthde 20160213t 143500 folgenr001 verfalld2020 12 fuerthermare de86762500000009899576 byladem1sfu 25 eur'\n",
      " '123 899902100 15022016 15022016 lastschrift einzugsermã¤chtigung abschlag gas 0216 vk 220200215414 e wie einfach gmbh de30370700600177252400 deutdedk 46 eur'\n",
      " '124 899902100 15022016 15022016 lastschrift einzugsermã¤chtigung rundfunk 012016 032016 beitrags nr 574704817 aenderungen ganz bequ em wwwrundfunkbeitragde ard zdf dradio beitragsservice de28700500000002024100 bylademm 525 eur'\n",
      " '125 899902100 11022016 12022016 euroãœberweisung 101e13 zalando se de86210700200123010101 deutdehh210 1134 eur'\n",
      " '126 899902100 10022016 10022016 lastschrift einzugsermã¤chtigung visa6218502106060876 4000eur00000000000 0802 4000 10316011 bankhaus august lenz atm 922904916 76030080 40 eur'\n",
      " '127 899902100 09022016 09022016 euroãœberweisung strom re 330000099057 vk 12272140 5 gruenstrom classic stromio gmbh de75550104000414135389 aarbde5wdom 1617 eur'\n",
      " '128 899902100 08022016 08022016 lastschrift einzugsermã¤chtigung cafe bistro seonnuernbergde 2016 0205t230111 folgenr001 verfall d202012 cafe seon dankt de31760400610535961700 cobadeff 34 eur'\n",
      " '129 899902100 08022016 08022016 lastschrift einzugsermã¤chtigung visa6218502106060876 4000eur00000000000 0402 4000 10316011 bankhaus august lenz atm 922904916 76030080 40 eur'\n",
      " '130 899902100 08022016 08022016 euroãœberweisung lombagine sarah mâ¸ller de89500105175404143976 ingddeffxxx 1038 eur'\n",
      " '131 899902100 04022016 04022016 lastschrift einzugsermã¤chtigung apotheke sebalder hnuernbergde 2 0160203t164807folgenr001 verf alld2020 12 apotheke sebalder hoefe de69120300000011090065 byladem1001 717 eur'\n",
      " '132 899902100 04022016 04022016 lastschrift einzugsermã¤chtigung abonnement kdnr 5104489 vag de89760501010001011500 ssknde77 512 eur'\n",
      " '133 899902100 04022016 04022016 lastschrift einzugsermã¤chtigung 161080109883418 34439927 ts65354 05 travelsecure auslandsrei sekr ankenvers icherung 3101163101 17 3300 wuerzburger versicherungsag de03790700160037800000 deutdemm790 33 eur'\n",
      " '134 899902100 03022016 03022016 lastschrift einzugsermã¤chtigung 30374831412001136 amazon mktplce eude 0164378887929309 amazon payments europe sca de87300308801908262006 tubddedd 137 eur'\n",
      " '135 899902100 03022016 03022016 lastschrift einzugsermã¤chtigung 30305806318794708 amazon mktplce eude 2411354884929964 amazon payments europe sca de87300308801908262006 tubddedd 2085 eur'\n",
      " '136 899902100 02022016 02022016 lastschrift einzugsermã¤chtigung aramark gmbhnuernbergde 201602 01t115514 folgenr001 verfalld20 2012 aramark gmbh ihs teambank de70500202000015003825 bhfbdeff500 20 eur'\n",
      " '137 899902100 02022016 02022016 lastschrift einzugsermã¤chtigung esso deutschland gmbhnuernbergde 20160201t065722 folgenr001 ve rfalld202012 esso deutschland gmbh de25200800000930401000 dresdeff200 406 eur'\n",
      " '138 899902100 02022016 02022016 euroãœberweisung 10103084736793zalando zalando se de86210700200123010101 deutdehh210 5 eur'\n",
      " '139 899902100 02022016 02022016 lastschrift einzugsermã¤chtigung 30300846325339566 amazon mktplce eude 2410573888643087 amazon payments europe sca de87300308801908262006 tubddedd 1793 eur'\n",
      " '140 899902100 02022016 02022016 lastschrift einzugsermã¤chtigung elv56006917 3001 1537 me1rewe sa gt danke 46400517 rewe nuernberg aeu de56500101111932685105 essede5f 1387 eur'\n",
      " '141 899902100 02022016 02022016 lastschrift einzugsermã¤chtigung 30344883856169917 amazon mktplce eude 1637782719640441 amazon payments europe sca de87300308801908262006 tubddedd 696 eur'\n",
      " '142 899902100 01022016 01022016 lastschrift einzugsermã¤chtigung vero moda nuernbergnuernbergde 2 0160130t142554folgenr001 verf alld2020 12 69 vero moda nuernberg city de38215400600211037700 cobadeff 3495 eur'\n",
      " '143 899902100 01022016 01022016 dauerauftrag haushalt anna fein lucas fein de60760300800230188170 csdbde71xxx 100 eur'\n",
      " '144 899902100 01022016 01022016 dauerauftrag urlaub anna fein de51760300800843688500 csdbde71xxx 110 eur'\n",
      " '145 899902100 01022016 01022016 lastschrift einzugsermã¤chtigung elv56006916 2801 1912 me1rewe sa gt danke 46400517 rewe nuernberg aeu de56500101111932685105 essede5f 2264 eur'\n",
      " '146 899902100 29012016 29012016 dauerauftrag miete lucas fein de34760606180001954970 genodef1n02 41216 eur'\n",
      " '147 899902100 28012016 28012016 gehaltrente gehalt adorsys gmbh co kg adorsys gmbh co kg de74760320009460000022 teamde71 179273 eur'\n",
      " '148 899902100 27012016 27012016 lastschrift einzugsermã¤chtigung elv56006915 2501 1654 me1rewe sa gt danke 46400517 rewe nuernberg aeu de56500101111932685105 essede5f 1794 eur'\n",
      " '149 899902100 26012016 26012016 lastschrift einzugsermã¤chtigung visa62185021nbgkoestr 3000eur00000000000 2101 3000 10316011 vr bank nuernberg eg 922904916 76030080 30 eur'\n",
      " '150 899902100 25012016 25012016 lastschrift einzugsermã¤chtigung nstylenurnbergde 20160123t11 3213 folgenr001 verfalld202012 nstyle de94721500000053303830 byladem1ing 8995 eur'\n",
      " '151 899902100 25012016 25012016 lastschrift einzugsermã¤chtigung humanicnuernberde 20160123t13 2317 folgenr001 verfalld202012 humanic de35760100850024668858 pbnkdeff 3995 eur'\n",
      " '152 899902100 25012016 25012016 euroãœberweisung 101e13 zalando se de86210700200123010101 deutdehh210 2495 eur'\n",
      " '153 899902100 25012016 25012016 euroãœberweisung euroãœberweisung anna fein de51760300800843688500 csdbde71xxx 50 eur'\n",
      " '154 899902100 22012016 22012016 lastschrift einzugsermã¤chtigung visa6218502106060876 2000eur00000000000 1901 2000 10316011 bankhaus august lenz atm 922904916 76030080 20 eur'\n",
      " '155 899902100 20012016 20012016 lastschrift einzugsermã¤chtigung visa621850138002796620 1995eur00000000000 1801 000 10355999 amazon de marketplace 922904916 76030080 1995 eur'\n",
      " '156 899902100 20012016 20012016 lastschrift einzugsermã¤chtigung visa621850138002796620 1280eur00000000000 1801 000 10355999 amazon de marketplace 922904916 76030080 128 eur'\n",
      " '157 899902100 20012016 20012016 lastschrift einzugsermã¤chtigung kdnr k358853507 rgnr 150244534 116 1u1 telecom gmbh de97500400000589011600 cobadeff 2499 eur'\n",
      " '158 899902100 19012016 19012016 lastschrift einzugsermã¤chtigung visa62185013nuernberg 7000eur00000000000 1601 000 10355311 breuninger gmbh co 922904916 76030080 70 eur'\n",
      " '159 899902100 19012016 19012016 lastschrift einzugsermã¤chtigung visa62185013nuernberg 5000eur00000000000 1601 5000 10316011 deutsche bank ag 922904916 76030080 50 eur'\n",
      " '160 899902100 19012016 19012016 lastschrift einzugsermã¤chtigung visa62185013amazonde 999eur00000000000 1501 000 10355969 amazon eu 922904916 76030080 999 eur'\n",
      " '161 899902100 18012016 18012016 lastschrift einzugsermã¤chtigung visa6218501306060876 4000eur00000000000 1401 4000 10316011 bankhaus august lenz atm 922904916 76030080 40 eur'\n",
      " '162 899902100 15012016 15012016 lastschrift einzugsermã¤chtigung visa6218501306060876 3000eur00000000000 1301 3000 10316011 bankhaus august lenz atm 922904916 76030080 30 eur'\n",
      " '163 899902100 13012016 13012016 lastschrift einzugsermã¤chtigung visa6218501306060876 2000eur00000000000 1101 2000 10316011 bankhaus august lenz atm 922904916 76030080 20 eur'\n",
      " '164 899902100 13012016 13012016 euroãœberweisung gas re 320000042615 vk 2202002154 14 e wie einfach gmbh de30370700600177252400 deutdedk 27598 eur'\n",
      " '165 899902100 11012016 11012016 lastschrift einzugsermã¤chtigung visa6218501306060876 2000eur00000000000 0701 2000 10316011 bankhaus august lenz atm 922904916 76030080 20 eur'\n",
      " '166 899902100 08012016 08012016 lastschrift einzugsermã¤chtigung bears friends gmbpulsnitzde 20 160102t141806 folgenr000 verfa lld201612 bears friends gmb de40750500000030909980 byladem1rbg 5 eur'\n",
      " '167 08072016 08072016 lebensmittel getraenke 2831 edeka neubauer nuernbnuernb 20160509t175445 kfn 9 vj 1612 lastschrift kartenzahlung 9736000780 25190001 1999 eur'\n",
      " '168 05072016 05072016 drogerie dm fil1137 h65128nuernbergde 2 0160419t170343folgenr001 verf alld2020 12 dm drogeriemarkt sagt danke 7755566780 25190001 2885 eur'\n",
      " '169 01072016 01072016 bargeld 16021634uhr nuernberg all eur 7000 gebeur 000 einzahlungauszahlung ga nr55508568 blz76010085 9 bargeld 9999900780 25190001 5000 eur'\n",
      " '170 29062016 29062016 lohn gehalt gehalt adorsys gmbh co kg endtoendref notprovided kundenreferenz nsct1603300013660000000000000000001 gutschrift adorsys gmbh co kg 7807800780 25190001 200000 eur'\n",
      " '171 28062016 28062016 miete byladem1sbt de12773501123456789889 miete beuthener str 25 endtoendref notprovided dauerauftrag dauerauftrag georg tasche de31251900019123456780 vohade2hxxx 67000 eur'\n",
      " '172 15062016 15062016 mieteinnahmen mietzuschuss endtoendref notprovided kundenreferenz nsct1603080001510000000000000000006 gutschrift isabel anna de31251900019736000780 vohade2hxxx 20000 eur'\n",
      " '173 10062016 10062016 lebensmittel getraenke 2831 edeka neubauer nuernbnuernb 20160510t175445 kfn 9 vj 1612 lastschrift kartenzahlung 9736000780 25190001 2599 eur'\n",
      " '174 08062016 08062016 drogerie dm fil1137 h65128nuernbergde 2 0160216t170343folgenr001 verf alld2020 12 dm drogeriemarkt sagt danke 7755566780 25190001 1999 eur'\n",
      " '175 03062016 03062016 lebensmittel getraenke 2831 edeka neubauer nuernbnuernb 20160504t175445 kfn 9 vj 1612 lastschrift kartenzahlung 9736000780 25190001 7321 eur'\n",
      " '176 02062016 02062016 lebensmittel getraenke 2831 edeka neubauer nuernbnuernb 20160602t175445 kfn 9 vj 1612 lastschrift kartenzahlung 9736000780 25190001 1000 eur'\n",
      " '177 02062016 02062016 geldanlage ccbade31xxx de71310108339900123456 sparen endtoendref notprovided dauerauftrag dauerauftrag michael koffer de69790800529736000780 dresdeff790 30000 eur'\n",
      " '178 01062016 01062016 drogerie dm fil1137 h65128nuernbergde 2 0160601t170343folgenr001 verf alld2020 12 dm drogeriemarkt sagt danke 7755566780 25190001 2885 eur'\n",
      " '179 01062016 01062016 bargeld 01061634uhr nuernberg all eur 7000 gebeur 000 einzahlungauszahlung ga nr55508568 blz76010085 9 bargeld 9999900780 25190001 7000 eur'\n",
      " '180 31052016 31052016 geldanlage ssknde77xxx de41760501010012345675 einmalsparen endtoendref ccb91ue162146 ueberweisung christina jung de31251900019736333780 vohade2hxxx 25000 eur'\n",
      " '181 30052016 30052016 lohn gehalt gehalt adorsys gmbh co kg endtoendref notprovided kundenreferenz nsct1603300013660000000000000000001 gutschrift adorsys gmbh co kg 7807800780 25190001 200000 eur'\n",
      " '182 27052016 27052016 miete byladem1sbt de12773501123456789889 miete beuthener str 25 endtoendref notprovided dauerauftrag dauerauftrag georg tasche de31251900019123456780 vohade2hxxx 67000 eur'\n",
      " '183 18052016 18052016 mieteinnahmen mietzuschuss endtoendref notprovided kundenreferenz nsct1603080001510000000000000000006 gutschrift isabel anna de31251900019736000780 vohade2hxxx 20000 eur'\n",
      " '184 10052016 10052016 lebensmittel getraenke 2831 edeka neubauer nuernbnuernb 20160510t175445 kfn 9 vj 1612 lastschrift kartenzahlung 9736000780 25190001 2599 eur'\n",
      " '185 09052016 09052016 lebensmittel getraenke 2831 edeka neubauer nuernbnuernb 20160509t175445 kfn 9 vj 1612 lastschrift kartenzahlung 9736000780 25190001 1999 eur'\n",
      " '186 04052016 04052016 lebensmittel getraenke 2831 edeka neubauer nuernbnuernb 20160504t175445 kfn 9 vj 1612 lastschrift kartenzahlung 9736000780 25190001 7321 eur'\n",
      " '187 03052016 03052016 geldanlage ccbade31xxx de71310108339900123456 sparen endtoendref notprovided dauerauftrag dauerauftrag michael koffer de69790800529736000780 dresdeff790 30000 eur'\n",
      " '188 28042016 28042016 lohn gehalt gehalt adorsys gmbh co kg endtoendref notprovided kundenreferenz nsct1603300013660000000000000000001 gutschrift adorsys gmbh co kg 7807800780 25190001 200000 eur'\n",
      " '189 27042016 27042016 miete byladem1sbt de12773501123456789889 miete beuthener str 25 endtoendref notprovided dauerauftrag dauerauftrag georg tasche de31251900019123456780 vohade2hxxx 67000 eur'\n",
      " '190 19042016 19042016 drogerie dm fil1137 h65128nuernbergde 2 0160419t170343folgenr001 verf alld2020 12 dm drogeriemarkt sagt danke 7755566780 25190001 2885 eur'\n",
      " '191 19042016 19042016 bargeld 19041634uhr nuernberg all eur 7000 gebeur 000 einzahlungauszahlung ga nr55508568 blz76010085 9 bargeld 9999900780 25190001 10000 eur'\n",
      " '192 15042016 15042016 mieteinnahmen mietzuschuss endtoendref notprovided kundenreferenz nsct1603080001510000000000000000006 gutschrift isabel anna de31251900019736000780 vohade2hxxx 20000 eur'\n",
      " '193 04042016 04042016 geldanlage ccbade31xxx de71310108339900123456 sparen endtoendref notprovided dauerauftrag dauerauftrag michael koffer de69790800529736000780 dresdeff790 30000 eur'\n",
      " '194 30032016 30032016 lohn gehalt gehalt adorsys gmbh co kg endtoendref notprovided kundenreferenz nsct1603300013660000000000000000001 gutschrift adorsys gmbh co kg 7807800780 25190001 200000 eur'\n",
      " '195 29032016 29032016 miete byladem1sbt de12773501123456789889 miete beuthener str 25 endtoendref notprovided dauerauftrag dauerauftrag georg tasche de31251900019123456780 vohade2hxxx 67000 eur'\n",
      " '196 16032016 16032016 geldanlage spdude68xxx de41760501010012345675 einmalsparen endtoendref ccb91ue162146 ueberweisung christina jung de31251900019736333780 vohade2hxxx 100000 eur'\n",
      " '197 15032016 15032016 lebensmittel getraenke 2831 edeka neubauer nuernbnuernb 20160315t175445 kfn 9 vj 1612 lastschrift kartenzahlung 9736000780 25190001 1000 eur'\n",
      " '198 15032016 15032016 mieteinnahmen mietzuschuss endtoendref notprovided kundenreferenz nsct1603080001510000000000000000006 gutschrift isabel anna de31251900019736000780 vohade2hxxx 20000 eur'\n",
      " '199 02032016 02032016 geldanlage ccbade31xxx de71310108339900123456 sparen endtoendref notprovided dauerauftrag dauerauftrag michael koffer de69790800529736000780 dresdeff790 30000 eur'\n",
      " '200 26022016 26022016 lohn gehalt gehalt adorsys gmbh co kg endtoendref notprovided kundenreferenz nsct1603300013660000000000000000001 gutschrift adorsys gmbh co kg 7807800780 25190001 200000 eur'\n",
      " '201 25022016 25022016 miete byladem1sbt de12773501123456789889 miete beuthener str 25 endtoendref notprovided dauerauftrag dauerauftrag georg tasche de31251900019123456780 vohade2hxxx 67000 eur'\n",
      " '202 16022016 16022016 drogerie dm fil1137 h65128nuernbergde 2 0160216t170343folgenr001 verf alld2020 12 dm drogeriemarkt sagt danke 7755566780 25190001 2885 eur'\n",
      " '203 16022016 16022016 bargeld 16021634uhr nuernberg all eur 7000 gebeur 000 einzahlungauszahlung ga nr55508568 blz76010085 9 bargeld 9999900780 25190001 5000 eur'\n",
      " '204 15022016 15022016 mieteinnahmen mietzuschuss endtoendref notprovided kundenreferenz nsct1603080001510000000000000000006 gutschrift isabel anna de31251900019736000780 vohade2hxxx 20000 eur'\n",
      " '205 02022016 02022016 geldanlage ccbade31xxx de71310108339900123456 sparen endtoendref notprovided dauerauftrag dauerauftrag michael koffer de69790800529736000780 dresdeff790 30000 eur'\n",
      " '206 28012016 28012016 lohn gehalt gehalt adorsys gmbh co kg endtoendref notprovided kundenreferenz nsct1603300013660000000000000000001 gutschrift adorsys gmbh co kg 7807800780 25190001 200000 eur'\n",
      " '207 28012016 28012016 geldanlage ssknde77xxx de41760501010012345675 einmalsparen endtoendref ccb91ue162146 ueberweisung christina jung de31251900019736333780 vohade2hxxx 400000 eur'\n",
      " '208 899902100 08012016 08012016 lastschrift einzugsermã¤chtigung abonnement kdnr 5104489 vag de89760501010001011500 ssknde77 512 eur']\n"
     ]
    }
   ],
   "source": [
    "import string\n",
    "import numpy\n",
    "import csv\n",
    "\n",
    "x=[]\n",
    "i=0\n",
    "\n",
    "#convert array from tupels of string into an array with one stringelement \n",
    "for i in range(len(data[:])):\n",
    "    a = \" \".join(data[i,:-1])\n",
    "    x.append(a)\n",
    "\n",
    "cleandata = np.array(x)\n",
    "\n",
    "\n",
    "table = str.maketrans('', '', string.punctuation)\n",
    "\n",
    "#splits the stringelement into words, deletes null strings, removes punctuations and sets all words lower.  \n",
    "Clean = []\n",
    "for x, value in numpy.ndenumerate(cleandata):\n",
    "    \n",
    "    c = numpy.array(list(filter(None,[w.translate(table) for w in cleandata[x].split()])),'<U120')\n",
    "    Clean.append(\" \".join(c).lower())\n",
    "    \n",
    "Cleandata = np.array(Clean)\n",
    "\n",
    "print(Cleandata.shape) \n",
    "print(Cleandata) "
   ]
  },
  {
   "cell_type": "markdown",
   "metadata": {},
   "source": [
    "#### Train/Test-Split of the data:"
   ]
  },
  {
   "cell_type": "markdown",
   "metadata": {},
   "source": [
    "There are two main issues when it comes to data-splitting in machine learning in fact __overfitting__ and __underfitting__. In other words by splitting the data \"correctly\" we want to avoid to fit very well or very closely to the training data which leads to a not very generalized model (__overfitting__) and therefore can’t make any meaningful inferences on other data. Otherwise you also don't want to underfit your model. As a note, except of the train/test-split method there are also other important factors that have an influence on __over- and underfitting__. In fact Feature-selection is also a big topic regarding __over- and underfitting__, which we will discuss in the further topics."
   ]
  },
  {
   "cell_type": "markdown",
   "metadata": {},
   "source": [
    "There are a bunch of methods how to split your data. In python we use  the `train_test_split`  method from the _Scikit-Learn_ library. In this Article we will discuss the very common classical way of splitting the data into a training set and a test set, usually 80/20 or 70/30 (training data/ test data)."
   ]
  },
  {
   "cell_type": "markdown",
   "metadata": {},
   "source": [
    "##### 1. Train/Test-Split - 70/30:"
   ]
  },
  {
   "cell_type": "code",
   "execution_count": 78,
   "metadata": {},
   "outputs": [],
   "source": [
    "from sklearn.model_selection import train_test_split\n",
    "X, y = data[:,:-1], data[:,-1]\n",
    "row_len, col_len = X.shape\n",
    "row_len_clean = Cleandata.shape\n",
    "\n",
    "Xt_clean, Xe_clean, yt_clean, ye_clean = train_test_split(Cleandata, y, test_size=0.25)"
   ]
  },
  {
   "cell_type": "code",
   "execution_count": 79,
   "metadata": {},
   "outputs": [
    {
     "name": "stdout",
     "output_type": "stream",
     "text": [
      "Training Data:\n",
      "(156,)\n",
      "['5 899902010 15072016 15072016 mieteinnahmen mietzuschuss endtoendref notprovided kundenreferenz nsct1603080001510000000000000000006 gutschrift isabel anna de31251900019736000780 vohade2hxxx 20000 eur'\n",
      " '35 899902010 29032016 29032016 miete byladem1sbt de12773501123456789889 miete beuthener str 25 endtoendref notprovided dauerauftrag dauerauftrag georg tasche de31251900019123456780 vohade2hxxx 67000 eur'\n",
      " '170 29062016 29062016 lohn gehalt gehalt adorsys gmbh co kg endtoendref notprovided kundenreferenz nsct1603300013660000000000000000001 gutschrift adorsys gmbh co kg 7807800780 25190001 200000 eur'\n",
      " '67 899902100 31032016 31032016 euroãœberweisung bp18211870563814 billpay gmbh de87100500006000036211 beladebexxx 1589 eur'\n",
      " '198 15032016 15032016 mieteinnahmen mietzuschuss endtoendref notprovided kundenreferenz nsct1603080001510000000000000000006 gutschrift isabel anna de31251900019736000780 vohade2hxxx 20000 eur'\n",
      " '163 899902100 13012016 13012016 lastschrift einzugsermã¤chtigung visa6218501306060876 2000eur00000000000 1101 2000 10316011 bankhaus august lenz atm 922904916 76030080 20 eur'\n",
      " '91 899902100 07032016 07032016 euroãœberweisung interne umbuchung anna fein de51760300800843688500 csdbde71xxx 1000 eur'\n",
      " '61 899902100 04042016 04042016 lastschrift einzugsermã¤chtigung visa621850218002796620 384eur00000000000 3103 000 10355999 amazon de marketplace 922904916 76030080 384 eur'\n",
      " '192 15042016 15042016 mieteinnahmen mietzuschuss endtoendref notprovided kundenreferenz nsct1603080001510000000000000000006 gutschrift isabel anna de31251900019736000780 vohade2hxxx 20000 eur'\n",
      " '72 899902100 29032016 29032016 lastschrift einzugsermã¤chtigung aramark gmbhnuernbergde 201603 24t123012 folgenr001 verfalld20 2012 aramark gmbh ihs teambank de70500202000015003825 bhfbdeff500 20 eur'\n",
      " '139 899902100 02022016 02022016 lastschrift einzugsermã¤chtigung 30300846325339566 amazon mktplce eude 2410573888643087 amazon payments europe sca de87300308801908262006 tubddedd 1793 eur'\n",
      " '113 899902100 24022016 24022016 lastschrift einzugsermã¤chtigung visa62185021amazonde 673eur00000000000 2202 000 10355969 amazon eu 922904916 76030080 673 eur'\n",
      " '201 25022016 25022016 miete byladem1sbt de12773501123456789889 miete beuthener str 25 endtoendref notprovided dauerauftrag dauerauftrag georg tasche de31251900019123456780 vohade2hxxx 67000 eur'\n",
      " '55 899902100 11042016 11042016 lastschrift einzugsermã¤chtigung bears friends gmbpulsnitzde 20 160102t141806 folgenr000 verfa lld201612 bears friends gmb de40750500000030909980 byladem1rbg 5 eur'\n",
      " '123 899902100 15022016 15022016 lastschrift einzugsermã¤chtigung abschlag gas 0216 vk 220200215414 e wie einfach gmbh de30370700600177252400 deutdedk 46 eur'\n",
      " '166 899902100 08012016 08012016 lastschrift einzugsermã¤chtigung bears friends gmbpulsnitzde 20 160102t141806 folgenr000 verfa lld201612 bears friends gmb de40750500000030909980 byladem1rbg 5 eur'\n",
      " '106 899902100 29022016 29022016 dauerauftrag miete lucas fein de34760606180001954970 genodef1n02 41216 eur'\n",
      " '190 19042016 19042016 drogerie dm fil1137 h65128nuernbergde 2 0160419t170343folgenr001 verf alld2020 12 dm drogeriemarkt sagt danke 7755566780 25190001 2885 eur'\n",
      " '143 899902100 01022016 01022016 dauerauftrag haushalt anna fein lucas fein de60760300800230188170 csdbde71xxx 100 eur'\n",
      " '184 10052016 10052016 lebensmittel getraenke 2831 edeka neubauer nuernbnuernb 20160510t175445 kfn 9 vj 1612 lastschrift kartenzahlung 9736000780 25190001 2599 eur'\n",
      " '176 02062016 02062016 lebensmittel getraenke 2831 edeka neubauer nuernbnuernb 20160602t175445 kfn 9 vj 1612 lastschrift kartenzahlung 9736000780 25190001 1000 eur'\n",
      " '165 899902100 11012016 11012016 lastschrift einzugsermã¤chtigung visa6218501306060876 2000eur00000000000 0701 2000 10316011 bankhaus august lenz atm 922904916 76030080 20 eur'\n",
      " '57 899902100 06042016 06042016 lastschrift einzugsermã¤chtigung abonnement kdnr 5104489 vag de89760501010001011500 ssknde77 512 eur'\n",
      " '197 15032016 15032016 lebensmittel getraenke 2831 edeka neubauer nuernbnuernb 20160315t175445 kfn 9 vj 1612 lastschrift kartenzahlung 9736000780 25190001 1000 eur'\n",
      " '148 899902100 27012016 27012016 lastschrift einzugsermã¤chtigung elv56006915 2501 1654 me1rewe sa gt danke 46400517 rewe nuernberg aeu de56500101111932685105 essede5f 1794 eur'\n",
      " '175 03062016 03062016 lebensmittel getraenke 2831 edeka neubauer nuernbnuernb 20160504t175445 kfn 9 vj 1612 lastschrift kartenzahlung 9736000780 25190001 7321 eur'\n",
      " '23 899902010 18052016 18052016 mieteinnahmen mietzuschuss endtoendref notprovided kundenreferenz nsct1603080001510000000000000000006 gutschrift isabel anna de31251900019736000780 vohade2hxxx 20000 eur'\n",
      " '189 27042016 27042016 miete byladem1sbt de12773501123456789889 miete beuthener str 25 endtoendref notprovided dauerauftrag dauerauftrag georg tasche de31251900019123456780 vohade2hxxx 67000 eur'\n",
      " '193 04042016 04042016 geldanlage ccbade31xxx de71310108339900123456 sparen endtoendref notprovided dauerauftrag dauerauftrag michael koffer de69790800529736000780 dresdeff790 30000 eur'\n",
      " '128 899902100 08022016 08022016 lastschrift einzugsermã¤chtigung cafe bistro seonnuernbergde 2016 0205t230111 folgenr001 verfall d202012 cafe seon dankt de31760400610535961700 cobadeff 34 eur'\n",
      " '204 15022016 15022016 mieteinnahmen mietzuschuss endtoendref notprovided kundenreferenz nsct1603080001510000000000000000006 gutschrift isabel anna de31251900019736000780 vohade2hxxx 20000 eur'\n",
      " '40 899902010 26022016 26022016 lohn gehalt gehalt adorsys gmbh co kg endtoendref notprovided kundenreferenz nsct1603300013660000000000000000001 gutschrift adorsys gmbh co kg 7807800780 25190001 200000 eur'\n",
      " '39 899902010 02032016 02032016 geldanlage ccbade31xxx de71310108339900123456 sparen endtoendref notprovided dauerauftrag dauerauftrag michael koffer de69790800529736000780 dresdeff790 30000 eur'\n",
      " '187 03052016 03052016 geldanlage ccbade31xxx de71310108339900123456 sparen endtoendref notprovided dauerauftrag dauerauftrag michael koffer de69790800529736000780 dresdeff790 30000 eur'\n",
      " '162 899902100 15012016 15012016 lastschrift einzugsermã¤chtigung visa6218501306060876 3000eur00000000000 1301 3000 10316011 bankhaus august lenz atm 922904916 76030080 30 eur'\n",
      " '208 899902100 08012016 08012016 lastschrift einzugsermã¤chtigung abonnement kdnr 5104489 vag de89760501010001011500 ssknde77 512 eur'\n",
      " '130 899902100 08022016 08022016 euroãœberweisung lombagine sarah mâ¸ller de89500105175404143976 ingddeffxxx 1038 eur'\n",
      " '70 899902100 30032016 30032016 gehaltrente gehalt adorsys gmbh co kg adorsys gmbh co kg de74760320009460000022 teamde71 179273 eur'\n",
      " '185 09052016 09052016 lebensmittel getraenke 2831 edeka neubauer nuernbnuernb 20160509t175445 kfn 9 vj 1612 lastschrift kartenzahlung 9736000780 25190001 1999 eur'\n",
      " '86 899902100 11032016 11032016 lastschrift einzugsermã¤chtigung visa6218502106060876 4000eur00000000000 0903 4000 10316011 bankhaus august lenz atm 922904916 76030080 40 eur'\n",
      " '63 899902100 01042016 01042016 dauerauftrag haushalt anna fein lucas fein de60760300800230188170 csdbde71xxx 100 eur'\n",
      " '47 899902010 28012016 28012016 geldanlage ssknde77xxx de41760501010012345675 einmalsparen endtoendref ccb91ue162146 ueberweisung christina jung de31251900019736333780 vohade2hxxx 400000 eur'\n",
      " '129 899902100 08022016 08022016 lastschrift einzugsermã¤chtigung visa6218502106060876 4000eur00000000000 0402 4000 10316011 bankhaus august lenz atm 922904916 76030080 40 eur'\n",
      " '94 899902100 03032016 03032016 lastschrift einzugsermã¤chtigung rse gastro gmbhroethenbachde 201 60302t220220 folgenr001 verfal ld202012 rse gastro gmbh de71500400000600178805 cobadeff 37 eur'\n",
      " '133 899902100 04022016 04022016 lastschrift einzugsermã¤chtigung 161080109883418 34439927 ts65354 05 travelsecure auslandsrei sekr ankenvers icherung 3101163101 17 3300 wuerzburger versicherungsag de03790700160037800000 deutdemm790 33 eur'\n",
      " '65 899902100 01042016 01042016 lastschrift einzugsermã¤chtigung abschlag strom 0416 vk 122721405 gruenstrom classic stromio gmbh de75550104000414135389 aarbde5wdom 32 eur'\n",
      " '200 26022016 26022016 lohn gehalt gehalt adorsys gmbh co kg endtoendref notprovided kundenreferenz nsct1603300013660000000000000000001 gutschrift adorsys gmbh co kg 7807800780 25190001 200000 eur'\n",
      " '90 899902100 07032016 07032016 lastschrift einzugsermã¤chtigung intersport rentreit im winklde 2 0160305t095727folgenr001 verf alld2020 12 intersport rent de24710520500000355073 byladem1tst 18 eur'\n",
      " '83 899902100 15032016 15032016 lastschrift einzugsermã¤chtigung abschlag gas 0316 vk 220200215414 e wie einfach gmbh de30370700600177252400 deutdedk 46 eur'\n",
      " '174 08062016 08062016 drogerie dm fil1137 h65128nuernbergde 2 0160216t170343folgenr001 verf alld2020 12 dm drogeriemarkt sagt danke 7755566780 25190001 1999 eur'\n",
      " '171 28062016 28062016 miete byladem1sbt de12773501123456789889 miete beuthener str 25 endtoendref notprovided dauerauftrag dauerauftrag georg tasche de31251900019123456780 vohade2hxxx 67000 eur'\n",
      " '48 899902100 27042016 27042016 gehaltrente gehalt adorsys gmbh co kg adorsys gmbh co kg de74760320009460000022 teamde71 179273 eur'\n",
      " '104 899902100 29022016 29022016 lastschrift einzugsermã¤chtigung nuernberg ticket gmbh im u1nuernb ergde 20160227t111418 folgenr 001 verfalld202012 lastschrift aus kartenzahlung de29370100500555615500 pbnkdeff 1657 eur'\n",
      " '158 899902100 19012016 19012016 lastschrift einzugsermã¤chtigung visa62185013nuernberg 7000eur00000000000 1601 000 10355311 breuninger gmbh co 922904916 76030080 70 eur'\n",
      " '196 16032016 16032016 geldanlage spdude68xxx de41760501010012345675 einmalsparen endtoendref ccb91ue162146 ueberweisung christina jung de31251900019736333780 vohade2hxxx 100000 eur'\n",
      " '122 899902100 15022016 15022016 lastschrift einzugsermã¤chtigung fuerthermarefuerthde 20160213t 143500 folgenr001 verfalld2020 12 fuerthermare de86762500000009899576 byladem1sfu 25 eur'\n",
      " '21 899902010 30052016 30052016 lohn gehalt gehalt adorsys gmbh co kg endtoendref notprovided kundenreferenz nsct1603300013660000000000000000001 gutschrift adorsys gmbh co kg 7807800780 25190001 200000 eur'\n",
      " '75 899902100 23032016 23032016 lastschrift einzugsermã¤chtigung elv56006915 2103 1610 me1rewe sa gt danke 46400517 rewe nuernberg aeu de56500101111932685105 essede5f 2277 eur'\n",
      " '109 899902100 25022016 25022016 lastschrift einzugsermã¤chtigung visa62185021rathaus 5000eur00000000000 2302 5000 10316011 sparkasse nuernberg 922904916 76030080 50 eur'\n",
      " '71 899902100 30032016 30032016 lastschrift einzugsermã¤chtigung visa6218502106060876 5000eur00000000000 2503 5000 10316011 bankhaus august lenz atm 922904916 76030080 50 eur'\n",
      " '89 899902100 09032016 09032016 lastschrift einzugsermã¤chtigung 04032016 350193 horst dietrich 8324 2 reit im winkl ref hobex ag de91740201000008119083 rzoode77 678 eur'\n",
      " '205 02022016 02022016 geldanlage ccbade31xxx de71310108339900123456 sparen endtoendref notprovided dauerauftrag dauerauftrag michael koffer de69790800529736000780 dresdeff790 30000 eur'\n",
      " '121 899902100 16022016 16022016 lastschrift einzugsermã¤chtigung visa6218502106060876 1000eur00000000000 1402 1000 10316011 bankhaus august lenz atm 922904916 76030080 10 eur'\n",
      " '52 899902100 11042016 11042016 lastschrift einzugsermã¤chtigung elv56006915 0804 1535 me1rewe sa gt danke 46400517 rewe nuernberg aeu de56500101111932685105 essede5f 4403 eur'\n",
      " '58 899902100 06042016 06042016 lastschrift einzugsermã¤chtigung elv56006915 0404 1535 me1rewe sa gt danke 46400517 rewe nuernberg aeu de56500101111932685105 essede5f 1299 eur'\n",
      " '173 10062016 10062016 lebensmittel getraenke 2831 edeka neubauer nuernbnuernb 20160510t175445 kfn 9 vj 1612 lastschrift kartenzahlung 9736000780 25190001 2599 eur'\n",
      " '157 899902100 20012016 20012016 lastschrift einzugsermã¤chtigung kdnr k358853507 rgnr 150244534 116 1u1 telecom gmbh de97500400000589011600 cobadeff 2499 eur'\n",
      " '127 899902100 09022016 09022016 euroãœberweisung strom re 330000099057 vk 12272140 5 gruenstrom classic stromio gmbh de75550104000414135389 aarbde5wdom 1617 eur'\n",
      " '77 899902100 21032016 21032016 lastschrift einzugsermã¤chtigung dm fil1137 h65128nuernbergde 2 0160319t170343folgenr001 verf alld2020 12 dm drogeriemarkt sagt danke de88600501017402099997 soladest600 2885 eur'\n",
      " '194 30032016 30032016 lohn gehalt gehalt adorsys gmbh co kg endtoendref notprovided kundenreferenz nsct1603300013660000000000000000001 gutschrift adorsys gmbh co kg 7807800780 25190001 200000 eur'\n",
      " '124 899902100 15022016 15022016 lastschrift einzugsermã¤chtigung rundfunk 012016 032016 beitrags nr 574704817 aenderungen ganz bequ em wwwrundfunkbeitragde ard zdf dradio beitragsservice de28700500000002024100 bylademm 525 eur'\n",
      " '19 899902010 01062016 01062016 bargeld 01061634uhr nuernberg all eur 7000 gebeur 000 einzahlungauszahlung ga nr55508568 blz76010085 9 bargeld 9999900780 25190001 7000 eur'\n",
      " '68 899902100 31032016 31032016 dauerauftrag sparen anna fein de31701100883254400704 pbnkdeffxxx 100 eur'\n",
      " '38 899902010 15032016 15032016 mieteinnahmen mietzuschuss endtoendref notprovided kundenreferenz nsct1603080001510000000000000000006 gutschrift isabel anna de31251900019736000780 vohade2hxxx 20000 eur'\n",
      " '160 899902100 19012016 19012016 lastschrift einzugsermã¤chtigung visa62185013amazonde 999eur00000000000 1501 000 10355969 amazon eu 922904916 76030080 999 eur'\n",
      " '36 899902010 16032016 16032016 geldanlage spdude68xxx de41760501010012345675 einmalsparen endtoendref ccb91ue162146 ueberweisung christina jung de31251900019736333780 vohade2hxxx 100000 eur'\n",
      " '74 899902100 23032016 23032016 lastschrift einzugsermã¤chtigung visa621850218002796620 53500eur00000000000 2103 000 10355999 amazon de marketplace 922904916 76030080 535 eur'\n",
      " '137 899902100 02022016 02022016 lastschrift einzugsermã¤chtigung esso deutschland gmbhnuernbergde 20160201t065722 folgenr001 ve rfalld202012 esso deutschland gmbh de25200800000930401000 dresdeff200 406 eur'\n",
      " '144 899902100 01022016 01022016 dauerauftrag urlaub anna fein de51760300800843688500 csdbde71xxx 110 eur'\n",
      " '31 899902010 19042016 19042016 bargeld 19041634uhr nuernberg all eur 7000 gebeur 000 einzahlungauszahlung ga nr55508568 blz76010085 9 bargeld 9999900780 25190001 10000 eur'\n",
      " '60 899902100 04042016 04042016 lastschrift einzugsermã¤chtigung tk maxx nuernbergnuernbergde 201 60402t135208 folgenr001 verfal ld202012 tk maxx nã¼rnberg de38300800000245238803 dresdeff300 8999 eur'\n",
      " '53 899902100 11042016 11042016 lastschrift einzugsermã¤chtigung tk maxx nuernbergnuernbergde 201 60402t135208 folgenr001 verfal ld202012 tk maxx nã¼rnberg de38300800000245238803 dresdeff300 8999 eur'\n",
      " '27 899902010 03052016 03052016 geldanlage ccbade31xxx de71310108339900123456 sparen endtoendref notprovided dauerauftrag dauerauftrag michael koffer de69790800529736000780 dresdeff790 30000 eur'\n",
      " '146 899902100 29012016 29012016 dauerauftrag miete lucas fein de34760606180001954970 genodef1n02 41216 eur'\n",
      " '168 05072016 05072016 drogerie dm fil1137 h65128nuernbergde 2 0160419t170343folgenr001 verf alld2020 12 dm drogeriemarkt sagt danke 7755566780 25190001 2885 eur'\n",
      " '59 899902100 05042016 05042016 lastschrift einzugsermã¤chtigung visa62185021senningerberg 2430eur00000000000 0104 000 10355499 foodora 922904916 76030080 243 eur'\n",
      " '66 899902100 31032016 31032016 abschluss abschluss abschluss 6004 eur'\n",
      " '181 30052016 30052016 lohn gehalt gehalt adorsys gmbh co kg endtoendref notprovided kundenreferenz nsct1603300013660000000000000000001 gutschrift adorsys gmbh co kg 7807800780 25190001 200000 eur'\n",
      " '202 16022016 16022016 drogerie dm fil1137 h65128nuernbergde 2 0160216t170343folgenr001 verf alld2020 12 dm drogeriemarkt sagt danke 7755566780 25190001 2885 eur'\n",
      " '179 01062016 01062016 bargeld 01061634uhr nuernberg all eur 7000 gebeur 000 einzahlungauszahlung ga nr55508568 blz76010085 9 bargeld 9999900780 25190001 7000 eur'\n",
      " '188 28042016 28042016 lohn gehalt gehalt adorsys gmbh co kg endtoendref notprovided kundenreferenz nsct1603300013660000000000000000001 gutschrift adorsys gmbh co kg 7807800780 25190001 200000 eur'\n",
      " '85 899902100 14032016 14032016 lastschrift einzugsermã¤chtigung californianuernbergde 20160312 t190455 folgenr001 verfalld2020 12 california de86300500000001052141 weladedd 24 eur'\n",
      " '132 899902100 04022016 04022016 lastschrift einzugsermã¤chtigung abonnement kdnr 5104489 vag de89760501010001011500 ssknde77 512 eur'\n",
      " '167 08072016 08072016 lebensmittel getraenke 2831 edeka neubauer nuernbnuernb 20160509t175445 kfn 9 vj 1612 lastschrift kartenzahlung 9736000780 25190001 1999 eur'\n",
      " '103 899902100 29022016 29022016 euroscheck gaabelastung ausland mango nuremberg karolinennuernber gde0 20160227t103917 folgenr 001 verfalld209912 issuer de66760300800210438280 csdbde71 1599 eur'\n",
      " '149 899902100 26012016 26012016 lastschrift einzugsermã¤chtigung visa62185021nbgkoestr 3000eur00000000000 2101 3000 10316011 vr bank nuernberg eg 922904916 76030080 30 eur'\n",
      " '26 899902010 04052016 04052016 lebensmittel getraenke 2831 edeka neubauer nuernbnuernb 20160504t175445 kfn 9 vj 1612 lastschrift kartenzahlung 9736000780 25190001 7321 eur'\n",
      " '178 01062016 01062016 drogerie dm fil1137 h65128nuernbergde 2 0160601t170343folgenr001 verf alld2020 12 dm drogeriemarkt sagt danke 7755566780 25190001 2885 eur'\n",
      " '112 899902100 24022016 24022016 lastschrift einzugsermã¤chtigung visa62185021amazonde 799eur00000000000 2202 000 10355969 amazon eu 922904916 76030080 799 eur'\n",
      " '51 899902100 12042016 12042016 lastschrift einzugsermã¤chtigung pulsnitz gmb de40750500000030909999 byladem1rgb 50 eur'\n",
      " '207 28012016 28012016 geldanlage ssknde77xxx de41760501010012345675 einmalsparen endtoendref ccb91ue162146 ueberweisung christina jung de31251900019736333780 vohade2hxxx 400000 eur'\n",
      " '92 899902100 04032016 04032016 lastschrift einzugsermã¤chtigung aramark gmbhnuernbergde 201603 03t123304 folgenr001 verfalld20 2012 aramark gmbh ihs teambank de70500202000015003825 bhfbdeff500 20 eur'\n",
      " '99 899902100 01032016 01032016 dauerauftrag haushalt anna fein lucas fein de60760300800230188170 csdbde71xxx 100 eur'\n",
      " '135 899902100 03022016 03022016 lastschrift einzugsermã¤chtigung 30305806318794708 amazon mktplce eude 2411354884929964 amazon payments europe sca de87300308801908262006 tubddedd 2085 eur'\n",
      " '172 15062016 15062016 mieteinnahmen mietzuschuss endtoendref notprovided kundenreferenz nsct1603080001510000000000000000006 gutschrift isabel anna de31251900019736000780 vohade2hxxx 20000 eur'\n",
      " '118 899902100 19022016 19022016 lastschrift einzugsermã¤chtigung skyline gaststaettenuernbergde 2 0160218t213358folgenr001 verf alld2020 12 skyline gaststveranst de90793301110000410638 flesdemm 32 eur'\n",
      " '182 27052016 27052016 miete byladem1sbt de12773501123456789889 miete beuthener str 25 endtoendref notprovided dauerauftrag dauerauftrag georg tasche de31251900019123456780 vohade2hxxx 67000 eur'\n",
      " '82 899902100 15032016 15032016 lastschrift einzugsermã¤chtigung elv56006914 1203 1942 me1rewe sa gt danke 46400517 rewe nuernberg aeu de56500101111932685105 essede5f 2257 eur'\n",
      " '161 899902100 18012016 18012016 lastschrift einzugsermã¤chtigung visa6218501306060876 4000eur00000000000 1401 4000 10316011 bankhaus august lenz atm 922904916 76030080 40 eur'\n",
      " '33 899902010 04042016 04042016 geldanlage ccbade31xxx de71310108339900123456 sparen endtoendref notprovided dauerauftrag dauerauftrag michael koffer de69790800529736000780 dresdeff790 30000 eur'\n",
      " '159 899902100 19012016 19012016 lastschrift einzugsermã¤chtigung visa62185013nuernberg 5000eur00000000000 1601 5000 10316011 deutsche bank ag 922904916 76030080 50 eur'\n",
      " '93 899902100 04032016 04032016 lastschrift einzugsermã¤chtigung abonnement kdnr 5104489 vag de89760501010001011500 ssknde77 512 eur'\n",
      " '88 899902100 09032016 09032016 euroãœberweisung geschenk doris lucas fein de34760606180001954970 genodef1n02 100 eur'\n",
      " '14 899902010 08062016 08062016 drogerie dm fil1137 h65128nuernbergde 2 0160216t170343folgenr001 verf alld2020 12 dm drogeriemarkt sagt danke 7755566780 25190001 1999 eur'\n",
      " '98 899902100 01032016 01032016 lastschrift einzugsermã¤chtigung visa62185021amazonde 754eur00000000000 2602 000 10355969 amazon eu 922904916 76030080 754 eur'\n",
      " '30 899902010 19042016 19042016 drogerie dm fil1137 h65128nuernbergde 2 0160419t170343folgenr001 verf alld2020 12 dm drogeriemarkt sagt danke 7755566780 25190001 2885 eur'\n",
      " '199 02032016 02032016 geldanlage ccbade31xxx de71310108339900123456 sparen endtoendref notprovided dauerauftrag dauerauftrag michael koffer de69790800529736000780 dresdeff790 30000 eur'\n",
      " '29 899902010 27042016 27042016 miete byladem1sbt de12773501123456789889 miete beuthener str 25 endtoendref notprovided dauerauftrag dauerauftrag georg tasche de31251900019123456780 vohade2hxxx 67000 eur'\n",
      " '8 899902010 04072016 04072016 geldanlage ccbade31xxx de71310108339900123456 sparen endtoendref notprovided dauerauftrag dauerauftrag michael koffer de69790800529736000780 dresdeff790 30000 eur'\n",
      " '1 899902010 27072016 27072016 miete byladem1sbt de12773501123456789889 miete beuthener str 25 endtoendref notprovided dauerauftrag dauerauftrag georg tasche de31251900019123456780 vohade2hxxx 67000 eur'\n",
      " '120 899902100 16022016 16022016 lastschrift einzugsermã¤chtigung visa62185021amazondebil 3599eur00000000000 1402 000 10355735 amazon digital video 922904916 76030080 3599 eur'\n",
      " '22 899902010 27052016 27052016 miete byladem1sbt de12773501123456789889 miete beuthener str 25 endtoendref notprovided dauerauftrag dauerauftrag georg tasche de31251900019123456780 vohade2hxxx 67000 eur'\n",
      " '111 899902100 25022016 25022016 lastschrift einzugsermã¤chtigung elv56006915 2302 1159 me1rewe sa gt danke 46400517 rewe nuernberg aeu de56500101111932685105 essede5f 3719 eur'\n",
      " '180 31052016 31052016 geldanlage ssknde77xxx de41760501010012345675 einmalsparen endtoendref ccb91ue162146 ueberweisung christina jung de31251900019736333780 vohade2hxxx 25000 eur'\n",
      " '97 899902100 01032016 01032016 lastschrift einzugsermã¤chtigung visa621850218002796620 5242eur00000000000 2702 000 10355999 amazon de marketplace 922904916 76030080 5242 eur'\n",
      " '84 899902100 15032016 15032016 lastschrift einzugsermã¤chtigung elv66021447 1203 1730 me11 hm 798 sagt vielen dank de62200400000244890003 cobadeff 8296 eur'\n",
      " '62 899902100 01042016 01042016 lastschrift einzugsermã¤chtigung visa621850218002796620 1299eur00000000000 3003 000 10355942 amazon de marketplace 922904916 76030080 1299 eur'\n",
      " '141 899902100 02022016 02022016 lastschrift einzugsermã¤chtigung 30344883856169917 amazon mktplce eude 1637782719640441 amazon payments europe sca de87300308801908262006 tubddedd 696 eur'\n",
      " '49 899902100 14042016 14042016 lastschrift einzugsermã¤chtigung bears friends gmbverfa lld201612 friends de40750500000030909966 byladem1rgg 5000 eur'\n",
      " '54 899902100 11042016 11042016 lastschrift einzugsermã¤chtigung visa621850218002796620 53500eur00000000000 3103 000 10355999 amazon de marketplace 922904916 76030080 535 eur'\n",
      " '78 899902100 21032016 21032016 lastschrift einzugsermã¤chtigung celona nuernbergnuernbergde 2016 0319t152252 folgenr001 verfall d202012 cafe bar celona nuernberg de54760501010005177019 ssknde77 20 eur'\n",
      " '10 899902010 29062016 29062016 lohn gehalt gehalt adorsys gmbh co kg endtoendref notprovided kundenreferenz nsct1603300013660000000000000000001 gutschrift adorsys gmbh co kg 7807800780 25190001 200000 eur'\n",
      " '6 899902010 08072016 08072016 lebensmittel getraenke 2831 edeka neubauer nuernbnuernb 20160509t175445 kfn 9 vj 1612 lastschrift kartenzahlung 9736000780 25190001 1999 eur'\n",
      " '12 899902010 15062016 15062016 mieteinnahmen mietzuschuss endtoendref notprovided kundenreferenz nsct1603080001510000000000000000006 gutschrift isabel anna de31251900019736000780 vohade2hxxx 20000 eur'\n",
      " '108 899902100 26022016 26022016 gehaltrente gehalt adorsys gmbh co kg adorsys gmbh co kg de74760320009460000022 teamde71 298624 eur'\n",
      " '79 899902100 21032016 21032016 lastschrift einzugsermã¤chtigung visa6218502106060876 10000eur00000000000 1703 10000 10316011 bankhaus august lenz atm 922904916 76030080 100 eur'\n",
      " '50 899902100 13042016 13042016 lastschrift einzugsermã¤chtigung verfa lld201612 bears de40750500000030909977 byladem1rbb 500 eur'\n",
      " '140 899902100 02022016 02022016 lastschrift einzugsermã¤chtigung elv56006917 3001 1537 me1rewe sa gt danke 46400517 rewe nuernberg aeu de56500101111932685105 essede5f 1387 eur'\n",
      " '64 899902100 01042016 01042016 dauerauftrag urlaub anna fein de51760300800843688500 csdbde71xxx 110 eur'\n",
      " '147 899902100 28012016 28012016 gehaltrente gehalt adorsys gmbh co kg adorsys gmbh co kg de74760320009460000022 teamde71 179273 eur'\n",
      " '151 899902100 25012016 25012016 lastschrift einzugsermã¤chtigung humanicnuernberde 20160123t13 2317 folgenr001 verfalld202012 humanic de35760100850024668858 pbnkdeff 3995 eur'\n",
      " '4 899902010 18072016 18072016 spontanausgabe amazon neue playstation 9988776655 25125100 363 eur'\n",
      " '34 899902010 30032016 30032016 lohn gehalt gehalt adorsys gmbh co kg endtoendref notprovided kundenreferenz nsct1603300013660000000000000000001 gutschrift adorsys gmbh co kg 7807800780 25190001 200000 eur'\n",
      " '81 899902100 15032016 15032016 lastschrift einzugsermã¤chtigung aramark gmbhnuernbergde 201603 14t120436 folgenr001 verfalld20 2012 aramark gmbh ihs teambank de70500202000015003825 bhfbdeff500 20 eur'\n",
      " '100 899902100 01032016 01032016 dauerauftrag urlaub anna fein de51760300800843688500 csdbde71xxx 110 eur'\n",
      " '177 02062016 02062016 geldanlage ccbade31xxx de71310108339900123456 sparen endtoendref notprovided dauerauftrag dauerauftrag michael koffer de69790800529736000780 dresdeff790 30000 eur'\n",
      " '15 899902010 03062016 03062016 lebensmittel getraenke 2831 edeka neubauer nuernbnuernb 20160504t175445 kfn 9 vj 1612 lastschrift kartenzahlung 9736000780 25190001 7321 eur'\n",
      " '183 18052016 18052016 mieteinnahmen mietzuschuss endtoendref notprovided kundenreferenz nsct1603080001510000000000000000006 gutschrift isabel anna de31251900019736000780 vohade2hxxx 20000 eur'\n",
      " '101 899902100 01032016 01032016 lastschrift einzugsermã¤chtigung abschlag strom 0316 vk 122721405 gruenstrom classic stromio gmbh de75550104000414135389 aarbde5wdom 32 eur'\n",
      " '136 899902100 02022016 02022016 lastschrift einzugsermã¤chtigung aramark gmbhnuernbergde 201602 01t115514 folgenr001 verfalld20 2012 aramark gmbh ihs teambank de70500202000015003825 bhfbdeff500 20 eur'\n",
      " '119 899902100 16022016 16022016 lastschrift einzugsermã¤chtigung visa62185021schnieglin 14000eur00000000000 1302 14000 10316011 sparkasse nuernberg 922904916 76030080 140 eur'\n",
      " '43 899902010 16022016 16022016 bargeld 16021634uhr nuernberg all eur 7000 gebeur 000 einzahlungauszahlung ga nr55508568 blz76010085 9 bargeld 9999900780 25190001 5000 eur'\n",
      " '44 899902010 15022016 15022016 mieteinnahmen mietzuschuss endtoendref notprovided kundenreferenz nsct1603080001510000000000000000006 gutschrift isabel anna de31251900019736000780 vohade2hxxx 20000 eur'\n",
      " '7 899902010 05072016 05072016 drogerie dm fil1137 h65128nuernbergde 2 0160419t170343folgenr001 verf alld2020 12 dm drogeriemarkt sagt danke 7755566780 25190001 2885 eur'\n",
      " '116 899902100 22022016 22022016 lastschrift einzugsermã¤chtigung ultracomix gmbhnuernbergde 2016 0220t173528 folgenr001 verfall d202012 ultracomix gmbh de52664926000014134905 genode61app 1995 eur'\n",
      " '155 899902100 20012016 20012016 lastschrift einzugsermã¤chtigung visa621850138002796620 1995eur00000000000 1801 000 10355999 amazon de marketplace 922904916 76030080 1995 eur']\n"
     ]
    }
   ],
   "source": [
    "row_lenT_clean = Xt_clean.shape\n",
    "print(\"Training Data:\")\n",
    "print(row_lenT_clean)\n",
    "print(Xt_clean)"
   ]
  },
  {
   "cell_type": "code",
   "execution_count": 80,
   "metadata": {},
   "outputs": [
    {
     "name": "stdout",
     "output_type": "stream",
     "text": [
      "Test Data:\n",
      "(53,)\n",
      "['152 899902100 25012016 25012016 euroãœberweisung 101e13 zalando se de86210700200123010101 deutdehh210 2495 eur'\n",
      " '46 899902010 28012016 28012016 lohn gehalt gehalt adorsys gmbh co kg endtoendref notprovided kundenreferenz nsct1603300013660000000000000000001 gutschrift adorsys gmbh co kg 7807800780 25190001 200000 eur'\n",
      " '9 899902010 01072016 01072016 bargeld 16021634uhr nuernberg all eur 7000 gebeur 000 einzahlungauszahlung ga nr55508568 blz76010085 9 bargeld 9999900780 25190001 5000 eur'\n",
      " '13 899902010 10062016 10062016 lebensmittel getraenke 2831 edeka neubauer nuernbnuernb 20160510t175445 kfn 9 vj 1612 lastschrift kartenzahlung 9736000780 25190001 2599 eur'\n",
      " '142 899902100 01022016 01022016 lastschrift einzugsermã¤chtigung vero moda nuernbergnuernbergde 2 0160130t142554folgenr001 verf alld2020 12 69 vero moda nuernberg city de38215400600211037700 cobadeff 3495 eur'\n",
      " '32 899902010 15042016 15042016 mieteinnahmen mietzuschuss endtoendref notprovided kundenreferenz nsct1603080001510000000000000000006 gutschrift isabel anna de31251900019736000780 vohade2hxxx 20000 eur'\n",
      " '87 899902100 10032016 10032016 lastschrift einzugsermã¤chtigung esso deutschland gmbhnuernbergde 20160309t070435 folgenr001 ve rfalld202012 esso deutschland gmbh de25200800000930401000 dresdeff200 2602 eur'\n",
      " '134 899902100 03022016 03022016 lastschrift einzugsermã¤chtigung 30374831412001136 amazon mktplce eude 0164378887929309 amazon payments europe sca de87300308801908262006 tubddedd 137 eur'\n",
      " '107 899902100 29022016 29022016 lastschrift einzugsermã¤chtigung elv56006915 2502 1951 me1rewe sa gt danke 46400517 rewe nuernberg aeu de56500101111932685105 essede5f 1042 eur'\n",
      " '164 899902100 13012016 13012016 euroãœberweisung gas re 320000042615 vk 2202002154 14 e wie einfach gmbh de30370700600177252400 deutdedk 27598 eur'\n",
      " '138 899902100 02022016 02022016 euroãœberweisung 10103084736793zalando zalando se de86210700200123010101 deutdehh210 5 eur'\n",
      " '102 899902100 29022016 29022016 lastschrift einzugsermã¤chtigung omv nuernberg 7540nuernbergde 20 160226t151734 folgenr001 verfa lld202012 omv deutschland gmbh de46743200730005403626 hyvedemm433 2602 eur'\n",
      " '195 29032016 29032016 miete byladem1sbt de12773501123456789889 miete beuthener str 25 endtoendref notprovided dauerauftrag dauerauftrag georg tasche de31251900019123456780 vohade2hxxx 67000 eur'\n",
      " '115 899902100 22022016 22022016 lastschrift einzugsermã¤chtigung gries deco companynuernbergde 20 160220t153251 folgenr001 verfa lld202012 gries deco company de13700202700654198462 hyvedemm 1297 eur'\n",
      " '3 899902010 20072016 20072016 lebensmittel getraenke 2831 edeka neubauer nuernbnuernb 20160720t175445 kfn 9 vj 1612 lastschrift kartenzahlung 9736000780 25190001 7321 eur'\n",
      " '110 899902100 25022016 25022016 lastschrift einzugsermã¤chtigung visa621850218002796620 2630eur00000000000 2302 000 10355999 amazon de marketplace 922904916 76030080 263 eur'\n",
      " '169 01072016 01072016 bargeld 16021634uhr nuernberg all eur 7000 gebeur 000 einzahlungauszahlung ga nr55508568 blz76010085 9 bargeld 9999900780 25190001 5000 eur'\n",
      " '28 899902010 28042016 28042016 lohn gehalt gehalt adorsys gmbh co kg endtoendref notprovided kundenreferenz nsct1603300013660000000000000000001 gutschrift adorsys gmbh co kg 7807800780 25190001 200000 eur'\n",
      " '145 899902100 01022016 01022016 lastschrift einzugsermã¤chtigung elv56006916 2801 1912 me1rewe sa gt danke 46400517 rewe nuernberg aeu de56500101111932685105 essede5f 2264 eur'\n",
      " '191 19042016 19042016 bargeld 19041634uhr nuernberg all eur 7000 gebeur 000 einzahlungauszahlung ga nr55508568 blz76010085 9 bargeld 9999900780 25190001 10000 eur'\n",
      " '73 899902100 29032016 29032016 lastschrift einzugsermã¤chtigung 230320211004393201252017040elv6520 1704 2303 2021 m e1 sushi glas gastronomie gmbh de52300500000001484112 weladedd 30 eur'\n",
      " '18 899902010 01062016 01062016 drogerie dm fil1137 h65128nuernbergde 2 0160601t170343folgenr001 verf alld2020 12 dm drogeriemarkt sagt danke 7755566780 25190001 2885 eur'\n",
      " '76 899902100 22032016 22032016 lastschrift einzugsermã¤chtigung kdnr k358853507 rgnr 150257651 551 1u1 telecom gmbh de97500400000589011600 cobadeff 2499 eur'\n",
      " '95 899902100 03032016 03032016 lastschrift einzugsermã¤chtigung elv56006915 0103 1954 me1rewe sa gt danke 46400517 rewe nuernberg aeu de56500101111932685105 essede5f 975 eur'\n",
      " '154 899902100 22012016 22012016 lastschrift einzugsermã¤chtigung visa6218502106060876 2000eur00000000000 1901 2000 10316011 bankhaus august lenz atm 922904916 76030080 20 eur'\n",
      " '156 899902100 20012016 20012016 lastschrift einzugsermã¤chtigung visa621850138002796620 1280eur00000000000 1801 000 10355999 amazon de marketplace 922904916 76030080 128 eur'\n",
      " '24 899902010 10052016 10052016 lebensmittel getraenke 2831 edeka neubauer nuernbnuernb 20160510t175445 kfn 9 vj 1612 lastschrift kartenzahlung 9736000780 25190001 2599 eur'\n",
      " '203 16022016 16022016 bargeld 16021634uhr nuernberg all eur 7000 gebeur 000 einzahlungauszahlung ga nr55508568 blz76010085 9 bargeld 9999900780 25190001 5000 eur'\n",
      " '114 899902100 23022016 23022016 lastschrift einzugsermã¤chtigung visa621850218002796620 1000eur00000000000 2102 000 10355999 amazon de marketplace 922904916 76030080 10 eur'\n",
      " '153 899902100 25012016 25012016 euroãœberweisung euroãœberweisung anna fein de51760300800843688500 csdbde71xxx 50 eur'\n",
      " '69 899902100 31032016 31032016 dauerauftrag miete lucas fein de34760606180001954970 genodef1n02 41216 eur'\n",
      " '45 899902010 02022016 02022016 geldanlage ccbade31xxx de71310108339900123456 sparen endtoendref notprovided dauerauftrag dauerauftrag michael koffer de69790800529736000780 dresdeff790 30000 eur'\n",
      " '11 899902010 28062016 28062016 miete byladem1sbt de12773501123456789889 miete beuthener str 25 endtoendref notprovided dauerauftrag dauerauftrag georg tasche de31251900019123456780 vohade2hxxx 67000 eur'\n",
      " '17 899902010 02062016 02062016 geldanlage ccbade31xxx de71310108339900123456 sparen endtoendref notprovided dauerauftrag dauerauftrag michael koffer de69790800529736000780 dresdeff790 30000 eur'\n",
      " '16 899902010 02062016 02062016 lebensmittel getraenke 2831 edeka neubauer nuernbnuernb 20160602t175445 kfn 9 vj 1612 lastschrift kartenzahlung 9736000780 25190001 1000 eur'\n",
      " '37 899902010 15032016 15032016 lebensmittel getraenke 2831 edeka neubauer nuernbnuernb 20160315t175445 kfn 9 vj 1612 lastschrift kartenzahlung 9736000780 25190001 1000 eur'\n",
      " '25 899902010 09052016 09052016 lebensmittel getraenke 2831 edeka neubauer nuernbnuernb 20160509t175445 kfn 9 vj 1612 lastschrift kartenzahlung 9736000780 25190001 1999 eur'\n",
      " '96 899902100 02032016 02032016 lastschrift einzugsermã¤chtigung visa6218502106060876 2000eur00000000000 2902 2000 10316011 bankhaus august lenz atm 922904916 76030080 20 eur'\n",
      " '20 899902010 31052016 31052016 geldanlage ssknde77xxx de41760501010012345675 einmalsparen endtoendref ccb91ue162146 ueberweisung christina jung de31251900019736333780 vohade2hxxx 25000 eur'\n",
      " '80 899902100 16032016 16032016 lastschrift einzugsermã¤chtigung visa621850218002796620 3373eur00000000000 1403 000 10355999 amazon de marketplace 922904916 76030080 3373 eur'\n",
      " '125 899902100 11022016 12022016 euroãœberweisung 101e13 zalando se de86210700200123010101 deutdehh210 1134 eur'\n",
      " '0 899902010 28072016 28072016 lohn gehalt gehalt adorsys gmbh co kg endtoendref notprovided kundenreferenz nsct1603300013660000000000000000001 gutschrift adorsys gmbh co kg 7807800780 25190001 200000 eur'\n",
      " '126 899902100 10022016 10022016 lastschrift einzugsermã¤chtigung visa6218502106060876 4000eur00000000000 0802 4000 10316011 bankhaus august lenz atm 922904916 76030080 40 eur'\n",
      " '2 899902010 21072016 21072016 bargeld 21071634uhr nuernberg all eur 7000 gebeur 000 einzahlungauszahlung ga nr55508568 blz76010085 9 bargeld 9999900780 25190001 7000 eur'\n",
      " '105 899902100 29022016 29022016 lastschrift einzugsermã¤chtigung dm fil2103 h65214nuernbergde 2 0160227t114326folgenr001 verf alld2020 12 dm drogeriemarkt sagt danke de88600501017402099997 soladest600 545 eur'\n",
      " '56 899902100 06042016 06042016 lastschrift einzugsermã¤chtigung visa6218502106060876 2000eur00000000000 0404 2000 10316011 bankhaus august lenz atm 922904916 76030080 20 eur'\n",
      " '206 28012016 28012016 lohn gehalt gehalt adorsys gmbh co kg endtoendref notprovided kundenreferenz nsct1603300013660000000000000000001 gutschrift adorsys gmbh co kg 7807800780 25190001 200000 eur'\n",
      " '42 899902010 16022016 16022016 drogerie dm fil1137 h65128nuernbergde 2 0160216t170343folgenr001 verf alld2020 12 dm drogeriemarkt sagt danke 7755566780 25190001 2885 eur'\n",
      " '150 899902100 25012016 25012016 lastschrift einzugsermã¤chtigung nstylenurnbergde 20160123t11 3213 folgenr001 verfalld202012 nstyle de94721500000053303830 byladem1ing 8995 eur'\n",
      " '117 899902100 22022016 22022016 lastschrift einzugsermã¤chtigung kdnr k358853507 rgnr 150251073 317 1u1 telecom gmbh de97500400000589011600 cobadeff 2499 eur'\n",
      " '41 899902010 25022016 25022016 miete byladem1sbt de12773501123456789889 miete beuthener str 25 endtoendref notprovided dauerauftrag dauerauftrag georg tasche de31251900019123456780 vohade2hxxx 67000 eur'\n",
      " '186 04052016 04052016 lebensmittel getraenke 2831 edeka neubauer nuernbnuernb 20160504t175445 kfn 9 vj 1612 lastschrift kartenzahlung 9736000780 25190001 7321 eur'\n",
      " '131 899902100 04022016 04022016 lastschrift einzugsermã¤chtigung apotheke sebalder hnuernbergde 2 0160203t164807folgenr001 verf alld2020 12 apotheke sebalder hoefe de69120300000011090065 byladem1001 717 eur']\n"
     ]
    }
   ],
   "source": [
    "row_lenE_clean = Xe_clean.shape\n",
    "print(\"Test Data:\")\n",
    "print(row_lenE_clean)\n",
    "print(Xe_clean)"
   ]
  },
  {
   "cell_type": "markdown",
   "metadata": {},
   "source": [
    "Keep in mind ! Train/test split does have its dangers. What if the split we make isn't random ? What if one subset of our data for example has only people from a certain state, employees with a certain income level but not other income levels, only women or only people at a certain age or in our case transactions of one type ? This will result in overfitting, even though we are trying to avoid it! This is where cross validation comes in, which we will not consider in this evaluations. However it is important to be mentioned and cross validation usually should be preferred in machine learning in regard to get trustfull results.<cite data-cite=\"6943456/FDKSVQ6C\"></cite>"
   ]
  },
  {
   "cell_type": "markdown",
   "metadata": {},
   "source": [
    "##### Class occurence in given data set:"
   ]
  },
  {
   "cell_type": "markdown",
   "metadata": {},
   "source": [
    "In the figure below, we can extract that our data-set isn't very good balanced. Therefore as mentioned in the previous section _CNB_ the CNB classifier will probably be the better choice compared to MNB.  "
   ]
  },
  {
   "cell_type": "code",
   "execution_count": 81,
   "metadata": {},
   "outputs": [
    {
     "name": "stdout",
     "output_type": "stream",
     "text": [
      "['finance' 'income' 'leisure' 'living' 'private' 'standardOfLiving']\n",
      "[33 17 65 26 21 47]\n"
     ]
    },
    {
     "data": {
      "image/png": "[encoded data removed]",
      "text/plain": [
       "<Figure size 432x288 with 1 Axes>"
      ]
     },
     "metadata": {
      "needs_background": "light"
     },
     "output_type": "display_data"
    }
   ],
   "source": [
    "from sklearn import preprocessing\n",
    "import numpy as np\n",
    "import matplotlib.pyplot as plt\n",
    "\n",
    "##ploting occurence of the label data !\n",
    "#encoding labels\n",
    "le = preprocessing.LabelEncoder()\n",
    "le.fit(y)\n",
    "classes = le.transform(y)\n",
    "list_of_classes = np.array(list(le.classes_))\n",
    "\n",
    "#classes, corresponding count of a class\n",
    "unique, counts = np.unique(classes, return_counts=True)\n",
    "occur_classes = dict(zip(unique, counts))\n",
    "\n",
    "#list of class names\n",
    "x = list_of_classes\n",
    "print(x)\n",
    "\n",
    "#list of total count of each class name in the data set\n",
    "y = []\n",
    "i=0\n",
    "for i in range(len(occur_classes)):\n",
    "    y.append(occur_classes[i])\n",
    "y=np.array(y)    \n",
    "print(y)\n",
    "\n",
    "#plot \n",
    "width=(1, 1, 1, 1, 1, 1)\n",
    "position = np.arange(1,len(x)*2,2)\n",
    "fig, ax = plt.subplots()\n",
    "plt.bar(position, y, width, color=['black', 'red', 'green', 'blue', 'cyan','orange'])\n",
    "plt.xlabel('classes')\n",
    "plt.ylabel('count')\n",
    "plt.title('Occurence of Classes')\n",
    "plt.xticks(position, x, rotation='vertical')\n",
    "plt.show()"
   ]
  },
  {
   "cell_type": "markdown",
   "metadata": {},
   "source": [
    "#### Feature-Selection"
   ]
  },
  {
   "cell_type": "markdown",
   "metadata": {},
   "source": [
    "As mentioned in the previous topic a very important issue in machine learning is the feature-selection. First of all there is the so called curse of dimensionality. So we always should try to decrease our dimensionality as much as possible. Why ?. The bigger your feature dimensions are the much more data you need in case to avoid overfitting. Otherwise the bigger your feature dimensions, the bigger is the probability of fitting the noise in the training data since not all features really contain meaningful information for further predictions. But also be careful not to use less features than needed and accidentally underfit your model because of lack of informations. Summerized, this means we want to get rid of as many features as possible, but without losing any significant information of our model. There exist several methods of feature-selection. The probably most common methods are feature selection regarding __Mutual Information__ and $\\chi^{2}$ __feature selection__. Despite the differences between the two methods, the classification accuracy of feature sets selected with $\\chi^{2}$ and MI does not seem to differ systematically. In most text classiﬁcation problems, there are a few strong indicators and many weak indicators. As long as all strong indicators and a large number of weak indicators are selected, accuracy is expected to be good. Both methods do this.<cite data-cite=\"undefined\"></cite> Therefore in our eveluation we will just consider feature selection with mutual information.\n"
   ]
  },
  {
   "cell_type": "markdown",
   "metadata": {},
   "source": [
    "##### Features with high mutual information:"
   ]
  },
  {
   "cell_type": "code",
   "execution_count": 82,
   "metadata": {},
   "outputs": [
    {
     "name": "stdout",
     "output_type": "stream",
     "text": [
      "(156, 749)\n",
      "(749,)\n",
      "[568 416 630 481 554 559 648 595 276 414 488 729 480 432 581 617 595 617\n",
      " 394 416]\n"
     ]
    }
   ],
   "source": [
    "from sklearn.feature_selection import mutual_info_classif as MIC\n",
    "from sklearn.feature_selection import chi2 \n",
    "from sklearn.feature_extraction.text import CountVectorizer\n",
    "import numpy as np\n",
    "from sklearn import preprocessing\n",
    "from sklearn.feature_extraction.text import TfidfTransformer\n",
    "\n",
    "\n",
    "#initialize BOW objects\n",
    "vectorizer_clean = CountVectorizer()\n",
    "tfidf_transformer_clean = TfidfTransformer()\n",
    "\n",
    "#tokenize and build vocabulary\n",
    "vectorizer_clean.fit(Xt_clean)\n",
    "\n",
    "#encode document\n",
    "feature_clean = vectorizer_clean.transform(Xt_clean).toarray()\n",
    "\n",
    "#fit and transform with Tfidf \n",
    "feature_clean = tfidf_transformer_clean.fit_transform(feature_clean)\n",
    "print(feature_clean.shape)\n",
    "\n",
    "#encode labeles\n",
    "le = preprocessing.LabelEncoder()\n",
    "le.fit(yt_clean)\n",
    "classesT_clean = le.transform(yt_clean)\n",
    "list_of_classes_clean = np.array(list(le.classes_))\n",
    "\n",
    "# Compute the mutual information of every feature\n",
    "MI_features = MIC(feature_clean, classesT_clean)\n",
    "\n",
    "# extract k features with highest value \n",
    "MIF = MI_features\n",
    "print(MI_features.shape)\n",
    "feature_highest_info=[]\n",
    "for k in range(20):\n",
    "    feature_highest_info.append(np.argmax(MIF))\n",
    "    MIF = np.delete(MIF, np.argmax(MIF))\n",
    "\n",
    "feature_highest_info = np.array(feature_highest_info)\n",
    "print(feature_highest_info)\n"
   ]
  },
  {
   "cell_type": "code",
   "execution_count": 83,
   "metadata": {
    "scrolled": true
   },
   "outputs": [
    {
     "data": {
      "image/png": "[encoded data removed]",
      "text/plain": [
       "<Figure size 432x288 with 1 Axes>"
      ]
     },
     "metadata": {
      "needs_background": "light"
     },
     "output_type": "display_data"
    }
   ],
   "source": [
    "x = []\n",
    "y = []\n",
    "for i in range(len(MI_features)):\n",
    "    y.append(MI_features[-i])\n",
    "    x.append(len(MI_features)-i)\n",
    "y = np.array(y)    \n",
    "x = np.array(x)\n",
    "\n",
    "\n",
    "position = np.arange(1,len(x)*2,2)\n",
    "fig, ax = plt.subplots()\n",
    "\n",
    "plt.bar(position, y)\n",
    "plt.xlabel('features')\n",
    "plt.ylabel('MI')\n",
    "plt.title('Feature Selection')\n",
    "plt.xticks(position, x, rotation='vertical')\n",
    "plt.show()"
   ]
  },
  {
   "cell_type": "code",
   "execution_count": 84,
   "metadata": {},
   "outputs": [
    {
     "data": {
      "image/png": "[encoded data removed]",
      "text/plain": [
       "<Figure size 432x288 with 1 Axes>"
      ]
     },
     "metadata": {
      "needs_background": "light"
     },
     "output_type": "display_data"
    }
   ],
   "source": [
    "plt.bar(position, y)\n",
    "plt.xlabel('features')\n",
    "plt.ylabel('MI')\n",
    "plt.title('Feature Selection')\n",
    "plt.xticks(position, x, rotation='vertical')\n",
    "plt.axis([x[350],x[390],0,1.8])\n",
    "plt.show()\n"
   ]
  },
  {
   "cell_type": "markdown",
   "metadata": {},
   "source": [
    "#### Training the data with NB:"
   ]
  },
  {
   "cell_type": "code",
   "execution_count": 85,
   "metadata": {},
   "outputs": [
    {
     "data": {
      "text/plain": [
       "MultinomialNB(alpha=1.0, class_prior=None, fit_prior=True)"
      ]
     },
     "execution_count": 85,
     "metadata": {},
     "output_type": "execute_result"
    }
   ],
   "source": [
    "from sklearn.naive_bayes import MultinomialNB\n",
    "\n",
    "clf_clean_M = MultinomialNB()\n",
    "clf_clean_M.fit(feature_clean[:, feature_highest_info], classesT_clean)"
   ]
  },
  {
   "cell_type": "code",
   "execution_count": 86,
   "metadata": {},
   "outputs": [
    {
     "data": {
      "text/plain": [
       "ComplementNB(alpha=1.0, class_prior=None, fit_prior=True, norm=False)"
      ]
     },
     "execution_count": 86,
     "metadata": {},
     "output_type": "execute_result"
    }
   ],
   "source": [
    "from sklearn.naive_bayes import ComplementNB\n",
    "\n",
    "clf_clean_C = ComplementNB()\n",
    "clf_clean_C.fit(feature_clean[:, feature_highest_info], classesT_clean)"
   ]
  },
  {
   "cell_type": "code",
   "execution_count": 87,
   "metadata": {},
   "outputs": [
    {
     "data": {
      "text/plain": [
       "BernoulliNB(alpha=1.0, binarize=0.0, class_prior=None, fit_prior=True)"
      ]
     },
     "execution_count": 87,
     "metadata": {},
     "output_type": "execute_result"
    }
   ],
   "source": [
    "from sklearn.naive_bayes import BernoulliNB\n",
    "\n",
    "clf_clean_B = BernoulliNB()\n",
    "clf_clean_B.fit(feature_clean[:, feature_highest_info], classesT_clean)"
   ]
  },
  {
   "cell_type": "markdown",
   "metadata": {},
   "source": [
    "#### Evaluation of the performance on the test set:"
   ]
  },
  {
   "cell_type": "markdown",
   "metadata": {},
   "source": [
    "##### 1. Test set:"
   ]
  },
  {
   "cell_type": "code",
   "execution_count": 88,
   "metadata": {
    "scrolled": true
   },
   "outputs": [
    {
     "name": "stdout",
     "output_type": "stream",
     "text": [
      "(53, 749)\n"
     ]
    }
   ],
   "source": [
    "evalvectors_clean = vectorizer_clean.transform(Xe_clean).toarray()\n",
    "evalvectors_clean = tfidf_transformer_clean.transform(evalvectors_clean)\n",
    "print(evalvectors_clean.shape)     \n",
    "\n",
    "# manually assigned labels to the testdata\n",
    "le.fit(ye_clean)\n",
    "classesE_clean = le.transform(ye_clean)"
   ]
  },
  {
   "cell_type": "markdown",
   "metadata": {},
   "source": [
    "##### 2. predicted data:"
   ]
  },
  {
   "cell_type": "code",
   "execution_count": 89,
   "metadata": {},
   "outputs": [],
   "source": [
    "classesP_clean_M = clf_clean_M.predict(evalvectors_clean[:, feature_highest_info])"
   ]
  },
  {
   "cell_type": "code",
   "execution_count": 90,
   "metadata": {},
   "outputs": [],
   "source": [
    "classesP_clean_C = clf_clean_C.predict(evalvectors_clean[:, feature_highest_info])"
   ]
  },
  {
   "cell_type": "code",
   "execution_count": 91,
   "metadata": {},
   "outputs": [],
   "source": [
    "classesP_clean_B = clf_clean_B.predict(evalvectors_clean[:, feature_highest_info])"
   ]
  },
  {
   "cell_type": "markdown",
   "metadata": {},
   "source": [
    "##### 3. Performance:"
   ]
  },
  {
   "cell_type": "code",
   "execution_count": 92,
   "metadata": {},
   "outputs": [
    {
     "data": {
      "text/plain": [
       "0.3018867924528302"
      ]
     },
     "execution_count": 92,
     "metadata": {},
     "output_type": "execute_result"
    }
   ],
   "source": [
    "np.mean(classesP_clean_M == classesE_clean) # Multinomial"
   ]
  },
  {
   "cell_type": "code",
   "execution_count": 93,
   "metadata": {},
   "outputs": [
    {
     "data": {
      "text/plain": [
       "0.5660377358490566"
      ]
     },
     "execution_count": 93,
     "metadata": {},
     "output_type": "execute_result"
    }
   ],
   "source": [
    "np.mean(classesP_clean_C == classesE_clean) # Complement"
   ]
  },
  {
   "cell_type": "code",
   "execution_count": 94,
   "metadata": {},
   "outputs": [
    {
     "data": {
      "text/plain": [
       "0.5660377358490566"
      ]
     },
     "execution_count": 94,
     "metadata": {},
     "output_type": "execute_result"
    }
   ],
   "source": [
    "np.mean(classesP_clean_B == classesE_clean) # Bernoulli"
   ]
  },
  {
   "cell_type": "markdown",
   "metadata": {},
   "source": [
    "#### Metrics:"
   ]
  },
  {
   "cell_type": "code",
   "execution_count": 95,
   "metadata": {},
   "outputs": [
    {
     "name": "stdout",
     "output_type": "stream",
     "text": [
      "Classificatin Report MNB\n",
      "                  precision    recall  f1-score   support\n",
      "\n",
      "         finance       0.00      0.00      0.00         0\n",
      "          income       0.00      0.00      0.00         0\n",
      "         leisure       1.00      0.30      0.46        53\n",
      "          living       0.00      0.00      0.00         0\n",
      "         private       0.00      0.00      0.00         0\n",
      "standardOfLiving       0.00      0.00      0.00         0\n",
      "\n",
      "       micro avg       0.30      0.30      0.30        53\n",
      "       macro avg       0.17      0.05      0.08        53\n",
      "    weighted avg       1.00      0.30      0.46        53\n",
      "\n",
      " \n",
      "Classificatin Report CNB\n",
      "                  precision    recall  f1-score   support\n",
      "\n",
      "         finance       1.00      1.00      1.00         4\n",
      "          income       0.00      0.00      0.00         0\n",
      "         leisure       1.00      0.59      0.74        27\n",
      "          living       0.00      0.00      0.00         0\n",
      "         private       0.14      1.00      0.25         1\n",
      "standardOfLiving       0.60      0.43      0.50        21\n",
      "\n",
      "       micro avg       0.57      0.57      0.57        53\n",
      "       macro avg       0.46      0.50      0.42        53\n",
      "    weighted avg       0.83      0.57      0.66        53\n",
      "\n",
      " \n",
      "Classificatin Report Bernoulli\n",
      "                  precision    recall  f1-score   support\n",
      "\n",
      "         finance       1.00      0.57      0.73         7\n",
      "          income       0.00      0.00      0.00         0\n",
      "         leisure       1.00      0.59      0.74        27\n",
      "          living       0.00      0.00      0.00         0\n",
      "         private       0.14      1.00      0.25         1\n",
      "standardOfLiving       0.60      0.50      0.55        18\n",
      "\n",
      "       micro avg       0.57      0.57      0.57        53\n",
      "       macro avg       0.46      0.44      0.38        53\n",
      "    weighted avg       0.85      0.57      0.67        53\n",
      "\n",
      " \n"
     ]
    },
    {
     "name": "stderr",
     "output_type": "stream",
     "text": [
      "C:\\Users\\Overlord\\Anaconda3\\lib\\site-packages\\sklearn\\metrics\\classification.py:1145: UndefinedMetricWarning: Recall and F-score are ill-defined and being set to 0.0 in labels with no true samples.\n",
      "  'recall', 'true', average, warn_for)\n"
     ]
    }
   ],
   "source": [
    "from sklearn import metrics\n",
    "print(\"Classificatin Report MNB\")\n",
    "print(metrics.classification_report(classesP_clean_M, classesE_clean, target_names = list_of_classes_clean ))\n",
    "print(\" \")\n",
    "print(\"Classificatin Report CNB\")\n",
    "print(metrics.classification_report(classesP_clean_C, classesE_clean, target_names = list_of_classes_clean ))\n",
    "print(\" \")\n",
    "print(\"Classificatin Report Bernoulli\")\n",
    "print(metrics.classification_report(classesP_clean_B, classesE_clean, target_names = list_of_classes_clean ))\n",
    "print(\" \")"
   ]
  },
  {
   "cell_type": "code",
   "execution_count": 96,
   "metadata": {},
   "outputs": [
    {
     "name": "stdout",
     "output_type": "stream",
     "text": [
      "Confusion Matrix MNB\n",
      "[[ 0  0  4  0  0  0]\n",
      " [ 0  0  4  0  0  0]\n",
      " [ 0  0 16  0  0  0]\n",
      " [ 0  0  7  0  0  0]\n",
      " [ 0  0  7  0  0  0]\n",
      " [ 0  0 15  0  0  0]]\n",
      " \n",
      "Confusion Matrix CNB\n",
      "[[ 4  0  0  0  0  0]\n",
      " [ 0  0  0  0  0  4]\n",
      " [ 0  0 16  0  0  0]\n",
      " [ 0  0  4  0  0  3]\n",
      " [ 0  0  1  0  1  5]\n",
      " [ 0  0  6  0  0  9]]\n",
      " \n",
      "Confusion Matrix Bernoulli\n",
      "[[ 4  0  0  0  0  0]\n",
      " [ 0  0  0  0  0  4]\n",
      " [ 0  0 16  0  0  0]\n",
      " [ 3  0  4  0  0  0]\n",
      " [ 0  0  1  0  1  5]\n",
      " [ 0  0  6  0  0  9]]\n",
      " \n"
     ]
    }
   ],
   "source": [
    "print(\"Confusion Matrix MNB\")\n",
    "print(metrics.confusion_matrix(classesE_clean, classesP_clean_M))\n",
    "print(\" \")\n",
    "print(\"Confusion Matrix CNB\")\n",
    "print(metrics.confusion_matrix(classesE_clean, classesP_clean_C))\n",
    "print(\" \")\n",
    "print(\"Confusion Matrix Bernoulli\")\n",
    "print(metrics.confusion_matrix(classesE_clean, classesP_clean_B))\n",
    "print(\" \")"
   ]
  },
  {
   "cell_type": "markdown",
   "metadata": {},
   "source": [
    "### Naive Bayes Classification with manually selected features"
   ]
  },
  {
   "cell_type": "markdown",
   "metadata": {},
   "source": [
    "In this section we do the NB Classification as in the previous section, but rather to use a scikit-method for feature selection, we manually choose one of the given attributes as our feature. In our case it is the 6th attribute in the data set called \"Verwendungszweck\". The selection of the feature is based on empirical results and intuition, since you can easily extract from the given dataset that the Column \"Verwendungszweck\" contains the most characteristic information for a class.    "
   ]
  },
  {
   "cell_type": "markdown",
   "metadata": {},
   "source": [
    "At first we have to extract our given textdata from the _.csv_ file:  "
   ]
  },
  {
   "cell_type": "code",
   "execution_count": 97,
   "metadata": {},
   "outputs": [
    {
     "data": {
      "text/plain": [
       "12"
      ]
     },
     "execution_count": 97,
     "metadata": {},
     "output_type": "execute_result"
    }
   ],
   "source": [
    "import numpy as np\n",
    "\n",
    "attributes = np.array([\"ID\",\"Auftragskonto\",\"Buchungstag\",\"Valutadatum\",\"Buchungstext\",\"Verwendungszweck\",\"Beguenstigter/Zahlungspflichtiger\",\"Kontonummer\",\"BLZ\",\"Betrag\",\"Waehrung\",\"label\"])\n",
    "len(attributes)"
   ]
  },
  {
   "cell_type": "code",
   "execution_count": 98,
   "metadata": {},
   "outputs": [],
   "source": [
    "# Load CSV (using python)\n",
    "import csv\n",
    "\n",
    "filename = 'Exercise1_TransactionClassification_DataSet_w_Header.csv'\n",
    "raw_data = open(filename, 'rt')\n",
    "reader = csv.reader(raw_data, delimiter=';', quoting=csv.QUOTE_NONE)\n",
    "x = list(reader)\n",
    "data = np.array(x).astype(\"str\")"
   ]
  },
  {
   "cell_type": "code",
   "execution_count": 99,
   "metadata": {},
   "outputs": [
    {
     "data": {
      "text/plain": [
       "(209, 12)"
      ]
     },
     "execution_count": 99,
     "metadata": {},
     "output_type": "execute_result"
    }
   ],
   "source": [
    "data.shape"
   ]
  },
  {
   "cell_type": "code",
   "execution_count": 100,
   "metadata": {
    "scrolled": true
   },
   "outputs": [
    {
     "name": "stdout",
     "output_type": "stream",
     "text": [
      "(209, 12)\n",
      "[['0' '899902010' '28072016' ... '200000' 'eur' 'income']\n",
      " ['1' '899902010' '27072016' ... '67000' 'eur' 'living']\n",
      " ['2' '899902010' '21072016' ... '7000' 'eur' 'private']\n",
      " ...\n",
      " ['206' '' '28012016' ... '200000' 'eur' 'income']\n",
      " ['207' '' '28012016' ... '400000' 'eur' 'finance']\n",
      " ['208' '899902100' '08012016' ... '512' 'eur' 'leisure']]\n"
     ]
    }
   ],
   "source": [
    "import string\n",
    "import csv\n",
    "\n",
    "data\n",
    "\n",
    "#cleaning up the data as in the previous section\n",
    "table = str.maketrans('', '', string.punctuation)\n",
    "for (x,y), value in np.ndenumerate(data):\n",
    "    \n",
    "    c=np.array(list(filter(None,[w.translate(table) for w in data[x,y].split()])),'<U120')\n",
    "    data[x,y]=\" \".join(c).lower() \n",
    "    \n",
    "print(data.shape)\n",
    "print(data)   "
   ]
  },
  {
   "cell_type": "markdown",
   "metadata": {},
   "source": [
    "#### Train/Test-Split of the data:"
   ]
  },
  {
   "cell_type": "markdown",
   "metadata": {},
   "source": [
    "##### 1. Train/Test-Split - 70/30:"
   ]
  },
  {
   "cell_type": "code",
   "execution_count": 101,
   "metadata": {},
   "outputs": [
    {
     "name": "stdout",
     "output_type": "stream",
     "text": [
      "Training Data:\n",
      "146 11\n",
      "[['4' '899902010' '18072016' ... '25125100' '363' 'eur']\n",
      " ['91' '899902100' '07032016' ... 'csdbde71xxx' '1000' 'eur']\n",
      " ['66' '899902100' '31032016' ... '' '6004' 'eur']\n",
      " ...\n",
      " ['45' '899902010' '02022016' ... 'dresdeff790' '30000' 'eur']\n",
      " ['1' '899902010' '27072016' ... 'vohade2hxxx' '67000' 'eur']\n",
      " ['165' '899902100' '11012016' ... '76030080' '20' 'eur']]\n",
      " \n",
      "Test-Data:\n",
      "63 11\n",
      "[['163' '899902100' '13012016' '13012016'\n",
      "  'lastschrift einzugsermã¤chtigung'\n",
      "  'visa6218501306060876 2000eur00000000000 1101 2000 10316011'\n",
      "  'bankhaus august lenz atm' '922904916' '76030080' '20' 'eur']\n",
      " ['12' '899902010' '15062016' '15062016' 'mieteinnahmen'\n",
      "  'mietzuschuss endtoendref notprovided kundenreferenz nsct1603080001510000000000000000006 gutschrift'\n",
      "  'isabel anna' 'de31251900019736000780' 'vohade2hxxx' '20000' 'eur']\n",
      " ['15' '899902010' '03062016' '03062016' 'lebensmittel getraenke'\n",
      "  '2831 edeka neubauer nuernbnuernb 20160504t175445 kfn 9 vj 1612 lastschrift'\n",
      "  'kartenzahlung' '9736000780' '25190001' '7321' 'eur']\n",
      " ['112' '899902100' '24022016' '24022016'\n",
      "  'lastschrift einzugsermã¤chtigung'\n",
      "  'visa62185021amazonde 799eur00000000000 2202 000 10355969' 'amazon eu'\n",
      "  '922904916' '76030080' '799' 'eur']\n",
      " ['168' '' '05072016' '05072016' 'drogerie'\n",
      "  'dm fil1137 h65128nuernbergde 2 0160419t170343folgenr001 verf alld2020 12'\n",
      "  'dm drogeriemarkt sagt danke' '7755566780' '25190001' '2885' 'eur']\n",
      " ['199' '' '02032016' '02032016' 'geldanlage'\n",
      "  'ccbade31xxx de71310108339900123456 sparen endtoendref notprovided dauerauftrag dauerauftrag'\n",
      "  'michael koffer' 'de69790800529736000780' 'dresdeff790' '30000' 'eur']\n",
      " ['113' '899902100' '24022016' '24022016'\n",
      "  'lastschrift einzugsermã¤chtigung'\n",
      "  'visa62185021amazonde 673eur00000000000 2202 000 10355969' 'amazon eu'\n",
      "  '922904916' '76030080' '673' 'eur']\n",
      " ['159' '899902100' '19012016' '19012016'\n",
      "  'lastschrift einzugsermã¤chtigung'\n",
      "  'visa62185013nuernberg 5000eur00000000000 1601 5000 10316011'\n",
      "  'deutsche bank ag' '922904916' '76030080' '50' 'eur']\n",
      " ['51' '899902100' '12042016' '12042016'\n",
      "  'lastschrift einzugsermã¤chtigung' 'pulsnitz' 'gmb'\n",
      "  'de40750500000030909999' 'byladem1rgb' '50' 'eur']\n",
      " ['56' '899902100' '06042016' '06042016'\n",
      "  'lastschrift einzugsermã¤chtigung'\n",
      "  'visa6218502106060876 2000eur00000000000 0404 2000 10316011'\n",
      "  'bankhaus august lenz atm' '922904916' '76030080' '20' 'eur']\n",
      " ['78' '899902100' '21032016' '21032016'\n",
      "  'lastschrift einzugsermã¤chtigung'\n",
      "  'celona nuernbergnuernbergde 2016 0319t152252 folgenr001 verfall d202012'\n",
      "  'cafe bar celona nuernberg' 'de54760501010005177019' 'ssknde77' '20'\n",
      "  'eur']\n",
      " ['87' '899902100' '10032016' '10032016'\n",
      "  'lastschrift einzugsermã¤chtigung'\n",
      "  'esso deutschland gmbhnuernbergde 20160309t070435 folgenr001 ve rfalld202012'\n",
      "  'esso deutschland gmbh' 'de25200800000930401000' 'dresdeff200' '2602'\n",
      "  'eur']\n",
      " ['19' '899902010' '01062016' '01062016' 'bargeld'\n",
      "  '01061634uhr nuernberg all eur 7000 gebeur 000 einzahlungauszahlung ga nr55508568 blz76010085 9'\n",
      "  'bargeld' '9999900780' '25190001' '7000' 'eur']\n",
      " ['77' '899902100' '21032016' '21032016'\n",
      "  'lastschrift einzugsermã¤chtigung'\n",
      "  'dm fil1137 h65128nuernbergde 2 0160319t170343folgenr001 verf alld2020 12'\n",
      "  'dm drogeriemarkt sagt danke' 'de88600501017402099997' 'soladest600'\n",
      "  '2885' 'eur']\n",
      " ['73' '899902100' '29032016' '29032016'\n",
      "  'lastschrift einzugsermã¤chtigung'\n",
      "  '230320211004393201252017040elv6520 1704 2303 2021 m e1'\n",
      "  'sushi glas gastronomie gmbh' 'de52300500000001484112' 'weladedd' '30'\n",
      "  'eur']\n",
      " ['83' '899902100' '15032016' '15032016'\n",
      "  'lastschrift einzugsermã¤chtigung' 'abschlag gas 0316 vk 220200215414'\n",
      "  'e wie einfach gmbh' 'de30370700600177252400' 'deutdedk' '46' 'eur']\n",
      " ['49' '899902100' '14042016' '14042016'\n",
      "  'lastschrift einzugsermã¤chtigung' 'bears friends gmbverfa lld201612'\n",
      "  'friends' 'de40750500000030909966' 'byladem1rgg' '5000' 'eur']\n",
      " ['98' '899902100' '01032016' '01032016'\n",
      "  'lastschrift einzugsermã¤chtigung'\n",
      "  'visa62185021amazonde 754eur00000000000 2602 000 10355969' 'amazon eu'\n",
      "  '922904916' '76030080' '754' 'eur']\n",
      " ['172' '' '15062016' '15062016' 'mieteinnahmen'\n",
      "  'mietzuschuss endtoendref notprovided kundenreferenz nsct1603080001510000000000000000006 gutschrift'\n",
      "  'isabel anna' 'de31251900019736000780' 'vohade2hxxx' '20000' 'eur']\n",
      " ['86' '899902100' '11032016' '11032016'\n",
      "  'lastschrift einzugsermã¤chtigung'\n",
      "  'visa6218502106060876 4000eur00000000000 0903 4000 10316011'\n",
      "  'bankhaus august lenz atm' '922904916' '76030080' '40' 'eur']\n",
      " ['72' '899902100' '29032016' '29032016'\n",
      "  'lastschrift einzugsermã¤chtigung'\n",
      "  'aramark gmbhnuernbergde 201603 24t123012 folgenr001 verfalld20 2012'\n",
      "  'aramark gmbh ihs teambank' 'de70500202000015003825' 'bhfbdeff500' '20'\n",
      "  'eur']\n",
      " ['84' '899902100' '15032016' '15032016'\n",
      "  'lastschrift einzugsermã¤chtigung' 'elv66021447 1203 1730 me11'\n",
      "  'hm 798 sagt vielen dank' 'de62200400000244890003' 'cobadeff' '8296'\n",
      "  'eur']\n",
      " ['39' '899902010' '02032016' '02032016' 'geldanlage'\n",
      "  'ccbade31xxx de71310108339900123456 sparen endtoendref notprovided dauerauftrag dauerauftrag'\n",
      "  'michael koffer' 'de69790800529736000780' 'dresdeff790' '30000' 'eur']\n",
      " ['97' '899902100' '01032016' '01032016'\n",
      "  'lastschrift einzugsermã¤chtigung'\n",
      "  'visa621850218002796620 5242eur00000000000 2702 000 10355999'\n",
      "  'amazon de marketplace' '922904916' '76030080' '5242' 'eur']\n",
      " ['79' '899902100' '21032016' '21032016'\n",
      "  'lastschrift einzugsermã¤chtigung'\n",
      "  'visa6218502106060876 10000eur00000000000 1703 10000 10316011'\n",
      "  'bankhaus august lenz atm' '922904916' '76030080' '100' 'eur']\n",
      " ['99' '899902100' '01032016' '01032016' 'dauerauftrag' 'haushalt'\n",
      "  'anna fein lucas fein' 'de60760300800230188170' 'csdbde71xxx' '100'\n",
      "  'eur']\n",
      " ['59' '899902100' '05042016' '05042016'\n",
      "  'lastschrift einzugsermã¤chtigung'\n",
      "  'visa62185021senningerberg 2430eur00000000000 0104 000 10355499'\n",
      "  'foodora' '922904916' '76030080' '243' 'eur']\n",
      " ['76' '899902100' '22032016' '22032016'\n",
      "  'lastschrift einzugsermã¤chtigung' 'kdnr k358853507 rgnr 150257651 551'\n",
      "  '1u1 telecom gmbh' 'de97500400000589011600' 'cobadeff' '2499' 'eur']\n",
      " ['80' '899902100' '16032016' '16032016'\n",
      "  'lastschrift einzugsermã¤chtigung'\n",
      "  'visa621850218002796620 3373eur00000000000 1403 000 10355999'\n",
      "  'amazon de marketplace' '922904916' '76030080' '3373' 'eur']\n",
      " ['93' '899902100' '04032016' '04032016'\n",
      "  'lastschrift einzugsermã¤chtigung' 'abonnement kdnr 5104489' 'vag'\n",
      "  'de89760501010001011500' 'ssknde77' '512' 'eur']\n",
      " ['194' '' '30032016' '30032016' 'lohn gehalt'\n",
      "  'gehalt adorsys gmbh co kg endtoendref notprovided kundenreferenz nsct1603300013660000000000000000001 gutschrift'\n",
      "  'adorsys gmbh co kg' '7807800780' '25190001' '200000' 'eur']\n",
      " ['71' '899902100' '30032016' '30032016'\n",
      "  'lastschrift einzugsermã¤chtigung'\n",
      "  'visa6218502106060876 5000eur00000000000 2503 5000 10316011'\n",
      "  'bankhaus august lenz atm' '922904916' '76030080' '50' 'eur']\n",
      " ['151' '899902100' '25012016' '25012016'\n",
      "  'lastschrift einzugsermã¤chtigung'\n",
      "  'humanicnuernberde 20160123t13 2317 folgenr001 verfalld202012'\n",
      "  'humanic' 'de35760100850024668858' 'pbnkdeff' '3995' 'eur']\n",
      " ['143' '899902100' '01022016' '01022016' 'dauerauftrag' 'haushalt'\n",
      "  'anna fein lucas fein' 'de60760300800230188170' 'csdbde71xxx' '100'\n",
      "  'eur']\n",
      " ['102' '899902100' '29022016' '29022016'\n",
      "  'lastschrift einzugsermã¤chtigung'\n",
      "  'omv nuernberg 7540nuernbergde 20 160226t151734 folgenr001 verfa lld202012'\n",
      "  'omv deutschland gmbh' 'de46743200730005403626' 'hyvedemm433' '2602'\n",
      "  'eur']\n",
      " ['16' '899902010' '02062016' '02062016' 'lebensmittel getraenke'\n",
      "  '2831 edeka neubauer nuernbnuernb 20160602t175445 kfn 9 vj 1612 lastschrift'\n",
      "  'kartenzahlung' '9736000780' '25190001' '1000' 'eur']\n",
      " ['193' '' '04042016' '04042016' 'geldanlage'\n",
      "  'ccbade31xxx de71310108339900123456 sparen endtoendref notprovided dauerauftrag dauerauftrag'\n",
      "  'michael koffer' 'de69790800529736000780' 'dresdeff790' '30000' 'eur']\n",
      " ['106' '899902100' '29022016' '29022016' 'dauerauftrag' 'miete'\n",
      "  'lucas fein' 'de34760606180001954970' 'genodef1n02' '41216' 'eur']\n",
      " ['10' '899902010' '29062016' '29062016' 'lohn gehalt'\n",
      "  'gehalt adorsys gmbh co kg endtoendref notprovided kundenreferenz nsct1603300013660000000000000000001 gutschrift'\n",
      "  'adorsys gmbh co kg' '7807800780' '25190001' '200000' 'eur']\n",
      " ['33' '899902010' '04042016' '04042016' 'geldanlage'\n",
      "  'ccbade31xxx de71310108339900123456 sparen endtoendref notprovided dauerauftrag dauerauftrag'\n",
      "  'michael koffer' 'de69790800529736000780' 'dresdeff790' '30000' 'eur']\n",
      " ['148' '899902100' '27012016' '27012016'\n",
      "  'lastschrift einzugsermã¤chtigung'\n",
      "  'elv56006915 2501 1654 me1rewe sa gt danke 46400517'\n",
      "  'rewe nuernberg aeu' 'de56500101111932685105' 'essede5f' '1794' 'eur']\n",
      " ['116' '899902100' '22022016' '22022016'\n",
      "  'lastschrift einzugsermã¤chtigung'\n",
      "  'ultracomix gmbhnuernbergde 2016 0220t173528 folgenr001 verfall d202012'\n",
      "  'ultracomix gmbh' 'de52664926000014134905' 'genode61app' '1995' 'eur']\n",
      " ['171' '' '28062016' '28062016' 'miete'\n",
      "  'byladem1sbt de12773501123456789889 miete beuthener str 25 endtoendref notprovided dauerauftrag dauerauftrag'\n",
      "  'georg tasche' 'de31251900019123456780' 'vohade2hxxx' '67000' 'eur']\n",
      " ['174' '' '08062016' '08062016' 'drogerie'\n",
      "  'dm fil1137 h65128nuernbergde 2 0160216t170343folgenr001 verf alld2020 12'\n",
      "  'dm drogeriemarkt sagt danke' '7755566780' '25190001' '1999' 'eur']\n",
      " ['131' '899902100' '04022016' '04022016'\n",
      "  'lastschrift einzugsermã¤chtigung'\n",
      "  'apotheke sebalder hnuernbergde 2 0160203t164807folgenr001 verf alld2020 12'\n",
      "  'apotheke sebalder hoefe' 'de69120300000011090065' 'byladem1001' '717'\n",
      "  'eur']\n",
      " ['43' '899902010' '16022016' '16022016' 'bargeld'\n",
      "  '16021634uhr nuernberg all eur 7000 gebeur 000 einzahlungauszahlung ga nr55508568 blz76010085 9'\n",
      "  'bargeld' '9999900780' '25190001' '5000' 'eur']\n",
      " ['117' '899902100' '22022016' '22022016'\n",
      "  'lastschrift einzugsermã¤chtigung' 'kdnr k358853507 rgnr 150251073 317'\n",
      "  '1u1 telecom gmbh' 'de97500400000589011600' 'cobadeff' '2499' 'eur']\n",
      " ['9' '899902010' '01072016' '01072016' 'bargeld'\n",
      "  '16021634uhr nuernberg all eur 7000 gebeur 000 einzahlungauszahlung ga nr55508568 blz76010085 9'\n",
      "  'bargeld' '9999900780' '25190001' '5000' 'eur']\n",
      " ['142' '899902100' '01022016' '01022016'\n",
      "  'lastschrift einzugsermã¤chtigung'\n",
      "  'vero moda nuernbergnuernbergde 2 0160130t142554folgenr001 verf alld2020 12'\n",
      "  '69 vero moda nuernberg city' 'de38215400600211037700' 'cobadeff'\n",
      "  '3495' 'eur']\n",
      " ['150' '899902100' '25012016' '25012016'\n",
      "  'lastschrift einzugsermã¤chtigung'\n",
      "  'nstylenurnbergde 20160123t11 3213 folgenr001 verfalld202012' 'nstyle'\n",
      "  'de94721500000053303830' 'byladem1ing' '8995' 'eur']\n",
      " ['18' '899902010' '01062016' '01062016' 'drogerie'\n",
      "  'dm fil1137 h65128nuernbergde 2 0160601t170343folgenr001 verf alld2020 12'\n",
      "  'dm drogeriemarkt sagt danke' '7755566780' '25190001' '2885' 'eur']\n",
      " ['111' '899902100' '25022016' '25022016'\n",
      "  'lastschrift einzugsermã¤chtigung'\n",
      "  'elv56006915 2302 1159 me1rewe sa gt danke 46400517'\n",
      "  'rewe nuernberg aeu' 'de56500101111932685105' 'essede5f' '3719' 'eur']\n",
      " ['53' '899902100' '11042016' '11042016'\n",
      "  'lastschrift einzugsermã¤chtigung'\n",
      "  'tk maxx nuernbergnuernbergde 201 60402t135208 folgenr001 verfal ld202012'\n",
      "  'tk maxx nã¼rnberg' 'de38300800000245238803' 'dresdeff300' '8999' 'eur']\n",
      " ['57' '899902100' '06042016' '06042016'\n",
      "  'lastschrift einzugsermã¤chtigung' 'abonnement kdnr 5104489' 'vag'\n",
      "  'de89760501010001011500' 'ssknde77' '512' 'eur']\n",
      " ['37' '899902010' '15032016' '15032016' 'lebensmittel getraenke'\n",
      "  '2831 edeka neubauer nuernbnuernb 20160315t175445 kfn 9 vj 1612 lastschrift'\n",
      "  'kartenzahlung' '9736000780' '25190001' '1000' 'eur']\n",
      " ['21' '899902010' '30052016' '30052016' 'lohn gehalt'\n",
      "  'gehalt adorsys gmbh co kg endtoendref notprovided kundenreferenz nsct1603300013660000000000000000001 gutschrift'\n",
      "  'adorsys gmbh co kg' '7807800780' '25190001' '200000' 'eur']\n",
      " ['25' '899902010' '09052016' '09052016' 'lebensmittel getraenke'\n",
      "  '2831 edeka neubauer nuernbnuernb 20160509t175445 kfn 9 vj 1612 lastschrift'\n",
      "  'kartenzahlung' '9736000780' '25190001' '1999' 'eur']\n",
      " ['109' '899902100' '25022016' '25022016'\n",
      "  'lastschrift einzugsermã¤chtigung'\n",
      "  'visa62185021rathaus 5000eur00000000000 2302 5000 10316011'\n",
      "  'sparkasse nuernberg' '922904916' '76030080' '50' 'eur']\n",
      " ['34' '899902010' '30032016' '30032016' 'lohn gehalt'\n",
      "  'gehalt adorsys gmbh co kg endtoendref notprovided kundenreferenz nsct1603300013660000000000000000001 gutschrift'\n",
      "  'adorsys gmbh co kg' '7807800780' '25190001' '200000' 'eur']\n",
      " ['187' '' '03052016' '03052016' 'geldanlage'\n",
      "  'ccbade31xxx de71310108339900123456 sparen endtoendref notprovided dauerauftrag dauerauftrag'\n",
      "  'michael koffer' 'de69790800529736000780' 'dresdeff790' '30000' 'eur']\n",
      " ['52' '899902100' '11042016' '11042016'\n",
      "  'lastschrift einzugsermã¤chtigung'\n",
      "  'elv56006915 0804 1535 me1rewe sa gt danke 46400517'\n",
      "  'rewe nuernberg aeu' 'de56500101111932685105' 'essede5f' '4403' 'eur']\n",
      " ['134' '899902100' '03022016' '03022016'\n",
      "  'lastschrift einzugsermã¤chtigung'\n",
      "  '30374831412001136 amazon mktplce eude 0164378887929309'\n",
      "  'amazon payments europe sca' 'de87300308801908262006' 'tubddedd' '137'\n",
      "  'eur']\n",
      " ['105' '899902100' '29022016' '29022016'\n",
      "  'lastschrift einzugsermã¤chtigung'\n",
      "  'dm fil2103 h65214nuernbergde 2 0160227t114326folgenr001 verf alld2020 12'\n",
      "  'dm drogeriemarkt sagt danke' 'de88600501017402099997' 'soladest600'\n",
      "  '545' 'eur']]\n"
     ]
    }
   ],
   "source": [
    "from sklearn.model_selection import train_test_split\n",
    "X, y = data[:,:-1], data[:,-1]\n",
    "row_len, col_len = X.shape\n",
    "\n",
    "Xt, Xe, yt, ye = train_test_split(X, y, test_size=0.3) # splitting data using random choice\n",
    "\n",
    "row_lenT, col_lenT = Xt.shape\n",
    "print(\"Training Data:\")\n",
    "print(row_lenT, col_lenT)\n",
    "print(Xt)\n",
    "\n",
    "print(\" \")\n",
    "\n",
    "row_lenE, col_lenE = Xe.shape\n",
    "print(\"Test-Data:\")\n",
    "print(row_lenE, col_lenE)\n",
    "print(Xe)\n"
   ]
  },
  {
   "cell_type": "markdown",
   "metadata": {},
   "source": [
    "#### Preparing the data for machine learning methods:"
   ]
  },
  {
   "cell_type": "markdown",
   "metadata": {},
   "source": [
    "In case to be able to apply any kind of machine learning methods to our data, we first of all must tokenize the text in our data. Afterwards the tokenized text needs to be encoded as integers or floating point values. For this process we will discuss  some methods from _scikit-learn_:"
   ]
  },
  {
   "cell_type": "markdown",
   "metadata": {},
   "source": [
    "##### 1. CountVectorizer:"
   ]
  },
  {
   "cell_type": "markdown",
   "metadata": {},
   "source": [
    "The CountVectorizer does text preprocessing, tokenizing and filtering of stopwords. Thus it creates a vocabulary of known words which can be used for encoding the given data set. An encoded vector is returned with a length of the entire vocabulary and an integer count for the number of times each word appeared in the document.<cite data-cite=\"6943456/MVIWDKMS\"></cite>"
   ]
  },
  {
   "cell_type": "code",
   "execution_count": 102,
   "metadata": {
    "scrolled": false
   },
   "outputs": [
    {
     "data": {
      "text/plain": [
       "(146, 709)"
      ]
     },
     "execution_count": 102,
     "metadata": {},
     "output_type": "execute_result"
    }
   ],
   "source": [
    "## not cleaned text \n",
    "\n",
    "from sklearn.feature_extraction.text import CountVectorizer\n",
    "# list of text documents\n",
    "text = np.reshape(Xt,(1,col_lenT*row_lenT))\n",
    "text = np.squeeze(text, axis=0)\n",
    "# create the transform\n",
    "vectorizer = CountVectorizer()\n",
    "# tokenize and build vocab\n",
    "vectorizer.fit(text)\n",
    "# encode document\n",
    "featurevectors = []\n",
    "for i in range(0, len(Xt[:])):\n",
    "    featurevector = vectorizer.transform([Xt[i,5]]).toarray() #feature selection -Buchungstext-\n",
    "    featurevectors.append(featurevector) \n",
    "    \n",
    "featurevectors = np.array(featurevectors)\n",
    "featurevectors = np.squeeze(featurevectors, axis=1)\n",
    "featurevectors.shape\n"
   ]
  },
  {
   "cell_type": "markdown",
   "metadata": {},
   "source": [
    "##### 2. TfidfTransformer:"
   ]
  },
  {
   "cell_type": "markdown",
   "metadata": {},
   "source": [
    "One issue with simple counts is that some words like “the” will appear many times and their large counts will not be very meaningful in the encoded vectors. An alternative is to calculate word frequencies, and by far the most popular method is called __TF-IDF-Transformer__."
   ]
  },
  {
   "cell_type": "code",
   "execution_count": 103,
   "metadata": {},
   "outputs": [
    {
     "data": {
      "text/plain": [
       "(146, 709)"
      ]
     },
     "execution_count": 103,
     "metadata": {},
     "output_type": "execute_result"
    }
   ],
   "source": [
    "from sklearn.feature_extraction.text import TfidfTransformer\n",
    "tfidf_transformer = TfidfTransformer()\n",
    "featurevectors = tfidf_transformer.fit_transform(featurevectors)\n",
    "featurevectors.shape"
   ]
  },
  {
   "cell_type": "markdown",
   "metadata": {},
   "source": [
    "##### 3. Encoding the labels to integers:"
   ]
  },
  {
   "cell_type": "code",
   "execution_count": 104,
   "metadata": {
    "scrolled": true
   },
   "outputs": [
    {
     "name": "stdout",
     "output_type": "stream",
     "text": [
      "['finance', 'income', 'leisure', 'living', 'private', 'standardofliving']\n",
      "[2 4 0 5 2 2 5 4 0 2 3 0 2 5 4 4 2 2 3 3 0 2 1 2 3 5 4 1 5 2 3 4 0 3 3 2 0\n",
      " 2 5 0 0 2 0 5 2 5 5 5 1 2 0 5 2 0 3 4 3 5 5 2 0 5 3 2 2 0 5 5 4 2 1 1 2 4\n",
      " 0 2 1 5 4 0 1 0 3 0 4 0 3 3 5 2 0 5 2 3 2 3 2 3 4 5 3 4 2 1 5 0 2 5 2 3 4\n",
      " 2 1 0 5 0 4 5 2 5 2 2 1 0 1 5 4 3 0 2 1 5 1 5 5 2 2 4 2 2 2 5 2 0 3 2]\n"
     ]
    }
   ],
   "source": [
    "from sklearn import preprocessing\n",
    "le = preprocessing.LabelEncoder()\n",
    "le.fit(yt)\n",
    "print(list(le.classes_))\n",
    "classesT = le.transform(yt)\n",
    "print(classesT)"
   ]
  },
  {
   "cell_type": "markdown",
   "metadata": {},
   "source": [
    "#### Training the data with NB:"
   ]
  },
  {
   "cell_type": "code",
   "execution_count": 105,
   "metadata": {},
   "outputs": [
    {
     "data": {
      "text/plain": [
       "MultinomialNB(alpha=1.0, class_prior=None, fit_prior=True)"
      ]
     },
     "execution_count": 105,
     "metadata": {},
     "output_type": "execute_result"
    }
   ],
   "source": [
    "from sklearn.naive_bayes import MultinomialNB\n",
    "clf_M = MultinomialNB()\n",
    "clf_M.fit(featurevectors, classesT)"
   ]
  },
  {
   "cell_type": "code",
   "execution_count": 106,
   "metadata": {},
   "outputs": [
    {
     "data": {
      "text/plain": [
       "ComplementNB(alpha=1.0, class_prior=None, fit_prior=True, norm=False)"
      ]
     },
     "execution_count": 106,
     "metadata": {},
     "output_type": "execute_result"
    }
   ],
   "source": [
    "from sklearn.naive_bayes import ComplementNB\n",
    "clf_C = ComplementNB()\n",
    "clf_C.fit(featurevectors, classesT)"
   ]
  },
  {
   "cell_type": "code",
   "execution_count": 107,
   "metadata": {},
   "outputs": [
    {
     "data": {
      "text/plain": [
       "BernoulliNB(alpha=1.0, binarize=0.0, class_prior=None, fit_prior=True)"
      ]
     },
     "execution_count": 107,
     "metadata": {},
     "output_type": "execute_result"
    }
   ],
   "source": [
    "from sklearn.naive_bayes import BernoulliNB\n",
    "clf_B = BernoulliNB()\n",
    "clf_B.fit(featurevectors, classesT)"
   ]
  },
  {
   "cell_type": "markdown",
   "metadata": {},
   "source": [
    "#### Evaluation of the performance on the test set:"
   ]
  },
  {
   "cell_type": "markdown",
   "metadata": {},
   "source": [
    "##### 1. Test set:"
   ]
  },
  {
   "cell_type": "code",
   "execution_count": 108,
   "metadata": {},
   "outputs": [
    {
     "name": "stdout",
     "output_type": "stream",
     "text": [
      "(63, 709)\n"
     ]
    }
   ],
   "source": [
    "# preparing the testdata for the prediction modelling\n",
    "evalvectors = []\n",
    "for i in range(0, len(Xe[:])):\n",
    "    evalvector = vectorizer.transform([Xe[i,5]]).toarray() #feature selection -Buchungstext-\n",
    "    evalvectors.append(evalvector)\n",
    "    \n",
    "evalvectors = np.array(evalvectors)\n",
    "evalvectors = np.squeeze(evalvectors, axis=1)\n",
    "\n",
    "evalvectors = tfidf_transformer.transform(evalvectors)\n",
    "\n",
    "print(evalvectors.shape)    \n",
    "\n",
    "# manually assigned labels to the testdata\n",
    "le.fit(ye)\n",
    "classesE = le.transform(ye)"
   ]
  },
  {
   "cell_type": "markdown",
   "metadata": {},
   "source": [
    "##### 2. predicted data:"
   ]
  },
  {
   "cell_type": "code",
   "execution_count": 109,
   "metadata": {},
   "outputs": [],
   "source": [
    "classesP_M = clf_M.predict(evalvectors)"
   ]
  },
  {
   "cell_type": "code",
   "execution_count": 110,
   "metadata": {},
   "outputs": [],
   "source": [
    "classesP_C = clf_C.predict(evalvectors)"
   ]
  },
  {
   "cell_type": "code",
   "execution_count": 111,
   "metadata": {},
   "outputs": [],
   "source": [
    "classesP_B = clf_B.predict(evalvectors)"
   ]
  },
  {
   "cell_type": "markdown",
   "metadata": {},
   "source": [
    "##### 3. Performance:"
   ]
  },
  {
   "cell_type": "code",
   "execution_count": 112,
   "metadata": {
    "scrolled": false
   },
   "outputs": [
    {
     "data": {
      "text/plain": [
       "0.8888888888888888"
      ]
     },
     "execution_count": 112,
     "metadata": {},
     "output_type": "execute_result"
    }
   ],
   "source": [
    "np.mean(classesP_M == classesE)"
   ]
  },
  {
   "cell_type": "code",
   "execution_count": 113,
   "metadata": {
    "scrolled": false
   },
   "outputs": [
    {
     "data": {
      "text/plain": [
       "0.873015873015873"
      ]
     },
     "execution_count": 113,
     "metadata": {},
     "output_type": "execute_result"
    }
   ],
   "source": [
    "np.mean(classesP_C == classesE)"
   ]
  },
  {
   "cell_type": "code",
   "execution_count": 114,
   "metadata": {
    "scrolled": false
   },
   "outputs": [
    {
     "data": {
      "text/plain": [
       "0.7936507936507936"
      ]
     },
     "execution_count": 114,
     "metadata": {},
     "output_type": "execute_result"
    }
   ],
   "source": [
    "np.mean(classesP_B == classesE)"
   ]
  },
  {
   "cell_type": "markdown",
   "metadata": {},
   "source": [
    "#### Evaluation Metrics:"
   ]
  },
  {
   "cell_type": "markdown",
   "metadata": {},
   "source": [
    "Since we are dealing with a Multi-Class-Text classification there are two evaluation metrics to be considered the micro- and the macro average."
   ]
  },
  {
   "cell_type": "code",
   "execution_count": 115,
   "metadata": {},
   "outputs": [
    {
     "name": "stdout",
     "output_type": "stream",
     "text": [
      "Classificatin Report MNB\n",
      "                  precision    recall  f1-score   support\n",
      "\n",
      "         finance       1.00      1.00      1.00         8\n",
      "          income       1.00      1.00      1.00         4\n",
      "         leisure       1.00      0.86      0.92        28\n",
      "          living       0.33      0.67      0.44         3\n",
      "         private       0.75      1.00      0.86         3\n",
      "standardofliving       0.88      0.88      0.88        17\n",
      "\n",
      "       micro avg       0.89      0.89      0.89        63\n",
      "       macro avg       0.83      0.90      0.85        63\n",
      "    weighted avg       0.92      0.89      0.90        63\n",
      "\n",
      " \n",
      "Classificatin Report CNB\n",
      "                  precision    recall  f1-score   support\n",
      "\n",
      "         finance       1.00      0.80      0.89        10\n",
      "          income       1.00      1.00      1.00         4\n",
      "         leisure       0.88      0.95      0.91        22\n",
      "          living       0.67      0.57      0.62         7\n",
      "         private       0.75      1.00      0.86         3\n",
      "standardofliving       0.88      0.88      0.88        17\n",
      "\n",
      "       micro avg       0.87      0.87      0.87        63\n",
      "       macro avg       0.86      0.87      0.86        63\n",
      "    weighted avg       0.88      0.87      0.87        63\n",
      "\n",
      " \n",
      "Classificatin Report Bernoulli\n",
      "                  precision    recall  f1-score   support\n",
      "\n",
      "         finance       0.88      1.00      0.93         7\n",
      "          income       1.00      1.00      1.00         4\n",
      "         leisure       1.00      0.65      0.79        37\n",
      "          living       0.17      1.00      0.29         1\n",
      "         private       0.75      1.00      0.86         3\n",
      "standardofliving       0.65      1.00      0.79        11\n",
      "\n",
      "       micro avg       0.79      0.79      0.79        63\n",
      "       macro avg       0.74      0.94      0.77        63\n",
      "    weighted avg       0.90      0.79      0.81        63\n",
      "\n",
      " \n"
     ]
    }
   ],
   "source": [
    "from sklearn import metrics\n",
    "print(\"Classificatin Report MNB\")\n",
    "print(metrics.classification_report(classesP_M, classesE, target_names = list(le.classes_)))\n",
    "print(\" \")\n",
    "print(\"Classificatin Report CNB\")\n",
    "print(metrics.classification_report(classesP_C, classesE, target_names = list(le.classes_)))\n",
    "print(\" \")\n",
    "print(\"Classificatin Report Bernoulli\")\n",
    "print(metrics.classification_report(classesP_B, classesE, target_names = list(le.classes_)))\n",
    "print(\" \")"
   ]
  },
  {
   "cell_type": "code",
   "execution_count": 116,
   "metadata": {
    "scrolled": true
   },
   "outputs": [
    {
     "name": "stdout",
     "output_type": "stream",
     "text": [
      "Confussion Matrix MNB\n",
      "[[ 8  0  0  0  0  0]\n",
      " [ 0  4  0  0  0  0]\n",
      " [ 0  0 24  0  0  0]\n",
      " [ 0  0  2  2  0  2]\n",
      " [ 0  0  0  1  3  0]\n",
      " [ 0  0  2  0  0 15]]\n",
      " \n",
      "Confussion Matrix MNB\n",
      "[[ 8  0  0  0  0  0]\n",
      " [ 0  4  0  0  0  0]\n",
      " [ 1  0 21  2  0  0]\n",
      " [ 0  0  0  4  0  2]\n",
      " [ 0  0  0  1  3  0]\n",
      " [ 1  0  1  0  0 15]]\n",
      " \n",
      "Confussion Matrix MNB\n",
      "[[ 7  0  1  0  0  0]\n",
      " [ 0  4  0  0  0  0]\n",
      " [ 0  0 24  0  0  0]\n",
      " [ 0  0  5  1  0  0]\n",
      " [ 0  0  1  0  3  0]\n",
      " [ 0  0  6  0  0 11]]\n",
      " \n"
     ]
    }
   ],
   "source": [
    "print(\"Confussion Matrix MNB\")\n",
    "print(metrics.confusion_matrix(classesE, classesP_M))\n",
    "print(\" \")\n",
    "print(\"Confussion Matrix MNB\")\n",
    "print(metrics.confusion_matrix(classesE, classesP_C))\n",
    "print(\" \")\n",
    "print(\"Confussion Matrix MNB\")\n",
    "print(metrics.confusion_matrix(classesE, classesP_B))\n",
    "print(\" \")\n"
   ]
  },
  {
   "cell_type": "markdown",
   "metadata": {},
   "source": [
    "### Conclusion"
   ]
  },
  {
   "cell_type": "markdown",
   "metadata": {},
   "source": [
    "It seems that the CNB in general performs better than MNB as expected. Whereas the Bernoulli model shows good performance in the first section where the feature selection is based on their mutual information and bad performance where we manually have chosen the feature \"Verwendungszweck\". An explanation for the bad performance of the Bernoulli model leads back to its methodology. The Bernoulli uses binary occurrence information, ignoring the number of occurrences, which is one indicator, that can lead to bad performance. For example, it may assign an transaction just because of the appearance of a specific word in the selected feature. Since the feature we have selected usually contains more than just one word not every word must have a high mutual information value or must be of great importance which in the MultinomialNB is weighted based on the relative frequency of the word/term occuring in the class. Ignoring this information can lead the Bernoulli Model to bad predictions, since it weights some terms more than needed. Otherwise it could perform very well if all the terms/words/features were chosen throughout a feature selection method, as seen in the first section, where we have chosen the feature based on MI-value.    "
   ]
  },
  {
   "cell_type": "markdown",
   "metadata": {},
   "source": [
    "Another important thing to mention, is that the performance with the manually chosen feature performs much better than the one with a feature selection method from scikit-learn. Regarding this I am not really sure, whether the second classification method is an issue of overfitting and the first one a more generalized one. However MI is a greedy method, which means it may select features that contribute no incremental information over previously selected features. In other words, in the first 20 selected features there maybe some of them to be redundant and such redundancy can negatively impact accuracy.<cite data-cite=\"undefined\"></cite>. We can now come to a final conclusion that CNB seems to perform very stable as a Naive Bayes classifier and maybe a manual selection of features at small data sets is more recommended for better performance results."
   ]
  },
  {
   "cell_type": "markdown",
   "metadata": {},
   "source": [
    "As a last resort to mention, the naive bayes classifier based on its precondition of independency between its features may not be the best choise as classifier but regarding the computational cost one of the cheapest."
   ]
  },
  {
   "cell_type": "markdown",
   "metadata": {},
   "source": [
    "### References"
   ]
  },
  {
   "cell_type": "markdown",
   "metadata": {},
   "source": [
    "<div class=\"cite2c-biblio\"></div>"
   ]
  }
 ],
 "metadata": {
  "cite2c": {
   "citations": {
    "6943456/FDKSVQ6C": {
     "URL": "https://towardsdatascience.com/train-test-split-and-cross-validation-in-python-80b61beca4b6",
     "author": [
      {
       "family": "Bronshtein",
       "given": "Adi"
      }
     ],
     "container-title": "Train/Test Split and Cross Validation in Python",
     "id": "6943456/FDKSVQ6C",
     "issued": {
      "year": 2017
     },
     "title": "Train/Test Split and Cross Validation in Python",
     "type": "webpage"
    },
    "6943456/JT8CP3VP": {
     "author": [
      {
       "family": "Manning",
       "given": ""
      },
      {
       "family": "Christopher and Raghavan",
       "given": ""
      },
      {
       "family": "Prabhakar and Schütze",
       "given": ""
      },
      {
       "family": "Hinrich",
       "given": ""
      }
     ],
     "call-number": "1",
     "id": "undefined",
     "issued": {
      "year": 2010
     },
     "publisher": "Cambridge university press",
     "title": "Introduction to information retrieval",
     "type": "book",
     "volume": "16"
    },
    "6943456/MVIWDKMS": {
     "author": [
      {
       "family": "Pedregosa",
       "given": ""
      },
      {
       "family": "F. and Varoquaux",
       "given": ""
      },
      {
       "family": "G. and Gramfort",
       "given": ""
      },
      {
       "family": "A. and Michel",
       "given": ""
      },
      {
       "family": "V. and Thirion",
       "given": ""
      },
      {
       "family": "B. and Grisel",
       "given": ""
      },
      {
       "family": "O. and Blondel",
       "given": ""
      },
      {
       "family": "M. and Prettenhofer",
       "given": ""
      },
      {
       "family": "P. and Weiss",
       "given": ""
      },
      {
       "family": "R. and Dubourg",
       "given": ""
      },
      {
       "family": "V. and Vanderplas",
       "given": ""
      },
      {
       "family": "J. and Passos",
       "given": ""
      },
      {
       "family": "A. and Cournapeau",
       "given": ""
      },
      {
       "family": "D. and Brucher",
       "given": ""
      },
      {
       "family": "M. and Perrot",
       "given": ""
      },
      {
       "family": "M. and Duchesnay",
       "given": ""
      },
      {
       "family": "E.",
       "given": ""
      }
     ],
     "collection-title": "Journal of Machine Learning Research",
     "id": "6943456/MVIWDKMS",
     "issued": {
      "year": 2011
     },
     "title": "Scikit-learn: Machine Learning in {P}ython",
     "type": "article-journal",
     "volume": "12"
    },
    "6943456/XRDAPUM7": {
     "author": [
      {
       "family": "Rennie",
       "given": ""
      },
      {
       "family": "Jason D and Shih",
       "given": ""
      },
      {
       "family": "Lawrence and Teevan",
       "given": ""
      },
      {
       "family": "Jaime and Karger",
       "given": ""
      },
      {
       "family": "David R",
       "given": ""
      }
     ],
     "collection-title": "Proceedings of the 20th international conference on machine learning (ICML-03)",
     "id": "6943456/XRDAPUM7",
     "issued": {
      "year": 2003
     },
     "title": "Tackling the poor assumptions of naive bayes text classifiers",
     "type": "article-journal"
    },
    "undefined": {
     "author": [
      {
       "family": "Manning",
       "given": ""
      },
      {
       "family": "Christopher and Raghavan",
       "given": ""
      },
      {
       "family": "Prabhakar and Schütze",
       "given": ""
      },
      {
       "family": "Hinrich",
       "given": ""
      }
     ],
     "call-number": "1",
     "id": "undefined",
     "issued": {
      "year": 2010
     },
     "publisher": "Cambridge university press",
     "title": "Introduction to information retrieval",
     "type": "book",
     "volume": "16"
    }
   }
  },
  "kernelspec": {
   "display_name": "Python 3",
   "language": "python",
   "name": "python3"
  },
  "language_info": {
   "codemirror_mode": {
    "name": "ipython",
    "version": 3
   },
   "file_extension": ".py",
   "mimetype": "text/x-python",
   "name": "python",
   "nbconvert_exporter": "python",
   "pygments_lexer": "ipython3",
   "version": "3.7.3"
  },
  "latex_envs": {
   "LaTeX_envs_menu_present": true,
   "autoclose": false,
   "autocomplete": true,
   "bibliofile": "biblio.bib",
   "cite_by": "apalike",
   "current_citInitial": 1,
   "eqLabelWithNumbers": true,
   "eqNumInitial": 1,
   "hotkeys": {
    "equation": "Ctrl-E",
    "itemize": "Ctrl-I"
   },
   "labels_anchors": false,
   "latex_user_defs": false,
   "report_style_numbering": false,
   "user_envs_cfg": false
  }
 },
 "nbformat": 4,
 "nbformat_minor": 2
}
